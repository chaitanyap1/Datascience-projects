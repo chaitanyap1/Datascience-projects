{
  "nbformat": 4,
  "nbformat_minor": 0,
  "metadata": {
    "colab": {
      "name": "Quora questions.ipynb",
      "provenance": [],
      "collapsed_sections": [],
      "machine_shape": "hm",
      "include_colab_link": true
    },
    "kernelspec": {
      "name": "python3",
      "display_name": "Python 3"
    },
    "accelerator": "TPU"
  },
  "cells": [
    {
      "cell_type": "markdown",
      "metadata": {
        "id": "view-in-github",
        "colab_type": "text"
      },
      "source": [
        "<a href=\"https://colab.research.google.com/github/chaitanyap1/Datascience-projects/blob/master/Quora_questions.ipynb\" target=\"_parent\"><img src=\"https://colab.research.google.com/assets/colab-badge.svg\" alt=\"Open In Colab\"/></a>"
      ]
    },
    {
      "cell_type": "code",
      "metadata": {
        "id": "Go-jhsLML0n7",
        "colab_type": "code",
        "colab": {
          "base_uri": "https://localhost:8080/",
          "height": 129
        },
        "outputId": "e3cb40d6-df5a-49a0-f7ea-6ed2e5963c96"
      },
      "source": [
        "from google.colab import drive\n",
        "drive.mount('/content/drive')"
      ],
      "execution_count": 1,
      "outputs": [
        {
          "output_type": "stream",
          "text": [
            "Go to this URL in a browser: https://accounts.google.com/o/oauth2/auth?client_id=947318989803-6bn6qk8qdgf4n4g3pfee6491hc0brc4i.apps.googleusercontent.com&redirect_uri=urn%3aietf%3awg%3aoauth%3a2.0%3aoob&response_type=code&scope=email%20https%3a%2f%2fwww.googleapis.com%2fauth%2fdocs.test%20https%3a%2f%2fwww.googleapis.com%2fauth%2fdrive%20https%3a%2f%2fwww.googleapis.com%2fauth%2fdrive.photos.readonly%20https%3a%2f%2fwww.googleapis.com%2fauth%2fpeopleapi.readonly\n",
            "\n",
            "Enter your authorization code:\n",
            "··········\n",
            "Mounted at /content/drive\n"
          ],
          "name": "stdout"
        }
      ]
    },
    {
      "cell_type": "code",
      "metadata": {
        "id": "5bCBFmlLMdiG",
        "colab_type": "code",
        "colab": {}
      },
      "source": [
        "import pandas as pd"
      ],
      "execution_count": 0,
      "outputs": []
    },
    {
      "cell_type": "code",
      "metadata": {
        "id": "AIsgl_OnMIYx",
        "colab_type": "code",
        "colab": {}
      },
      "source": [
        "copied_path = '/content/drive/My Drive/P3 Quora Text Classification with embeddings/train.csv'\n",
        "question = pd.read_csv(copied_path)"
      ],
      "execution_count": 0,
      "outputs": []
    },
    {
      "cell_type": "code",
      "metadata": {
        "id": "UmK_bsNnM1yS",
        "colab_type": "code",
        "colab": {
          "base_uri": "https://localhost:8080/",
          "height": 206
        },
        "outputId": "57aba905-5ef7-4829-f9a9-f312e7ec98fa"
      },
      "source": [
        "question.head()"
      ],
      "execution_count": 5,
      "outputs": [
        {
          "output_type": "execute_result",
          "data": {
            "text/html": [
              "<div>\n",
              "<style scoped>\n",
              "    .dataframe tbody tr th:only-of-type {\n",
              "        vertical-align: middle;\n",
              "    }\n",
              "\n",
              "    .dataframe tbody tr th {\n",
              "        vertical-align: top;\n",
              "    }\n",
              "\n",
              "    .dataframe thead th {\n",
              "        text-align: right;\n",
              "    }\n",
              "</style>\n",
              "<table border=\"1\" class=\"dataframe\">\n",
              "  <thead>\n",
              "    <tr style=\"text-align: right;\">\n",
              "      <th></th>\n",
              "      <th>qid</th>\n",
              "      <th>question_text</th>\n",
              "      <th>target</th>\n",
              "    </tr>\n",
              "  </thead>\n",
              "  <tbody>\n",
              "    <tr>\n",
              "      <th>0</th>\n",
              "      <td>00002165364db923c7e6</td>\n",
              "      <td>How did Quebec nationalists see their province...</td>\n",
              "      <td>0</td>\n",
              "    </tr>\n",
              "    <tr>\n",
              "      <th>1</th>\n",
              "      <td>000032939017120e6e44</td>\n",
              "      <td>Do you have an adopted dog, how would you enco...</td>\n",
              "      <td>0</td>\n",
              "    </tr>\n",
              "    <tr>\n",
              "      <th>2</th>\n",
              "      <td>0000412ca6e4628ce2cf</td>\n",
              "      <td>Why does velocity affect time? Does velocity a...</td>\n",
              "      <td>0</td>\n",
              "    </tr>\n",
              "    <tr>\n",
              "      <th>3</th>\n",
              "      <td>000042bf85aa498cd78e</td>\n",
              "      <td>How did Otto von Guericke used the Magdeburg h...</td>\n",
              "      <td>0</td>\n",
              "    </tr>\n",
              "    <tr>\n",
              "      <th>4</th>\n",
              "      <td>0000455dfa3e01eae3af</td>\n",
              "      <td>Can I convert montra helicon D to a mountain b...</td>\n",
              "      <td>0</td>\n",
              "    </tr>\n",
              "  </tbody>\n",
              "</table>\n",
              "</div>"
            ],
            "text/plain": [
              "                    qid  ... target\n",
              "0  00002165364db923c7e6  ...      0\n",
              "1  000032939017120e6e44  ...      0\n",
              "2  0000412ca6e4628ce2cf  ...      0\n",
              "3  000042bf85aa498cd78e  ...      0\n",
              "4  0000455dfa3e01eae3af  ...      0\n",
              "\n",
              "[5 rows x 3 columns]"
            ]
          },
          "metadata": {
            "tags": []
          },
          "execution_count": 5
        }
      ]
    },
    {
      "cell_type": "code",
      "metadata": {
        "id": "UWcLK1Lg3x15",
        "colab_type": "code",
        "outputId": "eac0fa04-73dd-49a4-df1c-d4b6f9fee362",
        "colab": {
          "base_uri": "https://localhost:8080/",
          "height": 100
        }
      },
      "source": [
        "import warnings\n",
        "warnings.filterwarnings('ignore')\n",
        "import pandas as pd\n",
        "import numpy as np\n",
        "\n",
        "from keras.models import Sequential\n",
        "#from keras.layers.recurrent import LSTM,GRU\n",
        "#from keras.layers.core import Dense, Activation, Dropout\n",
        "from sklearn.metrics import roc_auc_score, accuracy_score\n",
        "#from sklearn.utils import shuffle\n",
        "from keras.callbacks import ModelCheckpoint\n",
        "from keras.callbacks import EarlyStopping\n",
        "from keras import models\n",
        "from keras.models import load_model\n",
        "\n",
        "from keras.preprocessing.text import Tokenizer\n",
        "from keras.preprocessing import sequence\n",
        "from keras.layers import LSTM, Activation, Dense, Input, Embedding, Dropout\n",
        "from keras.models import Model\n",
        "from nltk import word_tokenize\n",
        "\n",
        "from sklearn.model_selection import train_test_split\n",
        "from sklearn.utils import class_weight"
      ],
      "execution_count": 6,
      "outputs": [
        {
          "output_type": "stream",
          "text": [
            "Using TensorFlow backend.\n"
          ],
          "name": "stderr"
        },
        {
          "output_type": "display_data",
          "data": {
            "text/html": [
              "<p style=\"color: red;\">\n",
              "The default version of TensorFlow in Colab will soon switch to TensorFlow 2.x.<br>\n",
              "We recommend you <a href=\"https://www.tensorflow.org/guide/migrate\" target=\"_blank\">upgrade</a> now \n",
              "or ensure your notebook will continue to use TensorFlow 1.x via the <code>%tensorflow_version 1.x</code> magic:\n",
              "<a href=\"https://colab.research.google.com/notebooks/tensorflow_version.ipynb\" target=\"_blank\">more info</a>.</p>\n"
            ],
            "text/plain": [
              "<IPython.core.display.HTML object>"
            ]
          },
          "metadata": {
            "tags": []
          }
        }
      ]
    },
    {
      "cell_type": "code",
      "metadata": {
        "id": "ZkpIlugB9ujO",
        "colab_type": "code",
        "colab": {}
      },
      "source": [
        "embedding_index ={}\n",
        "\n",
        "f = open('/content/drive/My Drive/glove.42B.300d.txt', encoding='utf-8')\n",
        "for line in f:\n",
        "  values = line.split()\n",
        "  word = values[0]\n",
        "  coefs = np.asarray(values[1:], dtype ='float32')\n",
        "  embedding_index[word] = coefs\n",
        "f.close()"
      ],
      "execution_count": 0,
      "outputs": []
    },
    {
      "cell_type": "code",
      "metadata": {
        "id": "-H6CCoyp4gAR",
        "colab_type": "code",
        "outputId": "d0fd4811-f4fc-4c6c-be5a-6beac3ce3feb",
        "colab": {
          "base_uri": "https://localhost:8080/",
          "height": 225
        }
      },
      "source": [
        "print(question.shape)\n",
        "question.head()"
      ],
      "execution_count": 9,
      "outputs": [
        {
          "output_type": "stream",
          "text": [
            "(1306122, 3)\n"
          ],
          "name": "stdout"
        },
        {
          "output_type": "execute_result",
          "data": {
            "text/html": [
              "<div>\n",
              "<style scoped>\n",
              "    .dataframe tbody tr th:only-of-type {\n",
              "        vertical-align: middle;\n",
              "    }\n",
              "\n",
              "    .dataframe tbody tr th {\n",
              "        vertical-align: top;\n",
              "    }\n",
              "\n",
              "    .dataframe thead th {\n",
              "        text-align: right;\n",
              "    }\n",
              "</style>\n",
              "<table border=\"1\" class=\"dataframe\">\n",
              "  <thead>\n",
              "    <tr style=\"text-align: right;\">\n",
              "      <th></th>\n",
              "      <th>qid</th>\n",
              "      <th>question_text</th>\n",
              "      <th>target</th>\n",
              "    </tr>\n",
              "  </thead>\n",
              "  <tbody>\n",
              "    <tr>\n",
              "      <th>0</th>\n",
              "      <td>00002165364db923c7e6</td>\n",
              "      <td>How did Quebec nationalists see their province...</td>\n",
              "      <td>0</td>\n",
              "    </tr>\n",
              "    <tr>\n",
              "      <th>1</th>\n",
              "      <td>000032939017120e6e44</td>\n",
              "      <td>Do you have an adopted dog, how would you enco...</td>\n",
              "      <td>0</td>\n",
              "    </tr>\n",
              "    <tr>\n",
              "      <th>2</th>\n",
              "      <td>0000412ca6e4628ce2cf</td>\n",
              "      <td>Why does velocity affect time? Does velocity a...</td>\n",
              "      <td>0</td>\n",
              "    </tr>\n",
              "    <tr>\n",
              "      <th>3</th>\n",
              "      <td>000042bf85aa498cd78e</td>\n",
              "      <td>How did Otto von Guericke used the Magdeburg h...</td>\n",
              "      <td>0</td>\n",
              "    </tr>\n",
              "    <tr>\n",
              "      <th>4</th>\n",
              "      <td>0000455dfa3e01eae3af</td>\n",
              "      <td>Can I convert montra helicon D to a mountain b...</td>\n",
              "      <td>0</td>\n",
              "    </tr>\n",
              "  </tbody>\n",
              "</table>\n",
              "</div>"
            ],
            "text/plain": [
              "                    qid  ... target\n",
              "0  00002165364db923c7e6  ...      0\n",
              "1  000032939017120e6e44  ...      0\n",
              "2  0000412ca6e4628ce2cf  ...      0\n",
              "3  000042bf85aa498cd78e  ...      0\n",
              "4  0000455dfa3e01eae3af  ...      0\n",
              "\n",
              "[5 rows x 3 columns]"
            ]
          },
          "metadata": {
            "tags": []
          },
          "execution_count": 9
        }
      ]
    },
    {
      "cell_type": "code",
      "metadata": {
        "id": "daJ5hVY3VVfE",
        "colab_type": "code",
        "outputId": "41495976-f698-47ad-a2d1-89aeb9c1c674",
        "colab": {
          "base_uri": "https://localhost:8080/",
          "height": 35
        }
      },
      "source": [
        "X = question['question_text']\n",
        "Y = question['target']\n",
        "x_train, x_test, y_train, y_test = train_test_split(X,Y,test_size=0.2)\n",
        "x_train.shape, y_train.shape, x_test.shape, y_test.shape"
      ],
      "execution_count": 10,
      "outputs": [
        {
          "output_type": "execute_result",
          "data": {
            "text/plain": [
              "((1044897,), (1044897,), (261225,), (261225,))"
            ]
          },
          "metadata": {
            "tags": []
          },
          "execution_count": 10
        }
      ]
    },
    {
      "cell_type": "code",
      "metadata": {
        "id": "r_-9ByGgnyG-",
        "colab_type": "code",
        "outputId": "8e178576-5706-4002-8781-07cae8e62d35",
        "colab": {
          "base_uri": "https://localhost:8080/",
          "height": 72
        }
      },
      "source": [
        "y_test.value_counts()"
      ],
      "execution_count": 11,
      "outputs": [
        {
          "output_type": "execute_result",
          "data": {
            "text/plain": [
              "0    245102\n",
              "1     16123\n",
              "Name: target, dtype: int64"
            ]
          },
          "metadata": {
            "tags": []
          },
          "execution_count": 11
        }
      ]
    },
    {
      "cell_type": "code",
      "metadata": {
        "id": "d_mTWfC5j7f1",
        "colab_type": "code",
        "outputId": "a672e2c3-5de2-48f9-c30d-18dcc43cd3a1",
        "colab": {
          "base_uri": "https://localhost:8080/",
          "height": 54
        }
      },
      "source": [
        "class_weight = class_weight.compute_class_weight('balanced', \n",
        "                                                 np.unique(y_train), \n",
        "                                                    y_train)\n",
        "print(class_weight)\n",
        "class_weight_dict = dict(enumerate(class_weight))\n",
        "class_weight_dict"
      ],
      "execution_count": 12,
      "outputs": [
        {
          "output_type": "stream",
          "text": [
            "[0.5329965  8.07656098]\n"
          ],
          "name": "stdout"
        },
        {
          "output_type": "execute_result",
          "data": {
            "text/plain": [
              "{0: 0.5329965007498393, 1: 8.076560978249107}"
            ]
          },
          "metadata": {
            "tags": []
          },
          "execution_count": 12
        }
      ]
    },
    {
      "cell_type": "code",
      "metadata": {
        "id": "vUN2dkmwCDIF",
        "colab_type": "code",
        "outputId": "98ac53cb-f53e-4373-eaf4-292533ac5051",
        "colab": {
          "base_uri": "https://localhost:8080/",
          "height": 237
        }
      },
      "source": [
        "x_train"
      ],
      "execution_count": 13,
      "outputs": [
        {
          "output_type": "execute_result",
          "data": {
            "text/plain": [
              "771247     Why do Pakistani commuter bikes have old desig...\n",
              "623410     Do non visa, green card or other illegal worke...\n",
              "139604     Do you think someone does themselves a service...\n",
              "1293300    Where can I read about Democrat plans to manag...\n",
              "1131214                   How do I meet gay men from bilbao?\n",
              "                                 ...                        \n",
              "736895     What are the best ways to help a confabulator ...\n",
              "33590      What do you do when someone plays a practical ...\n",
              "510765     Is pulling a trigger on yourself in the head p...\n",
              "251037     Are varginas supposed to be pink or red inside...\n",
              "488022     How do you control your mind and your actions ...\n",
              "Name: question_text, Length: 1044897, dtype: object"
            ]
          },
          "metadata": {
            "tags": []
          },
          "execution_count": 13
        }
      ]
    },
    {
      "cell_type": "code",
      "metadata": {
        "id": "tsX-uA4S9cMI",
        "colab_type": "code",
        "outputId": "b48a5998-6a86-4edd-9f8f-0e4d37fb8b2a",
        "colab": {
          "base_uri": "https://localhost:8080/",
          "height": 72
        }
      },
      "source": [
        "import nltk\n",
        "nltk.download('punkt')  "
      ],
      "execution_count": 14,
      "outputs": [
        {
          "output_type": "stream",
          "text": [
            "[nltk_data] Downloading package punkt to /root/nltk_data...\n",
            "[nltk_data]   Unzipping tokenizers/punkt.zip.\n"
          ],
          "name": "stdout"
        },
        {
          "output_type": "execute_result",
          "data": {
            "text/plain": [
              "True"
            ]
          },
          "metadata": {
            "tags": []
          },
          "execution_count": 14
        }
      ]
    },
    {
      "cell_type": "code",
      "metadata": {
        "id": "FOcZTWOY8wyL",
        "colab_type": "code",
        "outputId": "d98c8a36-03f5-42b9-bc29-b02b3a42923a",
        "colab": {
          "base_uri": "https://localhost:8080/",
          "height": 35
        }
      },
      "source": [
        "sent_lens=[len(word_tokenize(x)) for x in x_train]\n",
        "print(max(sent_lens))"
      ],
      "execution_count": 15,
      "outputs": [
        {
          "output_type": "stream",
          "text": [
            "412\n"
          ],
          "name": "stdout"
        }
      ]
    },
    {
      "cell_type": "code",
      "metadata": {
        "id": "x4UBk_ZVC4iS",
        "colab_type": "code",
        "outputId": "86c9d6a0-c523-47d2-d403-8eb1b45e3df1",
        "colab": {
          "base_uri": "https://localhost:8080/",
          "height": 54
        }
      },
      "source": [
        "print(np.percentile(sent_lens,99))\n",
        "np.percentile(sent_lens,95)"
      ],
      "execution_count": 16,
      "outputs": [
        {
          "output_type": "stream",
          "text": [
            "45.0\n"
          ],
          "name": "stdout"
        },
        {
          "output_type": "execute_result",
          "data": {
            "text/plain": [
              "31.0"
            ]
          },
          "metadata": {
            "tags": []
          },
          "execution_count": 16
        }
      ]
    },
    {
      "cell_type": "code",
      "metadata": {
        "id": "ppz92wkx_nK-",
        "colab_type": "code",
        "outputId": "5fc1b15a-1e59-4a10-ae0e-c3e960e8dd3f",
        "colab": {
          "base_uri": "https://localhost:8080/",
          "height": 35
        }
      },
      "source": [
        "max_len=45\n",
        "\n",
        "tk=Tokenizer(char_level=False,split=' ')\n",
        "tk.fit_on_texts(x_train)\n",
        "print(x_train.shape)"
      ],
      "execution_count": 17,
      "outputs": [
        {
          "output_type": "stream",
          "text": [
            "(1044897,)\n"
          ],
          "name": "stdout"
        }
      ]
    },
    {
      "cell_type": "code",
      "metadata": {
        "id": "9Qz9KpneDu-K",
        "colab_type": "code",
        "colab": {}
      },
      "source": [
        "seq_train=tk.texts_to_sequences(x_train)\n",
        "seq_test=tk.texts_to_sequences(x_test)"
      ],
      "execution_count": 0,
      "outputs": []
    },
    {
      "cell_type": "code",
      "metadata": {
        "id": "ngGjBHP8_peZ",
        "colab_type": "code",
        "outputId": "36ad0b73-2d80-4891-e301-19dc6c80b101",
        "colab": {
          "base_uri": "https://localhost:8080/",
          "height": 35
        }
      },
      "source": [
        "vocab_size=len(tk.word_index)\n",
        "vocab_size"
      ],
      "execution_count": 19,
      "outputs": [
        {
          "output_type": "execute_result",
          "data": {
            "text/plain": [
              "196288"
            ]
          },
          "metadata": {
            "tags": []
          },
          "execution_count": 19
        }
      ]
    },
    {
      "cell_type": "code",
      "metadata": {
        "id": "IgKSzM_x_seK",
        "colab_type": "code",
        "outputId": "48c30e2f-f71c-4de1-a56c-a01990a35a1a",
        "colab": {
          "base_uri": "https://localhost:8080/",
          "height": 35
        }
      },
      "source": [
        "seq_train_matrix=sequence.pad_sequences(seq_train,maxlen=max_len)\n",
        "seq_test_matrix=sequence.pad_sequences(seq_test,maxlen=max_len)\n",
        "seq_train_matrix.shape, seq_test_matrix.shape"
      ],
      "execution_count": 20,
      "outputs": [
        {
          "output_type": "execute_result",
          "data": {
            "text/plain": [
              "((1044897, 45), (261225, 45))"
            ]
          },
          "metadata": {
            "tags": []
          },
          "execution_count": 20
        }
      ]
    },
    {
      "cell_type": "code",
      "metadata": {
        "id": "8Ny9fQMsChjw",
        "colab_type": "code",
        "colab": {}
      },
      "source": [
        "embedding_matrix=np.zeros((vocab_size+1,300))\n",
        "\n",
        "for word,i in tk.word_index.items():\n",
        "    embed_vector=embedding_index.get(word)\n",
        "    if embed_vector is not None:\n",
        "        embedding_matrix[i]=embed_vector"
      ],
      "execution_count": 0,
      "outputs": []
    },
    {
      "cell_type": "code",
      "metadata": {
        "id": "An0sLhUtCqS6",
        "colab_type": "code",
        "colab": {}
      },
      "source": [
        "inputs = Input(name='text_input',shape=[max_len])\n",
        "embed=Embedding(vocab_size+1,300,input_length=max_len,mask_zero=True,\n",
        "                weights=[embedding_matrix],trainable=False)(inputs)\n",
        "lstm_layer1 = LSTM(512)(embed)\n",
        "drop1 = Dropout(0.2)(lstm_layer1)\n",
        "lstm_layer2 = Dense(256,activation='relu')(drop1)\n",
        "drop2 = Dropout(0.2)(lstm_layer2)\n",
        "lstm_layer3 = Dense(128,activation='relu')(drop2)\n",
        "drop3 = Dropout(0.2)(lstm_layer3)\n",
        "dense1 = Dense(25,activation='relu')(lstm_layer3)\n",
        "drop4 = Dropout(0.2)(dense1)\n",
        "final_layer = Dense(1,activation='sigmoid')(drop4)\n",
        "\n",
        "model = Model(inputs=inputs,outputs=final_layer)"
      ],
      "execution_count": 0,
      "outputs": []
    },
    {
      "cell_type": "code",
      "metadata": {
        "id": "LLSWQ6ssG8-A",
        "colab_type": "code",
        "outputId": "061e2c72-b65b-4cf8-db81-dea708f8c0b1",
        "colab": {
          "base_uri": "https://localhost:8080/",
          "height": 531
        }
      },
      "source": [
        "model.summary()"
      ],
      "execution_count": 25,
      "outputs": [
        {
          "output_type": "stream",
          "text": [
            "Model: \"model_2\"\n",
            "_________________________________________________________________\n",
            "Layer (type)                 Output Shape              Param #   \n",
            "=================================================================\n",
            "text_input (InputLayer)      (None, 45)                0         \n",
            "_________________________________________________________________\n",
            "embedding_2 (Embedding)      (None, 45, 300)           58886700  \n",
            "_________________________________________________________________\n",
            "lstm_2 (LSTM)                (None, 512)               1665024   \n",
            "_________________________________________________________________\n",
            "dropout_5 (Dropout)          (None, 512)               0         \n",
            "_________________________________________________________________\n",
            "dense_5 (Dense)              (None, 256)               131328    \n",
            "_________________________________________________________________\n",
            "dropout_6 (Dropout)          (None, 256)               0         \n",
            "_________________________________________________________________\n",
            "dense_6 (Dense)              (None, 128)               32896     \n",
            "_________________________________________________________________\n",
            "dense_7 (Dense)              (None, 25)                3225      \n",
            "_________________________________________________________________\n",
            "dropout_8 (Dropout)          (None, 25)                0         \n",
            "_________________________________________________________________\n",
            "dense_8 (Dense)              (None, 1)                 26        \n",
            "=================================================================\n",
            "Total params: 60,719,199\n",
            "Trainable params: 1,832,499\n",
            "Non-trainable params: 58,886,700\n",
            "_________________________________________________________________\n"
          ],
          "name": "stdout"
        }
      ]
    },
    {
      "cell_type": "code",
      "metadata": {
        "id": "DNhjmXBfpbVu",
        "colab_type": "code",
        "colab": {}
      },
      "source": [
        "filepath='/content/drive/My Drive/weights-{epoch:02d}-{val_loss:.4f}.h5'\n",
        "checkpoint = ModelCheckpoint(filepath, monitor='val_loss', verbose=1, \n",
        "                             save_best_only=True)"
      ],
      "execution_count": 0,
      "outputs": []
    },
    {
      "cell_type": "code",
      "metadata": {
        "id": "JJVORN3kp5gZ",
        "colab_type": "code",
        "colab": {}
      },
      "source": [
        "earlystop = EarlyStopping(monitor='val_loss', patience=3,\n",
        "                          verbose=1)"
      ],
      "execution_count": 0,
      "outputs": []
    },
    {
      "cell_type": "code",
      "metadata": {
        "id": "DnR71zKRHo0I",
        "colab_type": "code",
        "colab": {}
      },
      "source": [
        "model.compile(optimizer='adam',loss='binary_crossentropy',metrics=['accuracy'])"
      ],
      "execution_count": 0,
      "outputs": []
    },
    {
      "cell_type": "code",
      "metadata": {
        "id": "rb_VvjWEHy_F",
        "colab_type": "code",
        "outputId": "3660104e-8e48-48b7-da30-cda9df8a34f1",
        "colab": {
          "base_uri": "https://localhost:8080/",
          "height": 882
        }
      },
      "source": [
        "model.fit(seq_train_matrix,y_train,\n",
        "              epochs=10,\n",
        "              class_weight={0: 0.5328573351855138, 1: 8.108651115146436},\n",
        "              batch_size=10000,\n",
        "              validation_data=(seq_test_matrix,y_test),\n",
        "              callbacks = [earlystop, checkpoint])"
      ],
      "execution_count": 30,
      "outputs": [
        {
          "output_type": "stream",
          "text": [
            "WARNING:tensorflow:From /usr/local/lib/python3.6/dist-packages/keras/backend/tensorflow_backend.py:1033: The name tf.assign_add is deprecated. Please use tf.compat.v1.assign_add instead.\n",
            "\n",
            "WARNING:tensorflow:From /usr/local/lib/python3.6/dist-packages/keras/backend/tensorflow_backend.py:1020: The name tf.assign is deprecated. Please use tf.compat.v1.assign instead.\n",
            "\n",
            "Train on 1044897 samples, validate on 261225 samples\n",
            "Epoch 1/10\n",
            "1044897/1044897 [==============================] - 870s 833us/step - loss: 0.3474 - acc: 0.8387 - val_loss: 0.3147 - val_acc: 0.8749\n",
            "\n",
            "Epoch 00001: val_loss improved from inf to 0.31472, saving model to /content/drive/My Drive/weights-01-0.3147.h5\n",
            "Epoch 2/10\n",
            "1044897/1044897 [==============================] - 848s 811us/step - loss: 0.2856 - acc: 0.8807 - val_loss: 0.2698 - val_acc: 0.8832\n",
            "\n",
            "Epoch 00002: val_loss improved from 0.31472 to 0.26981, saving model to /content/drive/My Drive/weights-02-0.2698.h5\n",
            "Epoch 3/10\n",
            "1044897/1044897 [==============================] - 823s 787us/step - loss: 0.2647 - acc: 0.8893 - val_loss: 0.2380 - val_acc: 0.8980\n",
            "\n",
            "Epoch 00003: val_loss improved from 0.26981 to 0.23804, saving model to /content/drive/My Drive/weights-03-0.2380.h5\n",
            "Epoch 4/10\n",
            "1044897/1044897 [==============================] - 821s 786us/step - loss: 0.2480 - acc: 0.8947 - val_loss: 0.2195 - val_acc: 0.9087\n",
            "\n",
            "Epoch 00004: val_loss improved from 0.23804 to 0.21953, saving model to /content/drive/My Drive/weights-04-0.2195.h5\n",
            "Epoch 5/10\n",
            "1044897/1044897 [==============================] - 832s 796us/step - loss: 0.2347 - acc: 0.8984 - val_loss: 0.2471 - val_acc: 0.8914\n",
            "\n",
            "Epoch 00005: val_loss did not improve from 0.21953\n",
            "Epoch 6/10\n",
            "1044897/1044897 [==============================] - 814s 779us/step - loss: 0.2233 - acc: 0.9005 - val_loss: 0.2555 - val_acc: 0.8894\n",
            "\n",
            "Epoch 00006: val_loss did not improve from 0.21953\n",
            "Epoch 7/10\n",
            "1044897/1044897 [==============================] - 824s 788us/step - loss: 0.2108 - acc: 0.9041 - val_loss: 0.2171 - val_acc: 0.9082\n",
            "\n",
            "Epoch 00007: val_loss improved from 0.21953 to 0.21715, saving model to /content/drive/My Drive/weights-07-0.2171.h5\n",
            "Epoch 8/10\n",
            "1044897/1044897 [==============================] - 836s 800us/step - loss: 0.1989 - acc: 0.9060 - val_loss: 0.2021 - val_acc: 0.9139\n",
            "\n",
            "Epoch 00008: val_loss improved from 0.21715 to 0.20208, saving model to /content/drive/My Drive/weights-08-0.2021.h5\n",
            "Epoch 9/10\n",
            "1044897/1044897 [==============================] - 826s 791us/step - loss: 0.1883 - acc: 0.9076 - val_loss: 0.1849 - val_acc: 0.9187\n",
            "\n",
            "Epoch 00009: val_loss improved from 0.20208 to 0.18491, saving model to /content/drive/My Drive/weights-09-0.1849.h5\n",
            "Epoch 10/10\n",
            "1044897/1044897 [==============================] - 846s 810us/step - loss: 0.1768 - acc: 0.9111 - val_loss: 0.2040 - val_acc: 0.9097\n",
            "\n",
            "Epoch 00010: val_loss did not improve from 0.18491\n"
          ],
          "name": "stdout"
        },
        {
          "output_type": "execute_result",
          "data": {
            "text/plain": [
              "<keras.callbacks.History at 0x7fef5bbf4828>"
            ]
          },
          "metadata": {
            "tags": []
          },
          "execution_count": 30
        }
      ]
    },
    {
      "cell_type": "code",
      "metadata": {
        "id": "lK2MRq8e-Bs5",
        "colab_type": "code",
        "colab": {}
      },
      "source": [
        "best_model = load_model('/content/drive/My Drive/weights-09-0.1849.h5')"
      ],
      "execution_count": 0,
      "outputs": []
    },
    {
      "cell_type": "code",
      "metadata": {
        "id": "-qEnG0cj-1yv",
        "colab_type": "code",
        "outputId": "2b9bac2d-7c91-43f1-b159-684873de8838",
        "colab": {
          "base_uri": "https://localhost:8080/",
          "height": 531
        }
      },
      "source": [
        "best_model.summary()"
      ],
      "execution_count": 38,
      "outputs": [
        {
          "output_type": "stream",
          "text": [
            "Model: \"model_2\"\n",
            "_________________________________________________________________\n",
            "Layer (type)                 Output Shape              Param #   \n",
            "=================================================================\n",
            "text_input (InputLayer)      (None, 45)                0         \n",
            "_________________________________________________________________\n",
            "embedding_2 (Embedding)      (None, 45, 300)           58886700  \n",
            "_________________________________________________________________\n",
            "lstm_2 (LSTM)                (None, 512)               1665024   \n",
            "_________________________________________________________________\n",
            "dropout_5 (Dropout)          (None, 512)               0         \n",
            "_________________________________________________________________\n",
            "dense_5 (Dense)              (None, 256)               131328    \n",
            "_________________________________________________________________\n",
            "dropout_6 (Dropout)          (None, 256)               0         \n",
            "_________________________________________________________________\n",
            "dense_6 (Dense)              (None, 128)               32896     \n",
            "_________________________________________________________________\n",
            "dense_7 (Dense)              (None, 25)                3225      \n",
            "_________________________________________________________________\n",
            "dropout_8 (Dropout)          (None, 25)                0         \n",
            "_________________________________________________________________\n",
            "dense_8 (Dense)              (None, 1)                 26        \n",
            "=================================================================\n",
            "Total params: 60,719,199\n",
            "Trainable params: 1,832,499\n",
            "Non-trainable params: 58,886,700\n",
            "_________________________________________________________________\n"
          ],
          "name": "stdout"
        }
      ]
    },
    {
      "cell_type": "code",
      "metadata": {
        "id": "axZjkjSEIqPe",
        "colab_type": "code",
        "outputId": "ebcc4cd3-79f9-4266-b18a-bc9793255863",
        "colab": {
          "base_uri": "https://localhost:8080/",
          "height": 35
        }
      },
      "source": [
        "p = best_model.predict(seq_test_matrix)\n",
        "roc_auc_score(y_test,p)"
      ],
      "execution_count": 40,
      "outputs": [
        {
          "output_type": "execute_result",
          "data": {
            "text/plain": [
              "0.9637618014028762"
            ]
          },
          "metadata": {
            "tags": []
          },
          "execution_count": 40
        }
      ]
    },
    {
      "cell_type": "code",
      "metadata": {
        "id": "kmWCuodFZFGW",
        "colab_type": "code",
        "colab": {}
      },
      "source": [
        ""
      ],
      "execution_count": 0,
      "outputs": []
    },
    {
      "cell_type": "code",
      "metadata": {
        "id": "hcgINi6sA11Q",
        "colab_type": "code",
        "colab": {}
      },
      "source": [
        ""
      ],
      "execution_count": 0,
      "outputs": []
    }
  ]
}