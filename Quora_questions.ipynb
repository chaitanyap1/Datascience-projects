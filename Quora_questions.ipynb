{
  "nbformat": 4,
  "nbformat_minor": 0,
  "metadata": {
    "colab": {
      "name": "Quora questions.ipynb",
      "provenance": [],
      "collapsed_sections": [],
      "machine_shape": "hm",
      "include_colab_link": true
    },
    "kernelspec": {
      "name": "python3",
      "display_name": "Python 3"
    },
    "accelerator": "TPU"
  },
  "cells": [
    {
      "cell_type": "markdown",
      "metadata": {
        "id": "view-in-github",
        "colab_type": "text"
      },
      "source": [
        "<a href=\"https://colab.research.google.com/github/chaitanyap1/Datascience-projects/blob/master/Quora_questions.ipynb\" target=\"_parent\"><img src=\"https://colab.research.google.com/assets/colab-badge.svg\" alt=\"Open In Colab\"/></a>"
      ]
    },
    {
      "cell_type": "code",
      "metadata": {
        "id": "UWcLK1Lg3x15",
        "colab_type": "code",
        "outputId": "914ffc8a-0b84-4af3-cc9a-309008ac2910",
        "colab": {
          "base_uri": "https://localhost:8080/",
          "height": 83
        }
      },
      "source": [
        "import warnings\n",
        "warnings.filterwarnings('ignore')\n",
        "import pandas as pd\n",
        "import numpy as np\n",
        "\n",
        "from keras.models import Sequential\n",
        "#from keras.layers.recurrent import LSTM,GRU\n",
        "#from keras.layers.core import Dense, Activation, Dropout\n",
        "from sklearn.metrics import roc_auc_score, accuracy_score\n",
        "#from sklearn.utils import shuffle\n",
        "from keras.callbacks import ModelCheckpoint\n",
        "from keras.callbacks import EarlyStopping\n",
        "from keras import models\n",
        "from keras.models import load_model\n",
        "\n",
        "from keras.preprocessing.text import Tokenizer\n",
        "from keras.preprocessing import sequence\n",
        "from keras.layers import LSTM, Activation, Dense, Input, Embedding, Dropout\n",
        "from keras.models import Model\n",
        "from nltk import word_tokenize\n",
        "\n",
        "from sklearn.model_selection import train_test_split\n",
        "from sklearn.utils import class_weight"
      ],
      "execution_count": 0,
      "outputs": [
        {
          "output_type": "stream",
          "text": [
            "Using TensorFlow backend.\n"
          ],
          "name": "stderr"
        },
        {
          "output_type": "display_data",
          "data": {
            "text/html": [
              "<p style=\"color: red;\">\n",
              "The default version of TensorFlow in Colab will soon switch to TensorFlow 2.x.<br>\n",
              "We recommend you <a href=\"https://www.tensorflow.org/guide/migrate\" target=\"_blank\">upgrade</a> now \n",
              "or ensure your notebook will continue to use TensorFlow 1.x via the <code>%tensorflow_version 1.x</code> magic:\n",
              "<a href=\"https://colab.research.google.com/notebooks/tensorflow_version.ipynb\" target=\"_blank\">more info</a>.</p>\n"
            ],
            "text/plain": [
              "<IPython.core.display.HTML object>"
            ]
          },
          "metadata": {
            "tags": []
          }
        }
      ]
    },
    {
      "cell_type": "code",
      "metadata": {
        "id": "hqk6vQug4TyW",
        "colab_type": "code",
        "outputId": "6a1e0a61-df4d-4a4d-c395-f04d5e819adb",
        "colab": {
          "base_uri": "https://localhost:8080/",
          "height": 371
        }
      },
      "source": [
        "!wget https://www.dropbox.com/sh/kpf9z73woodfssv/AAAwZ5DDt-aHwqZFHYrZ-ZBHa/train.csv?dl=0"
      ],
      "execution_count": 0,
      "outputs": [
        {
          "output_type": "stream",
          "text": [
            "--2020-01-10 13:01:44--  https://www.dropbox.com/sh/kpf9z73woodfssv/AAAwZ5DDt-aHwqZFHYrZ-ZBHa/train.csv?dl=0\n",
            "Resolving www.dropbox.com (www.dropbox.com)... 162.125.8.1, 2620:100:601b:1::a27d:801\n",
            "Connecting to www.dropbox.com (www.dropbox.com)|162.125.8.1|:443... connected.\n",
            "HTTP request sent, awaiting response... 301 Moved Permanently\n",
            "Location: /sh/raw/kpf9z73woodfssv/AAAwZ5DDt-aHwqZFHYrZ-ZBHa/train.csv [following]\n",
            "--2020-01-10 13:01:45--  https://www.dropbox.com/sh/raw/kpf9z73woodfssv/AAAwZ5DDt-aHwqZFHYrZ-ZBHa/train.csv\n",
            "Reusing existing connection to www.dropbox.com:443.\n",
            "HTTP request sent, awaiting response... 302 Found\n",
            "Location: https://ucd8bd8a26cd94e732b819e3c955.dl.dropboxusercontent.com/cd/0/inline/Av7kce7xJ4sKfHjFw0fZ3Pnnnk_rLm-llopYq5qRpinGXpm15J2s88TnVOeA-kGooepj9Q1FP5RGpdTmxRZri5jGYnjnI_rdvIRfQJIDgTHOIQ/file# [following]\n",
            "--2020-01-10 13:01:45--  https://ucd8bd8a26cd94e732b819e3c955.dl.dropboxusercontent.com/cd/0/inline/Av7kce7xJ4sKfHjFw0fZ3Pnnnk_rLm-llopYq5qRpinGXpm15J2s88TnVOeA-kGooepj9Q1FP5RGpdTmxRZri5jGYnjnI_rdvIRfQJIDgTHOIQ/file\n",
            "Resolving ucd8bd8a26cd94e732b819e3c955.dl.dropboxusercontent.com (ucd8bd8a26cd94e732b819e3c955.dl.dropboxusercontent.com)... 162.125.8.6, 2620:100:601b:6::a27d:806\n",
            "Connecting to ucd8bd8a26cd94e732b819e3c955.dl.dropboxusercontent.com (ucd8bd8a26cd94e732b819e3c955.dl.dropboxusercontent.com)|162.125.8.6|:443... connected.\n",
            "HTTP request sent, awaiting response... 200 OK\n",
            "Length: 124206772 (118M) [text/plain]\n",
            "Saving to: ‘train.csv?dl=0’\n",
            "\n",
            "train.csv?dl=0      100%[===================>] 118.45M  49.4MB/s    in 2.4s    \n",
            "\n",
            "2020-01-10 13:01:48 (49.4 MB/s) - ‘train.csv?dl=0’ saved [124206772/124206772]\n",
            "\n"
          ],
          "name": "stdout"
        }
      ]
    },
    {
      "cell_type": "code",
      "metadata": {
        "id": "SlFEd5Cs7uwN",
        "colab_type": "code",
        "outputId": "1e2abf3a-0a56-4652-9634-fc91c7472a3a",
        "colab": {
          "base_uri": "https://localhost:8080/",
          "height": 351
        }
      },
      "source": [
        "!wget http://nlp.stanford.edu/data/glove.42B.300d.zip"
      ],
      "execution_count": 0,
      "outputs": [
        {
          "output_type": "stream",
          "text": [
            "--2020-01-10 13:01:53--  http://nlp.stanford.edu/data/glove.42B.300d.zip\n",
            "Resolving nlp.stanford.edu (nlp.stanford.edu)... 171.64.67.140\n",
            "Connecting to nlp.stanford.edu (nlp.stanford.edu)|171.64.67.140|:80... connected.\n",
            "HTTP request sent, awaiting response... 302 Found\n",
            "Location: https://nlp.stanford.edu/data/glove.42B.300d.zip [following]\n",
            "--2020-01-10 13:01:53--  https://nlp.stanford.edu/data/glove.42B.300d.zip\n",
            "Connecting to nlp.stanford.edu (nlp.stanford.edu)|171.64.67.140|:443... connected.\n",
            "HTTP request sent, awaiting response... 301 Moved Permanently\n",
            "Location: http://downloads.cs.stanford.edu/nlp/data/glove.42B.300d.zip [following]\n",
            "--2020-01-10 13:01:53--  http://downloads.cs.stanford.edu/nlp/data/glove.42B.300d.zip\n",
            "Resolving downloads.cs.stanford.edu (downloads.cs.stanford.edu)... 171.64.64.22\n",
            "Connecting to downloads.cs.stanford.edu (downloads.cs.stanford.edu)|171.64.64.22|:80... connected.\n",
            "HTTP request sent, awaiting response... 200 OK\n",
            "Length: 1877800501 (1.7G) [application/zip]\n",
            "Saving to: ‘glove.42B.300d.zip’\n",
            "\n",
            "glove.42B.300d.zip  100%[===================>]   1.75G  2.09MB/s    in 14m 31s \n",
            "\n",
            "2020-01-10 13:16:24 (2.06 MB/s) - ‘glove.42B.300d.zip’ saved [1877800501/1877800501]\n",
            "\n"
          ],
          "name": "stdout"
        }
      ]
    },
    {
      "cell_type": "code",
      "metadata": {
        "id": "lSfKzBdG9kS2",
        "colab_type": "code",
        "outputId": "9ee19976-0cee-4c06-f2d5-75eced8bb886",
        "colab": {
          "base_uri": "https://localhost:8080/",
          "height": 50
        }
      },
      "source": [
        "!unzip /content/glove.42B.300d.zip"
      ],
      "execution_count": 0,
      "outputs": [
        {
          "output_type": "stream",
          "text": [
            "Archive:  /content/glove.42B.300d.zip\n",
            "  inflating: glove.42B.300d.txt      \n"
          ],
          "name": "stdout"
        }
      ]
    },
    {
      "cell_type": "code",
      "metadata": {
        "id": "ZkpIlugB9ujO",
        "colab_type": "code",
        "colab": {}
      },
      "source": [
        "embedding_index ={}\n",
        "\n",
        "f = open('/content/glove.42B.300d.txt', encoding='utf-8')\n",
        "for line in f:\n",
        "  values = line.split()\n",
        "  word = values[0]\n",
        "  coefs = np.asarray(values[1:], dtype ='float32')\n",
        "  embedding_index[word] = coefs\n",
        "f.close()"
      ],
      "execution_count": 0,
      "outputs": []
    },
    {
      "cell_type": "code",
      "metadata": {
        "id": "ihwXroAx4XyV",
        "colab_type": "code",
        "colab": {}
      },
      "source": [
        "question = pd.read_csv(r'/content/train.csv?dl=0')"
      ],
      "execution_count": 0,
      "outputs": []
    },
    {
      "cell_type": "code",
      "metadata": {
        "id": "-H6CCoyp4gAR",
        "colab_type": "code",
        "outputId": "6a6525b6-48fc-4f34-c4f1-1ff0cb6a2ce4",
        "colab": {
          "base_uri": "https://localhost:8080/",
          "height": 213
        }
      },
      "source": [
        "print(question.shape)\n",
        "question.head()"
      ],
      "execution_count": 0,
      "outputs": [
        {
          "output_type": "stream",
          "text": [
            "(1306122, 3)\n"
          ],
          "name": "stdout"
        },
        {
          "output_type": "execute_result",
          "data": {
            "text/html": [
              "<div>\n",
              "<style scoped>\n",
              "    .dataframe tbody tr th:only-of-type {\n",
              "        vertical-align: middle;\n",
              "    }\n",
              "\n",
              "    .dataframe tbody tr th {\n",
              "        vertical-align: top;\n",
              "    }\n",
              "\n",
              "    .dataframe thead th {\n",
              "        text-align: right;\n",
              "    }\n",
              "</style>\n",
              "<table border=\"1\" class=\"dataframe\">\n",
              "  <thead>\n",
              "    <tr style=\"text-align: right;\">\n",
              "      <th></th>\n",
              "      <th>qid</th>\n",
              "      <th>question_text</th>\n",
              "      <th>target</th>\n",
              "    </tr>\n",
              "  </thead>\n",
              "  <tbody>\n",
              "    <tr>\n",
              "      <th>0</th>\n",
              "      <td>00002165364db923c7e6</td>\n",
              "      <td>How did Quebec nationalists see their province...</td>\n",
              "      <td>0</td>\n",
              "    </tr>\n",
              "    <tr>\n",
              "      <th>1</th>\n",
              "      <td>000032939017120e6e44</td>\n",
              "      <td>Do you have an adopted dog, how would you enco...</td>\n",
              "      <td>0</td>\n",
              "    </tr>\n",
              "    <tr>\n",
              "      <th>2</th>\n",
              "      <td>0000412ca6e4628ce2cf</td>\n",
              "      <td>Why does velocity affect time? Does velocity a...</td>\n",
              "      <td>0</td>\n",
              "    </tr>\n",
              "    <tr>\n",
              "      <th>3</th>\n",
              "      <td>000042bf85aa498cd78e</td>\n",
              "      <td>How did Otto von Guericke used the Magdeburg h...</td>\n",
              "      <td>0</td>\n",
              "    </tr>\n",
              "    <tr>\n",
              "      <th>4</th>\n",
              "      <td>0000455dfa3e01eae3af</td>\n",
              "      <td>Can I convert montra helicon D to a mountain b...</td>\n",
              "      <td>0</td>\n",
              "    </tr>\n",
              "  </tbody>\n",
              "</table>\n",
              "</div>"
            ],
            "text/plain": [
              "                    qid  ... target\n",
              "0  00002165364db923c7e6  ...      0\n",
              "1  000032939017120e6e44  ...      0\n",
              "2  0000412ca6e4628ce2cf  ...      0\n",
              "3  000042bf85aa498cd78e  ...      0\n",
              "4  0000455dfa3e01eae3af  ...      0\n",
              "\n",
              "[5 rows x 3 columns]"
            ]
          },
          "metadata": {
            "tags": []
          },
          "execution_count": 8
        }
      ]
    },
    {
      "cell_type": "code",
      "metadata": {
        "id": "daJ5hVY3VVfE",
        "colab_type": "code",
        "outputId": "41ea14ee-61c5-48d3-8a77-7aa83fda73d9",
        "colab": {
          "base_uri": "https://localhost:8080/",
          "height": 33
        }
      },
      "source": [
        "X = question['question_text']\n",
        "Y = question['target']\n",
        "x_train, x_test, y_train, y_test = train_test_split(X,Y,test_size=0.2)\n",
        "x_train.shape, y_train.shape, x_test.shape, y_test.shape"
      ],
      "execution_count": 0,
      "outputs": [
        {
          "output_type": "execute_result",
          "data": {
            "text/plain": [
              "((1044897,), (1044897,), (261225,), (261225,))"
            ]
          },
          "metadata": {
            "tags": []
          },
          "execution_count": 10
        }
      ]
    },
    {
      "cell_type": "code",
      "metadata": {
        "id": "r_-9ByGgnyG-",
        "colab_type": "code",
        "outputId": "9ac61e47-52ac-4f13-91f7-84ea7e4650c8",
        "colab": {
          "base_uri": "https://localhost:8080/",
          "height": 67
        }
      },
      "source": [
        "y_test.value_counts()"
      ],
      "execution_count": 0,
      "outputs": [
        {
          "output_type": "execute_result",
          "data": {
            "text/plain": [
              "0    244846\n",
              "1     16379\n",
              "Name: target, dtype: int64"
            ]
          },
          "metadata": {
            "tags": []
          },
          "execution_count": 12
        }
      ]
    },
    {
      "cell_type": "code",
      "metadata": {
        "id": "d_mTWfC5j7f1",
        "colab_type": "code",
        "outputId": "45a996eb-44a3-41a9-fbb5-962ea7221110",
        "colab": {
          "base_uri": "https://localhost:8080/",
          "height": 50
        }
      },
      "source": [
        "class_weight = class_weight.compute_class_weight('balanced', \n",
        "                                                 np.unique(y_train), \n",
        "                                                    y_train)\n",
        "print(class_weight)\n",
        "class_weight_dict = dict(enumerate(class_weight))\n",
        "class_weight_dict"
      ],
      "execution_count": 0,
      "outputs": [
        {
          "output_type": "stream",
          "text": [
            "[0.53285734 8.10865112]\n"
          ],
          "name": "stdout"
        },
        {
          "output_type": "execute_result",
          "data": {
            "text/plain": [
              "{0: 0.5328573351855138, 1: 8.108651115146436}"
            ]
          },
          "metadata": {
            "tags": []
          },
          "execution_count": 13
        }
      ]
    },
    {
      "cell_type": "code",
      "metadata": {
        "id": "vUN2dkmwCDIF",
        "colab_type": "code",
        "outputId": "fa1dbbb5-c3d0-41a3-c1e1-05205a03dae5",
        "colab": {
          "base_uri": "https://localhost:8080/",
          "height": 217
        }
      },
      "source": [
        "x_train"
      ],
      "execution_count": 0,
      "outputs": [
        {
          "output_type": "execute_result",
          "data": {
            "text/plain": [
              "994698     Is it advisable to join a startup even if your...\n",
              "322285     What was the cut off for BBI in Mithibai colle...\n",
              "845300     Can I do civil engineering from GB Pant via th...\n",
              "1156252           How we make questions about animal sounds?\n",
              "1098107    Thick is the best country to get a facelift at...\n",
              "                                 ...                        \n",
              "751946     What were the most important results of the Se...\n",
              "1274427      How can I write a biography about Robert Coles?\n",
              "1300533    Some days I can keep going pretty good but oth...\n",
              "955649     How do I prepare for NCHM JEE 2018 in about 30...\n",
              "888135     Can I take a new subject at A levels in class 12?\n",
              "Name: question_text, Length: 1044897, dtype: object"
            ]
          },
          "metadata": {
            "tags": []
          },
          "execution_count": 14
        }
      ]
    },
    {
      "cell_type": "code",
      "metadata": {
        "id": "tsX-uA4S9cMI",
        "colab_type": "code",
        "outputId": "3be31a54-162c-440f-ff8f-ca011f1e5964",
        "colab": {
          "base_uri": "https://localhost:8080/",
          "height": 67
        }
      },
      "source": [
        "import nltk\n",
        "nltk.download('punkt')  "
      ],
      "execution_count": 0,
      "outputs": [
        {
          "output_type": "stream",
          "text": [
            "[nltk_data] Downloading package punkt to /root/nltk_data...\n",
            "[nltk_data]   Unzipping tokenizers/punkt.zip.\n"
          ],
          "name": "stdout"
        },
        {
          "output_type": "execute_result",
          "data": {
            "text/plain": [
              "True"
            ]
          },
          "metadata": {
            "tags": []
          },
          "execution_count": 15
        }
      ]
    },
    {
      "cell_type": "code",
      "metadata": {
        "id": "FOcZTWOY8wyL",
        "colab_type": "code",
        "outputId": "cec895ec-1576-41ad-c09a-5c8f62ab664f",
        "colab": {
          "base_uri": "https://localhost:8080/",
          "height": 33
        }
      },
      "source": [
        "sent_lens=[len(word_tokenize(x)) for x in x_train]\n",
        "print(max(sent_lens))"
      ],
      "execution_count": 0,
      "outputs": [
        {
          "output_type": "stream",
          "text": [
            "412\n"
          ],
          "name": "stdout"
        }
      ]
    },
    {
      "cell_type": "code",
      "metadata": {
        "id": "x4UBk_ZVC4iS",
        "colab_type": "code",
        "outputId": "21167f4c-7fbf-44ab-b0df-c32cbc12f571",
        "colab": {
          "base_uri": "https://localhost:8080/",
          "height": 50
        }
      },
      "source": [
        "print(np.percentile(sent_lens,99))\n",
        "np.percentile(sent_lens,95)"
      ],
      "execution_count": 0,
      "outputs": [
        {
          "output_type": "stream",
          "text": [
            "45.0\n"
          ],
          "name": "stdout"
        },
        {
          "output_type": "execute_result",
          "data": {
            "text/plain": [
              "31.0"
            ]
          },
          "metadata": {
            "tags": []
          },
          "execution_count": 17
        }
      ]
    },
    {
      "cell_type": "code",
      "metadata": {
        "id": "ppz92wkx_nK-",
        "colab_type": "code",
        "outputId": "b3e4121f-1402-48d4-99ec-44dece0a1d2e",
        "colab": {
          "base_uri": "https://localhost:8080/",
          "height": 33
        }
      },
      "source": [
        "max_len=45\n",
        "\n",
        "tk=Tokenizer(char_level=False,split=' ')\n",
        "tk.fit_on_texts(x_train)\n",
        "print(x_train.shape)"
      ],
      "execution_count": 0,
      "outputs": [
        {
          "output_type": "stream",
          "text": [
            "(1044897,)\n"
          ],
          "name": "stdout"
        }
      ]
    },
    {
      "cell_type": "code",
      "metadata": {
        "id": "9vAhARPDD85V",
        "colab_type": "code",
        "outputId": "7d05bbaa-d206-405e-ab17-b575a26e5956",
        "colab": {
          "base_uri": "https://localhost:8080/",
          "height": 217
        }
      },
      "source": [
        "x_train"
      ],
      "execution_count": 0,
      "outputs": [
        {
          "output_type": "execute_result",
          "data": {
            "text/plain": [
              "1084293                            What is the value of √36?\n",
              "520714     What was the most memorable random act of kind...\n",
              "971229     If I have visitor visas of US and Canada havin...\n",
              "760502                              How is tea tasting done?\n",
              "1181263    Is it normal that your dad watch porn even if ...\n",
              "                                 ...                        \n",
              "1098172    What are the chances of an English Honours gra...\n",
              "205719     Whatis the smallest number that can be divided...\n",
              "183517               Which is the best course after +2 exam?\n",
              "327888                                    Is Buddhism dying?\n",
              "469996                                  How is Mi A1 better?\n",
              "Name: question_text, Length: 1044897, dtype: object"
            ]
          },
          "metadata": {
            "tags": []
          },
          "execution_count": 17
        }
      ]
    },
    {
      "cell_type": "code",
      "metadata": {
        "id": "9Qz9KpneDu-K",
        "colab_type": "code",
        "outputId": "5a560363-c290-40af-893c-0dac642c53c5",
        "colab": {
          "base_uri": "https://localhost:8080/",
          "height": 502
        }
      },
      "source": [
        "seq_train=tk.texts_to_sequences(x_train)\n",
        "seq_test=tk.texts_to_sequences(x_test)\n",
        "print(len(seq_test), len(seq_train))\n",
        "seq_train[0]"
      ],
      "execution_count": 0,
      "outputs": [
        {
          "output_type": "stream",
          "text": [
            "261225 1044897\n"
          ],
          "name": "stdout"
        },
        {
          "output_type": "execute_result",
          "data": {
            "text/plain": [
              "[3,\n",
              " 17,\n",
              " 4019,\n",
              " 5,\n",
              " 371,\n",
              " 4,\n",
              " 880,\n",
              " 147,\n",
              " 20,\n",
              " 28,\n",
              " 137,\n",
              " 26,\n",
              " 44,\n",
              " 24,\n",
              " 4,\n",
              " 53,\n",
              " 340,\n",
              " 13,\n",
              " 17,\n",
              " 57,\n",
              " 26,\n",
              " 44,\n",
              " 24,\n",
              " 4,\n",
              " 53,\n",
              " 340,\n",
              " 13,\n",
              " 4771]"
            ]
          },
          "metadata": {
            "tags": []
          },
          "execution_count": 21
        }
      ]
    },
    {
      "cell_type": "code",
      "metadata": {
        "id": "ngGjBHP8_peZ",
        "colab_type": "code",
        "outputId": "16bef443-8934-47a0-bb33-50fdc8e70d64",
        "colab": {
          "base_uri": "https://localhost:8080/",
          "height": 33
        }
      },
      "source": [
        "vocab_size=len(tk.word_index)\n",
        "vocab_size"
      ],
      "execution_count": 0,
      "outputs": [
        {
          "output_type": "execute_result",
          "data": {
            "text/plain": [
              "195943"
            ]
          },
          "metadata": {
            "tags": []
          },
          "execution_count": 22
        }
      ]
    },
    {
      "cell_type": "code",
      "metadata": {
        "id": "IgKSzM_x_seK",
        "colab_type": "code",
        "outputId": "1700346a-456d-423b-a3c6-0aa5e8786bae",
        "colab": {
          "base_uri": "https://localhost:8080/",
          "height": 33
        }
      },
      "source": [
        "seq_train_matrix=sequence.pad_sequences(seq_train,maxlen=max_len)\n",
        "seq_test_matrix=sequence.pad_sequences(seq_test,maxlen=max_len)\n",
        "seq_train_matrix.shape, seq_test_matrix.shape"
      ],
      "execution_count": 0,
      "outputs": [
        {
          "output_type": "execute_result",
          "data": {
            "text/plain": [
              "((1044897, 45), (261225, 45))"
            ]
          },
          "metadata": {
            "tags": []
          },
          "execution_count": 23
        }
      ]
    },
    {
      "cell_type": "code",
      "metadata": {
        "id": "8Ny9fQMsChjw",
        "colab_type": "code",
        "colab": {}
      },
      "source": [
        "# creating our own embedding matrix to bring down the size to 300\n",
        "# we'll use 300 D vector representation of the words from pretrained embedding index \n",
        "# that we downloaded \n",
        "\n",
        "embedding_matrix=np.zeros((vocab_size+1,300))\n",
        "\n",
        "for word,i in tk.word_index.items():\n",
        "    embed_vector=embedding_index.get(word)\n",
        "    if embed_vector is not None:\n",
        "        embedding_matrix[i]=embed_vector\n",
        "        \n",
        "# if there are specific words which are not present in pretrained embedding \n",
        "# their weights will remain 0. if there are too many such words \n",
        "# then you should probably not use pretrained embeddings \n"
      ],
      "execution_count": 0,
      "outputs": []
    },
    {
      "cell_type": "code",
      "metadata": {
        "id": "An0sLhUtCqS6",
        "colab_type": "code",
        "outputId": "b299443b-dbb4-4133-ce5f-9fc478814587",
        "colab": {
          "base_uri": "https://localhost:8080/",
          "height": 472
        }
      },
      "source": [
        "# Now while creating the model for text data , we'll keep embedding layer weights \n",
        "# non-trainable as we are supplying those values from our end \n",
        "\n",
        "inputs = Input(name='text_input',shape=[max_len])\n",
        "embed=Embedding(vocab_size+1,300,input_length=max_len,mask_zero=True,\n",
        "                weights=[embedding_matrix],trainable=False)(inputs)\n",
        "lstm_layer1 = LSTM(512)(embed)\n",
        "drop1 = Dropout(0.2)(lstm_layer1)\n",
        "lstm_layer2 = Dense(256,activation='relu')(drop1)\n",
        "drop2 = Dropout(0.2)(lstm_layer2)\n",
        "lstm_layer3 = Dense(128,activation='relu')(drop2)\n",
        "drop3 = Dropout(0.2)(lstm_layer3)\n",
        "dense1 = Dense(25,activation='relu')(lstm_layer3)\n",
        "drop4 = Dropout(0.2)(dense1)\n",
        "final_layer = Dense(1,activation='sigmoid')(drop4)\n",
        "\n",
        "model = Model(inputs=inputs,outputs=final_layer)"
      ],
      "execution_count": 0,
      "outputs": [
        {
          "output_type": "stream",
          "text": [
            "WARNING:tensorflow:From /usr/local/lib/python3.6/dist-packages/keras/backend/tensorflow_backend.py:541: The name tf.placeholder is deprecated. Please use tf.compat.v1.placeholder instead.\n",
            "\n",
            "WARNING:tensorflow:From /usr/local/lib/python3.6/dist-packages/keras/backend/tensorflow_backend.py:66: The name tf.get_default_graph is deprecated. Please use tf.compat.v1.get_default_graph instead.\n",
            "\n",
            "WARNING:tensorflow:From /usr/local/lib/python3.6/dist-packages/keras/backend/tensorflow_backend.py:4432: The name tf.random_uniform is deprecated. Please use tf.random.uniform instead.\n",
            "\n",
            "WARNING:tensorflow:From /usr/local/lib/python3.6/dist-packages/keras/backend/tensorflow_backend.py:190: The name tf.get_default_session is deprecated. Please use tf.compat.v1.get_default_session instead.\n",
            "\n",
            "WARNING:tensorflow:From /usr/local/lib/python3.6/dist-packages/keras/backend/tensorflow_backend.py:197: The name tf.ConfigProto is deprecated. Please use tf.compat.v1.ConfigProto instead.\n",
            "\n",
            "WARNING:tensorflow:From /usr/local/lib/python3.6/dist-packages/keras/backend/tensorflow_backend.py:203: The name tf.Session is deprecated. Please use tf.compat.v1.Session instead.\n",
            "\n",
            "WARNING:tensorflow:From /usr/local/lib/python3.6/dist-packages/keras/backend/tensorflow_backend.py:207: The name tf.global_variables is deprecated. Please use tf.compat.v1.global_variables instead.\n",
            "\n",
            "WARNING:tensorflow:From /usr/local/lib/python3.6/dist-packages/keras/backend/tensorflow_backend.py:216: The name tf.is_variable_initialized is deprecated. Please use tf.compat.v1.is_variable_initialized instead.\n",
            "\n",
            "WARNING:tensorflow:From /usr/local/lib/python3.6/dist-packages/keras/backend/tensorflow_backend.py:223: The name tf.variables_initializer is deprecated. Please use tf.compat.v1.variables_initializer instead.\n",
            "\n",
            "WARNING:tensorflow:From /usr/local/lib/python3.6/dist-packages/keras/backend/tensorflow_backend.py:3239: where (from tensorflow.python.ops.array_ops) is deprecated and will be removed in a future version.\n",
            "Instructions for updating:\n",
            "Use tf.where in 2.0, which has the same broadcast rule as np.where\n",
            "WARNING:tensorflow:From /usr/local/lib/python3.6/dist-packages/keras/backend/tensorflow_backend.py:148: The name tf.placeholder_with_default is deprecated. Please use tf.compat.v1.placeholder_with_default instead.\n",
            "\n",
            "WARNING:tensorflow:From /usr/local/lib/python3.6/dist-packages/keras/backend/tensorflow_backend.py:3733: calling dropout (from tensorflow.python.ops.nn_ops) with keep_prob is deprecated and will be removed in a future version.\n",
            "Instructions for updating:\n",
            "Please use `rate` instead of `keep_prob`. Rate should be set to `rate = 1 - keep_prob`.\n"
          ],
          "name": "stdout"
        }
      ]
    },
    {
      "cell_type": "code",
      "metadata": {
        "id": "LLSWQ6ssG8-A",
        "colab_type": "code",
        "outputId": "8abe4c86-235d-4ebf-83cf-b7ba45f8bf28",
        "colab": {
          "base_uri": "https://localhost:8080/",
          "height": 485
        }
      },
      "source": [
        "model.summary()"
      ],
      "execution_count": 0,
      "outputs": [
        {
          "output_type": "stream",
          "text": [
            "Model: \"model_1\"\n",
            "_________________________________________________________________\n",
            "Layer (type)                 Output Shape              Param #   \n",
            "=================================================================\n",
            "text_input (InputLayer)      (None, 45)                0         \n",
            "_________________________________________________________________\n",
            "embedding_1 (Embedding)      (None, 45, 300)           58854000  \n",
            "_________________________________________________________________\n",
            "lstm_1 (LSTM)                (None, 512)               1665024   \n",
            "_________________________________________________________________\n",
            "dropout_1 (Dropout)          (None, 512)               0         \n",
            "_________________________________________________________________\n",
            "dense_1 (Dense)              (None, 256)               131328    \n",
            "_________________________________________________________________\n",
            "dropout_2 (Dropout)          (None, 256)               0         \n",
            "_________________________________________________________________\n",
            "dense_2 (Dense)              (None, 128)               32896     \n",
            "_________________________________________________________________\n",
            "dense_3 (Dense)              (None, 25)                3225      \n",
            "_________________________________________________________________\n",
            "dropout_4 (Dropout)          (None, 25)                0         \n",
            "_________________________________________________________________\n",
            "dense_4 (Dense)              (None, 1)                 26        \n",
            "=================================================================\n",
            "Total params: 60,686,499\n",
            "Trainable params: 1,832,499\n",
            "Non-trainable params: 58,854,000\n",
            "_________________________________________________________________\n"
          ],
          "name": "stdout"
        }
      ]
    },
    {
      "cell_type": "code",
      "metadata": {
        "id": "DNhjmXBfpbVu",
        "colab_type": "code",
        "colab": {}
      },
      "source": [
        "filepath='/content/weights-{epoch:02d}-{val_loss:.4f}.h5'\n",
        "checkpoint = ModelCheckpoint(filepath, monitor='val_loss', verbose=1, \n",
        "                             save_best_only=True)"
      ],
      "execution_count": 0,
      "outputs": []
    },
    {
      "cell_type": "code",
      "metadata": {
        "id": "JJVORN3kp5gZ",
        "colab_type": "code",
        "colab": {}
      },
      "source": [
        "earlystop = EarlyStopping(monitor='val_loss', patience=3,\n",
        "                          verbose=1)"
      ],
      "execution_count": 0,
      "outputs": []
    },
    {
      "cell_type": "code",
      "metadata": {
        "id": "DnR71zKRHo0I",
        "colab_type": "code",
        "colab": {}
      },
      "source": [
        "model.compile(optimizer='adam',loss='binary_crossentropy',metrics=['accuracy'])"
      ],
      "execution_count": 0,
      "outputs": []
    },
    {
      "cell_type": "code",
      "metadata": {
        "id": "rb_VvjWEHy_F",
        "colab_type": "code",
        "outputId": "d11746a2-018e-4125-aba6-6af3179c3e47",
        "colab": {
          "base_uri": "https://localhost:8080/",
          "height": 354
        }
      },
      "source": [
        "model.fit(seq_train_matrix,y_train,\n",
        "              epochs=10,\n",
        "              class_weight={0: 0.5328573351855138, 1: 8.108651115146436},\n",
        "              batch_size=10000,\n",
        "              validation_data=(seq_test_matrix,y_test),\n",
        "              callbacks = [earlystop, checkpoint])"
      ],
      "execution_count": 0,
      "outputs": [
        {
          "output_type": "stream",
          "text": [
            "Train on 1044897 samples, validate on 261225 samples\n",
            "Epoch 1/10\n",
            "1044897/1044897 [==============================] - 804s 770us/step - loss: 0.2981 - acc: 0.8721 - val_loss: 0.2338 - val_acc: 0.9008\n",
            "\n",
            "Epoch 00001: val_loss improved from inf to 0.23376, saving model to /content/weights-01-0.2338.h5\n",
            "Epoch 2/10\n",
            "1044897/1044897 [==============================] - 793s 759us/step - loss: 0.2650 - acc: 0.8868 - val_loss: 0.2454 - val_acc: 0.8959\n",
            "\n",
            "Epoch 00002: val_loss did not improve from 0.23376\n",
            "Epoch 3/10\n",
            "1044897/1044897 [==============================] - 797s 763us/step - loss: 0.2508 - acc: 0.8918 - val_loss: 0.2507 - val_acc: 0.8976\n",
            "\n",
            "Epoch 00003: val_loss did not improve from 0.23376\n",
            "Epoch 4/10\n",
            "1044897/1044897 [==============================] - 807s 772us/step - loss: 0.2373 - acc: 0.8954 - val_loss: 0.2715 - val_acc: 0.8836\n",
            "\n",
            "Epoch 00004: val_loss did not improve from 0.23376\n",
            "Epoch 00004: early stopping\n"
          ],
          "name": "stdout"
        },
        {
          "output_type": "execute_result",
          "data": {
            "text/plain": [
              "<keras.callbacks.History at 0x7ff574f1d278>"
            ]
          },
          "metadata": {
            "tags": []
          },
          "execution_count": 36
        }
      ]
    },
    {
      "cell_type": "code",
      "metadata": {
        "id": "lK2MRq8e-Bs5",
        "colab_type": "code",
        "colab": {}
      },
      "source": [
        "best_model = load_model('/content/weights-01-0.2338.h5')"
      ],
      "execution_count": 0,
      "outputs": []
    },
    {
      "cell_type": "code",
      "metadata": {
        "id": "-qEnG0cj-1yv",
        "colab_type": "code",
        "outputId": "80740e45-6165-407d-c2ee-2c73dd327212",
        "colab": {
          "base_uri": "https://localhost:8080/",
          "height": 485
        }
      },
      "source": [
        "best_model.summary()"
      ],
      "execution_count": 0,
      "outputs": [
        {
          "output_type": "stream",
          "text": [
            "Model: \"model_1\"\n",
            "_________________________________________________________________\n",
            "Layer (type)                 Output Shape              Param #   \n",
            "=================================================================\n",
            "text_input (InputLayer)      (None, 45)                0         \n",
            "_________________________________________________________________\n",
            "embedding_1 (Embedding)      (None, 45, 300)           58783200  \n",
            "_________________________________________________________________\n",
            "lstm_1 (LSTM)                (None, 512)               1665024   \n",
            "_________________________________________________________________\n",
            "dropout_1 (Dropout)          (None, 512)               0         \n",
            "_________________________________________________________________\n",
            "dense_1 (Dense)              (None, 256)               131328    \n",
            "_________________________________________________________________\n",
            "dropout_2 (Dropout)          (None, 256)               0         \n",
            "_________________________________________________________________\n",
            "dense_2 (Dense)              (None, 128)               32896     \n",
            "_________________________________________________________________\n",
            "dense_3 (Dense)              (None, 25)                3225      \n",
            "_________________________________________________________________\n",
            "dropout_4 (Dropout)          (None, 25)                0         \n",
            "_________________________________________________________________\n",
            "dense_4 (Dense)              (None, 1)                 26        \n",
            "=================================================================\n",
            "Total params: 60,615,699\n",
            "Trainable params: 1,832,499\n",
            "Non-trainable params: 58,783,200\n",
            "_________________________________________________________________\n"
          ],
          "name": "stdout"
        }
      ]
    },
    {
      "cell_type": "code",
      "metadata": {
        "id": "axZjkjSEIqPe",
        "colab_type": "code",
        "outputId": "e7ca0f1c-eccd-4800-d010-d82cbdb95f78",
        "colab": {
          "base_uri": "https://localhost:8080/",
          "height": 33
        }
      },
      "source": [
        "p = best_model.predict(seq_test_matrix)\n",
        "roc_auc_score(y_test,p)"
      ],
      "execution_count": 0,
      "outputs": [
        {
          "output_type": "execute_result",
          "data": {
            "text/plain": [
              "0.9528024281838164"
            ]
          },
          "metadata": {
            "tags": []
          },
          "execution_count": 41
        }
      ]
    },
    {
      "cell_type": "code",
      "metadata": {
        "id": "eRIdDf4TJJFr",
        "colab_type": "code",
        "outputId": "21d78a6a-4ece-4b62-eb40-e29a001cbe72",
        "colab": {
          "base_uri": "https://localhost:8080/",
          "height": 134
        }
      },
      "source": [
        "p"
      ],
      "execution_count": 0,
      "outputs": [
        {
          "output_type": "execute_result",
          "data": {
            "text/plain": [
              "array([[0.39858234],\n",
              "       [0.11947393],\n",
              "       [0.6753924 ],\n",
              "       ...,\n",
              "       [0.01505166],\n",
              "       [0.01708287],\n",
              "       [0.29535776]], dtype=float32)"
            ]
          },
          "metadata": {
            "tags": []
          },
          "execution_count": 42
        }
      ]
    },
    {
      "cell_type": "code",
      "metadata": {
        "id": "kmWCuodFZFGW",
        "colab_type": "code",
        "colab": {}
      },
      "source": [
        ""
      ],
      "execution_count": 0,
      "outputs": []
    },
    {
      "cell_type": "code",
      "metadata": {
        "id": "hcgINi6sA11Q",
        "colab_type": "code",
        "colab": {}
      },
      "source": [
        ""
      ],
      "execution_count": 0,
      "outputs": []
    }
  ]
}