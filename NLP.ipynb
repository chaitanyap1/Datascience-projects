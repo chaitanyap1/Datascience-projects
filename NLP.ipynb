{
  "nbformat": 4,
  "nbformat_minor": 0,
  "metadata": {
    "kernelspec": {
      "display_name": "Python 3",
      "language": "python",
      "name": "python3"
    },
    "language_info": {
      "codemirror_mode": {
        "name": "ipython",
        "version": 3
      },
      "file_extension": ".py",
      "mimetype": "text/x-python",
      "name": "python",
      "nbconvert_exporter": "python",
      "pygments_lexer": "ipython3",
      "version": "3.7.3"
    },
    "colab": {
      "name": "NLP.ipynb",
      "provenance": [],
      "include_colab_link": true
    },
    "accelerator": "GPU"
  },
  "cells": [
    {
      "cell_type": "markdown",
      "metadata": {
        "id": "view-in-github",
        "colab_type": "text"
      },
      "source": [
        "<a href=\"https://colab.research.google.com/github/chaitanyap1/Datascience-projects/blob/master/NLP.ipynb\" target=\"_parent\"><img src=\"https://colab.research.google.com/assets/colab-badge.svg\" alt=\"Open In Colab\"/></a>"
      ]
    },
    {
      "cell_type": "code",
      "metadata": {
        "id": "cLE6ZhAnIHZl",
        "colab_type": "code",
        "colab": {
          "base_uri": "https://localhost:8080/",
          "height": 55
        },
        "outputId": "6f2b115f-d7f7-41a1-c262-8723775bf623"
      },
      "source": [
        "from google.colab import drive\n",
        "drive.mount('/content/drive')"
      ],
      "execution_count": 3,
      "outputs": [
        {
          "output_type": "stream",
          "text": [
            "Drive already mounted at /content/drive; to attempt to forcibly remount, call drive.mount(\"/content/drive\", force_remount=True).\n"
          ],
          "name": "stdout"
        }
      ]
    },
    {
      "cell_type": "code",
      "metadata": {
        "id": "qOeu2FLmICCo",
        "colab_type": "code",
        "colab": {}
      },
      "source": [
        "train = '/content/drive/My Drive/datasets/train.csv'\n",
        "game_overview = '/content/drive/My Drive/datasets/game_overview.csv'\n",
        "test = '/content/drive/My Drive/datasets/test.csv'"
      ],
      "execution_count": 0,
      "outputs": []
    },
    {
      "cell_type": "code",
      "metadata": {
        "id": "CFNwcSOqICDD",
        "colab_type": "code",
        "colab": {}
      },
      "source": [
        "import pandas as pd\n",
        "import re\n",
        "import nltk\n",
        "from nltk.corpus import stopwords\n",
        "from nltk.stem.porter import PorterStemmer\n",
        "from sklearn.feature_extraction.text import CountVectorizer\n",
        "from sklearn.svm import SVC\n",
        "from sklearn.metrics import confusion_matrix"
      ],
      "execution_count": 0,
      "outputs": []
    },
    {
      "cell_type": "code",
      "metadata": {
        "id": "iCgdfWcTICDb",
        "colab_type": "code",
        "colab": {}
      },
      "source": [
        "train = pd.read_csv(train)\n",
        "game_overview = pd.read_csv(game_overview)\n",
        "test = pd.read_csv(test)"
      ],
      "execution_count": 0,
      "outputs": []
    },
    {
      "cell_type": "code",
      "metadata": {
        "id": "optVgudLICDq",
        "colab_type": "code",
        "colab": {
          "base_uri": "https://localhost:8080/",
          "height": 127
        },
        "outputId": "ea0a7555-6135-4bdd-f581-1c65c89498a7"
      },
      "source": [
        "train.isnull().sum()"
      ],
      "execution_count": 7,
      "outputs": [
        {
          "output_type": "execute_result",
          "data": {
            "text/plain": [
              "review_id            0\n",
              "title                0\n",
              "year               178\n",
              "user_review          0\n",
              "user_suggestion      0\n",
              "dtype: int64"
            ]
          },
          "metadata": {
            "tags": []
          },
          "execution_count": 7
        }
      ]
    },
    {
      "cell_type": "code",
      "metadata": {
        "id": "poXONwIgICEM",
        "colab_type": "code",
        "colab": {
          "base_uri": "https://localhost:8080/",
          "height": 109
        },
        "outputId": "e8886067-c1b5-4b83-96fe-cd4aeab1c748"
      },
      "source": [
        "test.isnull().sum()"
      ],
      "execution_count": 8,
      "outputs": [
        {
          "output_type": "execute_result",
          "data": {
            "text/plain": [
              "review_id       0\n",
              "title           0\n",
              "year           67\n",
              "user_review     0\n",
              "dtype: int64"
            ]
          },
          "metadata": {
            "tags": []
          },
          "execution_count": 8
        }
      ]
    },
    {
      "cell_type": "code",
      "metadata": {
        "id": "CnAV0NdpICEc",
        "colab_type": "code",
        "colab": {
          "base_uri": "https://localhost:8080/",
          "height": 127
        },
        "outputId": "19a9d2fd-7c14-470e-af47-802da6ee39c3"
      },
      "source": [
        "game_overview.isnull().sum()"
      ],
      "execution_count": 9,
      "outputs": [
        {
          "output_type": "execute_result",
          "data": {
            "text/plain": [
              "title        0\n",
              "developer    0\n",
              "publisher    0\n",
              "tags         0\n",
              "overview     0\n",
              "dtype: int64"
            ]
          },
          "metadata": {
            "tags": []
          },
          "execution_count": 9
        }
      ]
    },
    {
      "cell_type": "code",
      "metadata": {
        "id": "INnQsIuWICEs",
        "colab_type": "code",
        "colab": {
          "base_uri": "https://localhost:8080/",
          "height": 206
        },
        "outputId": "864dbb49-66a6-4df7-b0af-e16a21bae64a"
      },
      "source": [
        "train.head()"
      ],
      "execution_count": 10,
      "outputs": [
        {
          "output_type": "execute_result",
          "data": {
            "text/html": [
              "<div>\n",
              "<style scoped>\n",
              "    .dataframe tbody tr th:only-of-type {\n",
              "        vertical-align: middle;\n",
              "    }\n",
              "\n",
              "    .dataframe tbody tr th {\n",
              "        vertical-align: top;\n",
              "    }\n",
              "\n",
              "    .dataframe thead th {\n",
              "        text-align: right;\n",
              "    }\n",
              "</style>\n",
              "<table border=\"1\" class=\"dataframe\">\n",
              "  <thead>\n",
              "    <tr style=\"text-align: right;\">\n",
              "      <th></th>\n",
              "      <th>review_id</th>\n",
              "      <th>title</th>\n",
              "      <th>year</th>\n",
              "      <th>user_review</th>\n",
              "      <th>user_suggestion</th>\n",
              "    </tr>\n",
              "  </thead>\n",
              "  <tbody>\n",
              "    <tr>\n",
              "      <th>0</th>\n",
              "      <td>1</td>\n",
              "      <td>Spooky's Jump Scare Mansion</td>\n",
              "      <td>2016.0</td>\n",
              "      <td>I'm scared and hearing creepy voices.  So I'll...</td>\n",
              "      <td>1</td>\n",
              "    </tr>\n",
              "    <tr>\n",
              "      <th>1</th>\n",
              "      <td>2</td>\n",
              "      <td>Spooky's Jump Scare Mansion</td>\n",
              "      <td>2016.0</td>\n",
              "      <td>Best game, more better than Sam Pepper's YouTu...</td>\n",
              "      <td>1</td>\n",
              "    </tr>\n",
              "    <tr>\n",
              "      <th>2</th>\n",
              "      <td>3</td>\n",
              "      <td>Spooky's Jump Scare Mansion</td>\n",
              "      <td>2016.0</td>\n",
              "      <td>A littly iffy on the controls, but once you kn...</td>\n",
              "      <td>1</td>\n",
              "    </tr>\n",
              "    <tr>\n",
              "      <th>3</th>\n",
              "      <td>4</td>\n",
              "      <td>Spooky's Jump Scare Mansion</td>\n",
              "      <td>2015.0</td>\n",
              "      <td>Great game, fun and colorful and all that.A si...</td>\n",
              "      <td>1</td>\n",
              "    </tr>\n",
              "    <tr>\n",
              "      <th>4</th>\n",
              "      <td>5</td>\n",
              "      <td>Spooky's Jump Scare Mansion</td>\n",
              "      <td>2015.0</td>\n",
              "      <td>Not many games have the cute tag right next to...</td>\n",
              "      <td>1</td>\n",
              "    </tr>\n",
              "  </tbody>\n",
              "</table>\n",
              "</div>"
            ],
            "text/plain": [
              "   review_id  ... user_suggestion\n",
              "0          1  ...               1\n",
              "1          2  ...               1\n",
              "2          3  ...               1\n",
              "3          4  ...               1\n",
              "4          5  ...               1\n",
              "\n",
              "[5 rows x 5 columns]"
            ]
          },
          "metadata": {
            "tags": []
          },
          "execution_count": 10
        }
      ]
    },
    {
      "cell_type": "code",
      "metadata": {
        "id": "0eGeEcKrICE8",
        "colab_type": "code",
        "colab": {
          "base_uri": "https://localhost:8080/",
          "height": 206
        },
        "outputId": "db096cfe-96f2-47db-ed4d-1a7cf0e862e2"
      },
      "source": [
        "test.head()"
      ],
      "execution_count": 11,
      "outputs": [
        {
          "output_type": "execute_result",
          "data": {
            "text/html": [
              "<div>\n",
              "<style scoped>\n",
              "    .dataframe tbody tr th:only-of-type {\n",
              "        vertical-align: middle;\n",
              "    }\n",
              "\n",
              "    .dataframe tbody tr th {\n",
              "        vertical-align: top;\n",
              "    }\n",
              "\n",
              "    .dataframe thead th {\n",
              "        text-align: right;\n",
              "    }\n",
              "</style>\n",
              "<table border=\"1\" class=\"dataframe\">\n",
              "  <thead>\n",
              "    <tr style=\"text-align: right;\">\n",
              "      <th></th>\n",
              "      <th>review_id</th>\n",
              "      <th>title</th>\n",
              "      <th>year</th>\n",
              "      <th>user_review</th>\n",
              "    </tr>\n",
              "  </thead>\n",
              "  <tbody>\n",
              "    <tr>\n",
              "      <th>0</th>\n",
              "      <td>1603</td>\n",
              "      <td>Counter-Strike: Global Offensive</td>\n",
              "      <td>2015.0</td>\n",
              "      <td>Nice graphics, new maps, weapons and models. B...</td>\n",
              "    </tr>\n",
              "    <tr>\n",
              "      <th>1</th>\n",
              "      <td>1604</td>\n",
              "      <td>Counter-Strike: Global Offensive</td>\n",
              "      <td>2018.0</td>\n",
              "      <td>I would not recommend getting into this at its...</td>\n",
              "    </tr>\n",
              "    <tr>\n",
              "      <th>2</th>\n",
              "      <td>1605</td>\n",
              "      <td>Counter-Strike: Global Offensive</td>\n",
              "      <td>2018.0</td>\n",
              "      <td>Edit 11/12/18I have tried playing CS:GO recent...</td>\n",
              "    </tr>\n",
              "    <tr>\n",
              "      <th>3</th>\n",
              "      <td>1606</td>\n",
              "      <td>Counter-Strike: Global Offensive</td>\n",
              "      <td>2015.0</td>\n",
              "      <td>The game is great. But the community is the wo...</td>\n",
              "    </tr>\n",
              "    <tr>\n",
              "      <th>4</th>\n",
              "      <td>1607</td>\n",
              "      <td>Counter-Strike: Global Offensive</td>\n",
              "      <td>2015.0</td>\n",
              "      <td>I thank TrulyRazor for buying this for me a lo...</td>\n",
              "    </tr>\n",
              "  </tbody>\n",
              "</table>\n",
              "</div>"
            ],
            "text/plain": [
              "   review_id  ...                                        user_review\n",
              "0       1603  ...  Nice graphics, new maps, weapons and models. B...\n",
              "1       1604  ...  I would not recommend getting into this at its...\n",
              "2       1605  ...  Edit 11/12/18I have tried playing CS:GO recent...\n",
              "3       1606  ...  The game is great. But the community is the wo...\n",
              "4       1607  ...  I thank TrulyRazor for buying this for me a lo...\n",
              "\n",
              "[5 rows x 4 columns]"
            ]
          },
          "metadata": {
            "tags": []
          },
          "execution_count": 11
        }
      ]
    },
    {
      "cell_type": "code",
      "metadata": {
        "id": "wi6vyBxkICFI",
        "colab_type": "code",
        "colab": {
          "base_uri": "https://localhost:8080/",
          "height": 35
        },
        "outputId": "9bc5b039-c401-43c0-eb12-36afe440111d"
      },
      "source": [
        "print(train.shape,test.shape,game_overview.shape)"
      ],
      "execution_count": 12,
      "outputs": [
        {
          "output_type": "stream",
          "text": [
            "(17494, 5) (8045, 4) (64, 5)\n"
          ],
          "name": "stdout"
        }
      ]
    },
    {
      "cell_type": "code",
      "metadata": {
        "id": "zNJUNrGBICFW",
        "colab_type": "code",
        "colab": {}
      },
      "source": [
        ""
      ],
      "execution_count": 0,
      "outputs": []
    },
    {
      "cell_type": "code",
      "metadata": {
        "id": "E-XB7SdbICFi",
        "colab_type": "code",
        "colab": {
          "base_uri": "https://localhost:8080/",
          "height": 72
        },
        "outputId": "c28e404c-a5a3-4ea9-a075-247c802acf8c"
      },
      "source": [
        "train['user_suggestion'].value_counts()"
      ],
      "execution_count": 13,
      "outputs": [
        {
          "output_type": "execute_result",
          "data": {
            "text/plain": [
              "1    9968\n",
              "0    7526\n",
              "Name: user_suggestion, dtype: int64"
            ]
          },
          "metadata": {
            "tags": []
          },
          "execution_count": 13
        }
      ]
    },
    {
      "cell_type": "code",
      "metadata": {
        "id": "JlEW53MzICFx",
        "colab_type": "code",
        "colab": {}
      },
      "source": [
        "train['data'] = 'train'\n",
        "test['data'] = 'test'\n",
        "test['user_suggestion'] = 0\n",
        "all = pd.concat([train,test],axis = 0)"
      ],
      "execution_count": 0,
      "outputs": []
    },
    {
      "cell_type": "code",
      "metadata": {
        "id": "NqnDQN71ICF-",
        "colab_type": "code",
        "colab": {
          "base_uri": "https://localhost:8080/",
          "height": 35
        },
        "outputId": "5df68b37-47ef-476d-a206-2ad7e211ffb6"
      },
      "source": [
        "all.shape"
      ],
      "execution_count": 15,
      "outputs": [
        {
          "output_type": "execute_result",
          "data": {
            "text/plain": [
              "(25539, 6)"
            ]
          },
          "metadata": {
            "tags": []
          },
          "execution_count": 15
        }
      ]
    },
    {
      "cell_type": "code",
      "metadata": {
        "id": "t7ESMiepICGM",
        "colab_type": "code",
        "colab": {
          "base_uri": "https://localhost:8080/",
          "height": 206
        },
        "outputId": "a893a55e-3e54-4685-adbb-ba4c39448b85"
      },
      "source": [
        "all.head()"
      ],
      "execution_count": 16,
      "outputs": [
        {
          "output_type": "execute_result",
          "data": {
            "text/html": [
              "<div>\n",
              "<style scoped>\n",
              "    .dataframe tbody tr th:only-of-type {\n",
              "        vertical-align: middle;\n",
              "    }\n",
              "\n",
              "    .dataframe tbody tr th {\n",
              "        vertical-align: top;\n",
              "    }\n",
              "\n",
              "    .dataframe thead th {\n",
              "        text-align: right;\n",
              "    }\n",
              "</style>\n",
              "<table border=\"1\" class=\"dataframe\">\n",
              "  <thead>\n",
              "    <tr style=\"text-align: right;\">\n",
              "      <th></th>\n",
              "      <th>review_id</th>\n",
              "      <th>title</th>\n",
              "      <th>year</th>\n",
              "      <th>user_review</th>\n",
              "      <th>user_suggestion</th>\n",
              "      <th>data</th>\n",
              "    </tr>\n",
              "  </thead>\n",
              "  <tbody>\n",
              "    <tr>\n",
              "      <th>0</th>\n",
              "      <td>1</td>\n",
              "      <td>Spooky's Jump Scare Mansion</td>\n",
              "      <td>2016.0</td>\n",
              "      <td>I'm scared and hearing creepy voices.  So I'll...</td>\n",
              "      <td>1</td>\n",
              "      <td>train</td>\n",
              "    </tr>\n",
              "    <tr>\n",
              "      <th>1</th>\n",
              "      <td>2</td>\n",
              "      <td>Spooky's Jump Scare Mansion</td>\n",
              "      <td>2016.0</td>\n",
              "      <td>Best game, more better than Sam Pepper's YouTu...</td>\n",
              "      <td>1</td>\n",
              "      <td>train</td>\n",
              "    </tr>\n",
              "    <tr>\n",
              "      <th>2</th>\n",
              "      <td>3</td>\n",
              "      <td>Spooky's Jump Scare Mansion</td>\n",
              "      <td>2016.0</td>\n",
              "      <td>A littly iffy on the controls, but once you kn...</td>\n",
              "      <td>1</td>\n",
              "      <td>train</td>\n",
              "    </tr>\n",
              "    <tr>\n",
              "      <th>3</th>\n",
              "      <td>4</td>\n",
              "      <td>Spooky's Jump Scare Mansion</td>\n",
              "      <td>2015.0</td>\n",
              "      <td>Great game, fun and colorful and all that.A si...</td>\n",
              "      <td>1</td>\n",
              "      <td>train</td>\n",
              "    </tr>\n",
              "    <tr>\n",
              "      <th>4</th>\n",
              "      <td>5</td>\n",
              "      <td>Spooky's Jump Scare Mansion</td>\n",
              "      <td>2015.0</td>\n",
              "      <td>Not many games have the cute tag right next to...</td>\n",
              "      <td>1</td>\n",
              "      <td>train</td>\n",
              "    </tr>\n",
              "  </tbody>\n",
              "</table>\n",
              "</div>"
            ],
            "text/plain": [
              "   review_id                        title  ...  user_suggestion   data\n",
              "0          1  Spooky's Jump Scare Mansion  ...                1  train\n",
              "1          2  Spooky's Jump Scare Mansion  ...                1  train\n",
              "2          3  Spooky's Jump Scare Mansion  ...                1  train\n",
              "3          4  Spooky's Jump Scare Mansion  ...                1  train\n",
              "4          5  Spooky's Jump Scare Mansion  ...                1  train\n",
              "\n",
              "[5 rows x 6 columns]"
            ]
          },
          "metadata": {
            "tags": []
          },
          "execution_count": 16
        }
      ]
    },
    {
      "cell_type": "code",
      "metadata": {
        "id": "4DHd14opICGX",
        "colab_type": "code",
        "colab": {
          "base_uri": "https://localhost:8080/",
          "height": 256
        },
        "outputId": "9bd7d1e6-9c09-4bde-be75-8456e20ed733"
      },
      "source": [
        "all.info()"
      ],
      "execution_count": 17,
      "outputs": [
        {
          "output_type": "stream",
          "text": [
            "<class 'pandas.core.frame.DataFrame'>\n",
            "Int64Index: 25539 entries, 0 to 8044\n",
            "Data columns (total 6 columns):\n",
            " #   Column           Non-Null Count  Dtype  \n",
            "---  ------           --------------  -----  \n",
            " 0   review_id        25539 non-null  int64  \n",
            " 1   title            25539 non-null  object \n",
            " 2   year             25294 non-null  float64\n",
            " 3   user_review      25539 non-null  object \n",
            " 4   user_suggestion  25539 non-null  int64  \n",
            " 5   data             25539 non-null  object \n",
            "dtypes: float64(1), int64(2), object(3)\n",
            "memory usage: 1.4+ MB\n"
          ],
          "name": "stdout"
        }
      ]
    },
    {
      "cell_type": "code",
      "metadata": {
        "id": "4vxu1XBIICGm",
        "colab_type": "code",
        "colab": {
          "base_uri": "https://localhost:8080/",
          "height": 300
        },
        "outputId": "f4e33e0f-3015-4505-fc5e-76616adc72d8"
      },
      "source": [
        "all.describe()"
      ],
      "execution_count": 18,
      "outputs": [
        {
          "output_type": "execute_result",
          "data": {
            "text/html": [
              "<div>\n",
              "<style scoped>\n",
              "    .dataframe tbody tr th:only-of-type {\n",
              "        vertical-align: middle;\n",
              "    }\n",
              "\n",
              "    .dataframe tbody tr th {\n",
              "        vertical-align: top;\n",
              "    }\n",
              "\n",
              "    .dataframe thead th {\n",
              "        text-align: right;\n",
              "    }\n",
              "</style>\n",
              "<table border=\"1\" class=\"dataframe\">\n",
              "  <thead>\n",
              "    <tr style=\"text-align: right;\">\n",
              "      <th></th>\n",
              "      <th>review_id</th>\n",
              "      <th>year</th>\n",
              "      <th>user_suggestion</th>\n",
              "    </tr>\n",
              "  </thead>\n",
              "  <tbody>\n",
              "    <tr>\n",
              "      <th>count</th>\n",
              "      <td>25539.000000</td>\n",
              "      <td>25294.000000</td>\n",
              "      <td>25539.000000</td>\n",
              "    </tr>\n",
              "    <tr>\n",
              "      <th>mean</th>\n",
              "      <td>12770.000000</td>\n",
              "      <td>2016.318336</td>\n",
              "      <td>0.390305</td>\n",
              "    </tr>\n",
              "    <tr>\n",
              "      <th>std</th>\n",
              "      <td>7372.618599</td>\n",
              "      <td>1.372628</td>\n",
              "      <td>0.487828</td>\n",
              "    </tr>\n",
              "    <tr>\n",
              "      <th>min</th>\n",
              "      <td>1.000000</td>\n",
              "      <td>2011.000000</td>\n",
              "      <td>0.000000</td>\n",
              "    </tr>\n",
              "    <tr>\n",
              "      <th>25%</th>\n",
              "      <td>6385.500000</td>\n",
              "      <td>2015.000000</td>\n",
              "      <td>0.000000</td>\n",
              "    </tr>\n",
              "    <tr>\n",
              "      <th>50%</th>\n",
              "      <td>12770.000000</td>\n",
              "      <td>2016.000000</td>\n",
              "      <td>0.000000</td>\n",
              "    </tr>\n",
              "    <tr>\n",
              "      <th>75%</th>\n",
              "      <td>19154.500000</td>\n",
              "      <td>2017.000000</td>\n",
              "      <td>1.000000</td>\n",
              "    </tr>\n",
              "    <tr>\n",
              "      <th>max</th>\n",
              "      <td>25539.000000</td>\n",
              "      <td>2018.000000</td>\n",
              "      <td>1.000000</td>\n",
              "    </tr>\n",
              "  </tbody>\n",
              "</table>\n",
              "</div>"
            ],
            "text/plain": [
              "          review_id          year  user_suggestion\n",
              "count  25539.000000  25294.000000     25539.000000\n",
              "mean   12770.000000   2016.318336         0.390305\n",
              "std     7372.618599      1.372628         0.487828\n",
              "min        1.000000   2011.000000         0.000000\n",
              "25%     6385.500000   2015.000000         0.000000\n",
              "50%    12770.000000   2016.000000         0.000000\n",
              "75%    19154.500000   2017.000000         1.000000\n",
              "max    25539.000000   2018.000000         1.000000"
            ]
          },
          "metadata": {
            "tags": []
          },
          "execution_count": 18
        }
      ]
    },
    {
      "cell_type": "code",
      "metadata": {
        "id": "RY73QEqBICGx",
        "colab_type": "code",
        "colab": {}
      },
      "source": [
        "all['review_length'] = all.apply(lambda row: len(str(row['user_review'])), axis=1)"
      ],
      "execution_count": 0,
      "outputs": []
    },
    {
      "cell_type": "code",
      "metadata": {
        "id": "E7L9lOinICG7",
        "colab_type": "code",
        "colab": {
          "base_uri": "https://localhost:8080/",
          "height": 458
        },
        "outputId": "7f02f7ce-cba2-4b5c-8f3c-27d4b0974f84"
      },
      "source": [
        "len(all['title'].unique()), all['title'].unique()"
      ],
      "execution_count": 20,
      "outputs": [
        {
          "output_type": "execute_result",
          "data": {
            "text/plain": [
              "(64, array([\"Spooky's Jump Scare Mansion\", 'Sakura Clicker', 'WARMODE',\n",
              "        'Fractured Space', 'Dota 2', 'Path of Exile', 'War Thunder',\n",
              "        'Ring of Elysium', 'Team Fortress 2', 'Yu-Gi-Oh! Duel Links',\n",
              "        'SMITE®', 'Brawlhalla', 'World of Tanks Blitz',\n",
              "        'DCS World Steam Edition', 'Heroes & Generals',\n",
              "        'The Elder Scrolls®: Legends™', 'Trove', 'Neverwinter',\n",
              "        'Realm Royale', 'PlanetSide 2', 'Realm of the Mad God', 'Elsword',\n",
              "        'theHunter Classic', 'Eternal Card Game', 'Black Squad',\n",
              "        'Freestyle 2: Street Basketball', 'Bless Online',\n",
              "        'RaceRoom Racing Experience', 'Fallout Shelter',\n",
              "        'Tactical Monsters Rumble Arena', 'Creativerse', 'Dreadnought',\n",
              "        'Infestation: The New Z', 'Shop Heroes', 'Robocraft',\n",
              "        'Business Tour - Board Game with Online Multiplayer',\n",
              "        'Crusaders of the Lost Idols', 'AdventureQuest 3D',\n",
              "        'Realm Grinder', 'World of Guns: Gun Disassembly',\n",
              "        'Bloons TD Battles', 'Cuisine Royale', 'School of Dragons',\n",
              "        'EverQuest II', 'Counter-Strike: Global Offensive',\n",
              "        'World of Warships', 'Star Trek Online', 'Paladins®',\n",
              "        'Shadowverse CCG', 'Tree of Savior (English Ver.)',\n",
              "        'VEGA Conflict', 'Minion Masters', 'The Lord of the Rings Online™',\n",
              "        'Fishing Planet', 'Crush Crush', 'Dungeon Defenders II',\n",
              "        'Governor of Poker 3', 'Digimon Masters Online',\n",
              "        'Shakes and Fidget', 'Champions Online', 'Magic Duels',\n",
              "        'Aura Kingdom', 'H1Z1', 'GUNS UP!'], dtype=object))"
            ]
          },
          "metadata": {
            "tags": []
          },
          "execution_count": 20
        }
      ]
    },
    {
      "cell_type": "code",
      "metadata": {
        "id": "Gx6i3UzQICHD",
        "colab_type": "code",
        "colab": {
          "base_uri": "https://localhost:8080/",
          "height": 164
        },
        "outputId": "4ad5e7bd-7bb8-443d-a89f-7ad6d22b942c"
      },
      "source": [
        "all.isnull().sum()"
      ],
      "execution_count": 21,
      "outputs": [
        {
          "output_type": "execute_result",
          "data": {
            "text/plain": [
              "review_id            0\n",
              "title                0\n",
              "year               245\n",
              "user_review          0\n",
              "user_suggestion      0\n",
              "data                 0\n",
              "review_length        0\n",
              "dtype: int64"
            ]
          },
          "metadata": {
            "tags": []
          },
          "execution_count": 21
        }
      ]
    },
    {
      "cell_type": "code",
      "metadata": {
        "id": "srILI61eICHR",
        "colab_type": "code",
        "colab": {}
      },
      "source": [
        "all['year'].fillna(all['year'].mode()[0], inplace=True)"
      ],
      "execution_count": 0,
      "outputs": []
    },
    {
      "cell_type": "code",
      "metadata": {
        "id": "68BGw8eyICHh",
        "colab_type": "code",
        "colab": {
          "base_uri": "https://localhost:8080/",
          "height": 35
        },
        "outputId": "e67ebb3c-25e0-4fcd-b2e9-09b921b710f5"
      },
      "source": [
        "all.shape"
      ],
      "execution_count": 23,
      "outputs": [
        {
          "output_type": "execute_result",
          "data": {
            "text/plain": [
              "(25539, 7)"
            ]
          },
          "metadata": {
            "tags": []
          },
          "execution_count": 23
        }
      ]
    },
    {
      "cell_type": "code",
      "metadata": {
        "id": "b1NP-UgFICHz",
        "colab_type": "code",
        "colab": {
          "base_uri": "https://localhost:8080/",
          "height": 747
        },
        "outputId": "ce63edda-310b-4dcf-9c56-d211a1bb5a11"
      },
      "source": [
        "training = pd.merge(all,game_overview , on=['title'], how='left')\n",
        "training.head()"
      ],
      "execution_count": 24,
      "outputs": [
        {
          "output_type": "execute_result",
          "data": {
            "text/html": [
              "<div>\n",
              "<style scoped>\n",
              "    .dataframe tbody tr th:only-of-type {\n",
              "        vertical-align: middle;\n",
              "    }\n",
              "\n",
              "    .dataframe tbody tr th {\n",
              "        vertical-align: top;\n",
              "    }\n",
              "\n",
              "    .dataframe thead th {\n",
              "        text-align: right;\n",
              "    }\n",
              "</style>\n",
              "<table border=\"1\" class=\"dataframe\">\n",
              "  <thead>\n",
              "    <tr style=\"text-align: right;\">\n",
              "      <th></th>\n",
              "      <th>review_id</th>\n",
              "      <th>title</th>\n",
              "      <th>year</th>\n",
              "      <th>user_review</th>\n",
              "      <th>user_suggestion</th>\n",
              "      <th>data</th>\n",
              "      <th>review_length</th>\n",
              "      <th>developer</th>\n",
              "      <th>publisher</th>\n",
              "      <th>tags</th>\n",
              "      <th>overview</th>\n",
              "    </tr>\n",
              "  </thead>\n",
              "  <tbody>\n",
              "    <tr>\n",
              "      <th>0</th>\n",
              "      <td>1</td>\n",
              "      <td>Spooky's Jump Scare Mansion</td>\n",
              "      <td>2016.0</td>\n",
              "      <td>I'm scared and hearing creepy voices.  So I'll...</td>\n",
              "      <td>1</td>\n",
              "      <td>train</td>\n",
              "      <td>710</td>\n",
              "      <td>Lag Studios</td>\n",
              "      <td>Lag Studios</td>\n",
              "      <td>['Horror', 'Free to Play', 'Cute', 'First-Pers...</td>\n",
              "      <td>Can you survive 1000 rooms of cute terror? Or ...</td>\n",
              "    </tr>\n",
              "    <tr>\n",
              "      <th>1</th>\n",
              "      <td>2</td>\n",
              "      <td>Spooky's Jump Scare Mansion</td>\n",
              "      <td>2016.0</td>\n",
              "      <td>Best game, more better than Sam Pepper's YouTu...</td>\n",
              "      <td>1</td>\n",
              "      <td>train</td>\n",
              "      <td>335</td>\n",
              "      <td>Lag Studios</td>\n",
              "      <td>Lag Studios</td>\n",
              "      <td>['Horror', 'Free to Play', 'Cute', 'First-Pers...</td>\n",
              "      <td>Can you survive 1000 rooms of cute terror? Or ...</td>\n",
              "    </tr>\n",
              "    <tr>\n",
              "      <th>2</th>\n",
              "      <td>3</td>\n",
              "      <td>Spooky's Jump Scare Mansion</td>\n",
              "      <td>2016.0</td>\n",
              "      <td>A littly iffy on the controls, but once you kn...</td>\n",
              "      <td>1</td>\n",
              "      <td>train</td>\n",
              "      <td>397</td>\n",
              "      <td>Lag Studios</td>\n",
              "      <td>Lag Studios</td>\n",
              "      <td>['Horror', 'Free to Play', 'Cute', 'First-Pers...</td>\n",
              "      <td>Can you survive 1000 rooms of cute terror? Or ...</td>\n",
              "    </tr>\n",
              "    <tr>\n",
              "      <th>3</th>\n",
              "      <td>4</td>\n",
              "      <td>Spooky's Jump Scare Mansion</td>\n",
              "      <td>2015.0</td>\n",
              "      <td>Great game, fun and colorful and all that.A si...</td>\n",
              "      <td>1</td>\n",
              "      <td>train</td>\n",
              "      <td>280</td>\n",
              "      <td>Lag Studios</td>\n",
              "      <td>Lag Studios</td>\n",
              "      <td>['Horror', 'Free to Play', 'Cute', 'First-Pers...</td>\n",
              "      <td>Can you survive 1000 rooms of cute terror? Or ...</td>\n",
              "    </tr>\n",
              "    <tr>\n",
              "      <th>4</th>\n",
              "      <td>5</td>\n",
              "      <td>Spooky's Jump Scare Mansion</td>\n",
              "      <td>2015.0</td>\n",
              "      <td>Not many games have the cute tag right next to...</td>\n",
              "      <td>1</td>\n",
              "      <td>train</td>\n",
              "      <td>334</td>\n",
              "      <td>Lag Studios</td>\n",
              "      <td>Lag Studios</td>\n",
              "      <td>['Horror', 'Free to Play', 'Cute', 'First-Pers...</td>\n",
              "      <td>Can you survive 1000 rooms of cute terror? Or ...</td>\n",
              "    </tr>\n",
              "  </tbody>\n",
              "</table>\n",
              "</div>"
            ],
            "text/plain": [
              "   review_id  ...                                           overview\n",
              "0          1  ...  Can you survive 1000 rooms of cute terror? Or ...\n",
              "1          2  ...  Can you survive 1000 rooms of cute terror? Or ...\n",
              "2          3  ...  Can you survive 1000 rooms of cute terror? Or ...\n",
              "3          4  ...  Can you survive 1000 rooms of cute terror? Or ...\n",
              "4          5  ...  Can you survive 1000 rooms of cute terror? Or ...\n",
              "\n",
              "[5 rows x 11 columns]"
            ]
          },
          "metadata": {
            "tags": []
          },
          "execution_count": 24
        }
      ]
    },
    {
      "cell_type": "code",
      "metadata": {
        "id": "rn2lhm5oICIA",
        "colab_type": "code",
        "colab": {}
      },
      "source": [
        "training['overview_length'] = training.apply(lambda row: len(str(row['overview'])), axis=1)"
      ],
      "execution_count": 0,
      "outputs": []
    },
    {
      "cell_type": "code",
      "metadata": {
        "id": "NMhSKjMpICIK",
        "colab_type": "code",
        "colab": {
          "base_uri": "https://localhost:8080/",
          "height": 35
        },
        "outputId": "8969cf7f-3b94-4178-fa50-7c31df579207"
      },
      "source": [
        "training.shape"
      ],
      "execution_count": 26,
      "outputs": [
        {
          "output_type": "execute_result",
          "data": {
            "text/plain": [
              "(25539, 12)"
            ]
          },
          "metadata": {
            "tags": []
          },
          "execution_count": 26
        }
      ]
    },
    {
      "cell_type": "code",
      "metadata": {
        "id": "yUUkkTTIICIX",
        "colab_type": "code",
        "colab": {
          "base_uri": "https://localhost:8080/",
          "height": 1000
        },
        "outputId": "9fd168d2-2e4b-4015-c1e6-248573d64ec2"
      },
      "source": [
        "training"
      ],
      "execution_count": 27,
      "outputs": [
        {
          "output_type": "execute_result",
          "data": {
            "text/html": [
              "<div>\n",
              "<style scoped>\n",
              "    .dataframe tbody tr th:only-of-type {\n",
              "        vertical-align: middle;\n",
              "    }\n",
              "\n",
              "    .dataframe tbody tr th {\n",
              "        vertical-align: top;\n",
              "    }\n",
              "\n",
              "    .dataframe thead th {\n",
              "        text-align: right;\n",
              "    }\n",
              "</style>\n",
              "<table border=\"1\" class=\"dataframe\">\n",
              "  <thead>\n",
              "    <tr style=\"text-align: right;\">\n",
              "      <th></th>\n",
              "      <th>review_id</th>\n",
              "      <th>title</th>\n",
              "      <th>year</th>\n",
              "      <th>user_review</th>\n",
              "      <th>user_suggestion</th>\n",
              "      <th>data</th>\n",
              "      <th>review_length</th>\n",
              "      <th>developer</th>\n",
              "      <th>publisher</th>\n",
              "      <th>tags</th>\n",
              "      <th>overview</th>\n",
              "      <th>overview_length</th>\n",
              "    </tr>\n",
              "  </thead>\n",
              "  <tbody>\n",
              "    <tr>\n",
              "      <th>0</th>\n",
              "      <td>1</td>\n",
              "      <td>Spooky's Jump Scare Mansion</td>\n",
              "      <td>2016.0</td>\n",
              "      <td>I'm scared and hearing creepy voices.  So I'll...</td>\n",
              "      <td>1</td>\n",
              "      <td>train</td>\n",
              "      <td>710</td>\n",
              "      <td>Lag Studios</td>\n",
              "      <td>Lag Studios</td>\n",
              "      <td>['Horror', 'Free to Play', 'Cute', 'First-Pers...</td>\n",
              "      <td>Can you survive 1000 rooms of cute terror? Or ...</td>\n",
              "      <td>472</td>\n",
              "    </tr>\n",
              "    <tr>\n",
              "      <th>1</th>\n",
              "      <td>2</td>\n",
              "      <td>Spooky's Jump Scare Mansion</td>\n",
              "      <td>2016.0</td>\n",
              "      <td>Best game, more better than Sam Pepper's YouTu...</td>\n",
              "      <td>1</td>\n",
              "      <td>train</td>\n",
              "      <td>335</td>\n",
              "      <td>Lag Studios</td>\n",
              "      <td>Lag Studios</td>\n",
              "      <td>['Horror', 'Free to Play', 'Cute', 'First-Pers...</td>\n",
              "      <td>Can you survive 1000 rooms of cute terror? Or ...</td>\n",
              "      <td>472</td>\n",
              "    </tr>\n",
              "    <tr>\n",
              "      <th>2</th>\n",
              "      <td>3</td>\n",
              "      <td>Spooky's Jump Scare Mansion</td>\n",
              "      <td>2016.0</td>\n",
              "      <td>A littly iffy on the controls, but once you kn...</td>\n",
              "      <td>1</td>\n",
              "      <td>train</td>\n",
              "      <td>397</td>\n",
              "      <td>Lag Studios</td>\n",
              "      <td>Lag Studios</td>\n",
              "      <td>['Horror', 'Free to Play', 'Cute', 'First-Pers...</td>\n",
              "      <td>Can you survive 1000 rooms of cute terror? Or ...</td>\n",
              "      <td>472</td>\n",
              "    </tr>\n",
              "    <tr>\n",
              "      <th>3</th>\n",
              "      <td>4</td>\n",
              "      <td>Spooky's Jump Scare Mansion</td>\n",
              "      <td>2015.0</td>\n",
              "      <td>Great game, fun and colorful and all that.A si...</td>\n",
              "      <td>1</td>\n",
              "      <td>train</td>\n",
              "      <td>280</td>\n",
              "      <td>Lag Studios</td>\n",
              "      <td>Lag Studios</td>\n",
              "      <td>['Horror', 'Free to Play', 'Cute', 'First-Pers...</td>\n",
              "      <td>Can you survive 1000 rooms of cute terror? Or ...</td>\n",
              "      <td>472</td>\n",
              "    </tr>\n",
              "    <tr>\n",
              "      <th>4</th>\n",
              "      <td>5</td>\n",
              "      <td>Spooky's Jump Scare Mansion</td>\n",
              "      <td>2015.0</td>\n",
              "      <td>Not many games have the cute tag right next to...</td>\n",
              "      <td>1</td>\n",
              "      <td>train</td>\n",
              "      <td>334</td>\n",
              "      <td>Lag Studios</td>\n",
              "      <td>Lag Studios</td>\n",
              "      <td>['Horror', 'Free to Play', 'Cute', 'First-Pers...</td>\n",
              "      <td>Can you survive 1000 rooms of cute terror? Or ...</td>\n",
              "      <td>472</td>\n",
              "    </tr>\n",
              "    <tr>\n",
              "      <th>...</th>\n",
              "      <td>...</td>\n",
              "      <td>...</td>\n",
              "      <td>...</td>\n",
              "      <td>...</td>\n",
              "      <td>...</td>\n",
              "      <td>...</td>\n",
              "      <td>...</td>\n",
              "      <td>...</td>\n",
              "      <td>...</td>\n",
              "      <td>...</td>\n",
              "      <td>...</td>\n",
              "      <td>...</td>\n",
              "    </tr>\n",
              "    <tr>\n",
              "      <th>25534</th>\n",
              "      <td>25198</td>\n",
              "      <td>GUNS UP!</td>\n",
              "      <td>2017.0</td>\n",
              "      <td>Early Access ReviewGuns UP!Positive: Good Idea...</td>\n",
              "      <td>0</td>\n",
              "      <td>test</td>\n",
              "      <td>468</td>\n",
              "      <td>Valkyrie Entertainment, LLC</td>\n",
              "      <td>PlayStation Mobile, Inc.</td>\n",
              "      <td>['Free to Play', 'Strategy', 'Multiplayer', 'A...</td>\n",
              "      <td>In a mashup of RTS &amp; Tower Defense, GUNS UP! i...</td>\n",
              "      <td>1488</td>\n",
              "    </tr>\n",
              "    <tr>\n",
              "      <th>25535</th>\n",
              "      <td>25199</td>\n",
              "      <td>GUNS UP!</td>\n",
              "      <td>2018.0</td>\n",
              "      <td>After 170 hrs, my review. DO NOT SPEND ANY MON...</td>\n",
              "      <td>0</td>\n",
              "      <td>test</td>\n",
              "      <td>1044</td>\n",
              "      <td>Valkyrie Entertainment, LLC</td>\n",
              "      <td>PlayStation Mobile, Inc.</td>\n",
              "      <td>['Free to Play', 'Strategy', 'Multiplayer', 'A...</td>\n",
              "      <td>In a mashup of RTS &amp; Tower Defense, GUNS UP! i...</td>\n",
              "      <td>1488</td>\n",
              "    </tr>\n",
              "    <tr>\n",
              "      <th>25536</th>\n",
              "      <td>25200</td>\n",
              "      <td>GUNS UP!</td>\n",
              "      <td>2018.0</td>\n",
              "      <td>Pros:-Fun GameplayCons: -Micro %$#*ing transac...</td>\n",
              "      <td>0</td>\n",
              "      <td>test</td>\n",
              "      <td>403</td>\n",
              "      <td>Valkyrie Entertainment, LLC</td>\n",
              "      <td>PlayStation Mobile, Inc.</td>\n",
              "      <td>['Free to Play', 'Strategy', 'Multiplayer', 'A...</td>\n",
              "      <td>In a mashup of RTS &amp; Tower Defense, GUNS UP! i...</td>\n",
              "      <td>1488</td>\n",
              "    </tr>\n",
              "    <tr>\n",
              "      <th>25537</th>\n",
              "      <td>25201</td>\n",
              "      <td>GUNS UP!</td>\n",
              "      <td>2018.0</td>\n",
              "      <td>Actualy saucy, I definetly suggest to players ...</td>\n",
              "      <td>0</td>\n",
              "      <td>test</td>\n",
              "      <td>771</td>\n",
              "      <td>Valkyrie Entertainment, LLC</td>\n",
              "      <td>PlayStation Mobile, Inc.</td>\n",
              "      <td>['Free to Play', 'Strategy', 'Multiplayer', 'A...</td>\n",
              "      <td>In a mashup of RTS &amp; Tower Defense, GUNS UP! i...</td>\n",
              "      <td>1488</td>\n",
              "    </tr>\n",
              "    <tr>\n",
              "      <th>25538</th>\n",
              "      <td>25202</td>\n",
              "      <td>GUNS UP!</td>\n",
              "      <td>2016.0</td>\n",
              "      <td>see people that play for 30 minutes and then s...</td>\n",
              "      <td>0</td>\n",
              "      <td>test</td>\n",
              "      <td>192</td>\n",
              "      <td>Valkyrie Entertainment, LLC</td>\n",
              "      <td>PlayStation Mobile, Inc.</td>\n",
              "      <td>['Free to Play', 'Strategy', 'Multiplayer', 'A...</td>\n",
              "      <td>In a mashup of RTS &amp; Tower Defense, GUNS UP! i...</td>\n",
              "      <td>1488</td>\n",
              "    </tr>\n",
              "  </tbody>\n",
              "</table>\n",
              "<p>25539 rows × 12 columns</p>\n",
              "</div>"
            ],
            "text/plain": [
              "       review_id  ... overview_length\n",
              "0              1  ...             472\n",
              "1              2  ...             472\n",
              "2              3  ...             472\n",
              "3              4  ...             472\n",
              "4              5  ...             472\n",
              "...          ...  ...             ...\n",
              "25534      25198  ...            1488\n",
              "25535      25199  ...            1488\n",
              "25536      25200  ...            1488\n",
              "25537      25201  ...            1488\n",
              "25538      25202  ...            1488\n",
              "\n",
              "[25539 rows x 12 columns]"
            ]
          },
          "metadata": {
            "tags": []
          },
          "execution_count": 27
        }
      ]
    },
    {
      "cell_type": "code",
      "metadata": {
        "id": "kOU4XqAIICIj",
        "colab_type": "code",
        "colab": {}
      },
      "source": [
        "#train=training[training['data']=='train']\n",
        "#del train['data']\n",
        "#test=training[training['data']=='test']\n",
        "#test.drop(['user_suggestion','data'],axis=1,inplace=True)"
      ],
      "execution_count": 0,
      "outputs": []
    },
    {
      "cell_type": "code",
      "metadata": {
        "id": "qgLvRutHICIw",
        "colab_type": "code",
        "colab": {
          "base_uri": "https://localhost:8080/",
          "height": 74
        },
        "outputId": "9eb7445a-e4b1-459b-eb43-2b35996ee11a"
      },
      "source": [
        "import seaborn as sns\n",
        "import matplotlib.pyplot as plt\n",
        "%matplotlib inline"
      ],
      "execution_count": 29,
      "outputs": [
        {
          "output_type": "stream",
          "text": [
            "/usr/local/lib/python3.6/dist-packages/statsmodels/tools/_testing.py:19: FutureWarning: pandas.util.testing is deprecated. Use the functions in the public API at pandas.testing instead.\n",
            "  import pandas.util.testing as tm\n"
          ],
          "name": "stderr"
        }
      ]
    },
    {
      "cell_type": "code",
      "metadata": {
        "id": "e5VNbb-oICI7",
        "colab_type": "code",
        "colab": {}
      },
      "source": [
        "#training['tags'].value_counts()"
      ],
      "execution_count": 0,
      "outputs": []
    },
    {
      "cell_type": "code",
      "metadata": {
        "id": "42xMKBHoICKe",
        "colab_type": "code",
        "colab": {
          "base_uri": "https://localhost:8080/",
          "height": 277
        },
        "outputId": "6fe1ae78-58eb-4e79-daaf-f0f51d2dd6e7"
      },
      "source": [
        "training.groupby('user_suggestion').user_review.count().plot.bar()\n",
        "plt.show()"
      ],
      "execution_count": 31,
      "outputs": [
        {
          "output_type": "display_data",
          "data": {
            "image/png": "[encoded data removed]",
            "text/plain": [
              "<Figure size 432x288 with 1 Axes>"
            ]
          },
          "metadata": {
            "tags": [],
            "needs_background": "light"
          }
        }
      ]
    },
    {
      "cell_type": "code",
      "metadata": {
        "id": "vpbvWQx8ICKp",
        "colab_type": "code",
        "colab": {
          "base_uri": "https://localhost:8080/",
          "height": 277
        },
        "outputId": "432f5aa8-5048-42bf-b6aa-4ff8602747b0"
      },
      "source": [
        "training.groupby('user_suggestion').title.count().plot.bar()\n",
        "plt.show()"
      ],
      "execution_count": 32,
      "outputs": [
        {
          "output_type": "display_data",
          "data": {
            "image/png": "[encoded data removed]",
            "text/plain": [
              "<Figure size 432x288 with 1 Axes>"
            ]
          },
          "metadata": {
            "tags": [],
            "needs_background": "light"
          }
        }
      ]
    },
    {
      "cell_type": "code",
      "metadata": {
        "id": "TiTRmv8xUm9M",
        "colab_type": "code",
        "colab": {
          "base_uri": "https://localhost:8080/",
          "height": 72
        },
        "outputId": "3117f513-7d62-4d53-adb7-0e2e1430d6f0"
      },
      "source": [
        "import nltk\n",
        "nltk.download('stopwords')"
      ],
      "execution_count": 33,
      "outputs": [
        {
          "output_type": "stream",
          "text": [
            "[nltk_data] Downloading package stopwords to /root/nltk_data...\n",
            "[nltk_data]   Package stopwords is already up-to-date!\n"
          ],
          "name": "stdout"
        },
        {
          "output_type": "execute_result",
          "data": {
            "text/plain": [
              "True"
            ]
          },
          "metadata": {
            "tags": []
          },
          "execution_count": 33
        }
      ]
    },
    {
      "cell_type": "code",
      "metadata": {
        "id": "3gFUsmQJICKz",
        "colab_type": "code",
        "colab": {}
      },
      "source": [
        "import re\n",
        "from nltk.corpus import stopwords\n",
        "stops = stopwords.words('english')"
      ],
      "execution_count": 0,
      "outputs": []
    },
    {
      "cell_type": "code",
      "metadata": {
        "id": "0bbK7jfmICK7",
        "colab_type": "code",
        "colab": {
          "base_uri": "https://localhost:8080/",
          "height": 55
        },
        "outputId": "2e445f49-5c5b-440a-ca5a-1aaf15b0e2d9"
      },
      "source": [
        "training['user_review'][11300]"
      ],
      "execution_count": 35,
      "outputs": [
        {
          "output_type": "execute_result",
          "data": {
            "text/plain": [
              "\"Early Access ReviewCan't give you a thumbs up in the current state. Yes, I'm gonna keep playing it, but I'm pretty upset with your ranked system. What's the point of being a bronze 3 if you're going to keep matching me against silvers? It's not like there's a lack of players...\""
            ]
          },
          "metadata": {
            "tags": []
          },
          "execution_count": 35
        }
      ]
    },
    {
      "cell_type": "code",
      "metadata": {
        "id": "02cv7TPhICLE",
        "colab_type": "code",
        "colab": {
          "base_uri": "https://localhost:8080/",
          "height": 127
        },
        "outputId": "6bbdf044-eb13-4eed-9dae-6506a18a8d52"
      },
      "source": [
        "#training['user_review'] = training['user_review'].apply(lambda x:remove_punctuation(x))\n",
        "training['user_review'].head()"
      ],
      "execution_count": 36,
      "outputs": [
        {
          "output_type": "execute_result",
          "data": {
            "text/plain": [
              "0    I'm scared and hearing creepy voices.  So I'll...\n",
              "1    Best game, more better than Sam Pepper's YouTu...\n",
              "2    A littly iffy on the controls, but once you kn...\n",
              "3    Great game, fun and colorful and all that.A si...\n",
              "4    Not many games have the cute tag right next to...\n",
              "Name: user_review, dtype: object"
            ]
          },
          "metadata": {
            "tags": []
          },
          "execution_count": 36
        }
      ]
    },
    {
      "cell_type": "code",
      "metadata": {
        "id": "NIWi_XcfICLL",
        "colab_type": "code",
        "colab": {}
      },
      "source": [
        "from nltk.tokenize import RegexpTokenizer\n",
        "tokenizer = RegexpTokenizer(r'\\w+')"
      ],
      "execution_count": 0,
      "outputs": []
    },
    {
      "cell_type": "code",
      "metadata": {
        "id": "A4rixTGTICLU",
        "colab_type": "code",
        "colab": {}
      },
      "source": [
        "training['user_review'] = training['user_review'].apply(lambda x: tokenizer.tokenize(x.lower()))"
      ],
      "execution_count": 0,
      "outputs": []
    },
    {
      "cell_type": "code",
      "metadata": {
        "id": "PTJ2GFqnXXMv",
        "colab_type": "code",
        "colab": {}
      },
      "source": [
        "training['overview'] = training['overview'].apply(lambda x: tokenizer.tokenize(x.lower()))"
      ],
      "execution_count": 0,
      "outputs": []
    },
    {
      "cell_type": "code",
      "metadata": {
        "id": "Gb4xoiBkXlbu",
        "colab_type": "code",
        "colab": {
          "base_uri": "https://localhost:8080/",
          "height": 127
        },
        "outputId": "c03b7683-877d-4691-cfa8-641e5e5cf4f1"
      },
      "source": [
        "training['overview'].head()"
      ],
      "execution_count": 40,
      "outputs": [
        {
          "output_type": "execute_result",
          "data": {
            "text/plain": [
              "0    [can, you, survive, 1000, rooms, of, cute, ter...\n",
              "1    [can, you, survive, 1000, rooms, of, cute, ter...\n",
              "2    [can, you, survive, 1000, rooms, of, cute, ter...\n",
              "3    [can, you, survive, 1000, rooms, of, cute, ter...\n",
              "4    [can, you, survive, 1000, rooms, of, cute, ter...\n",
              "Name: overview, dtype: object"
            ]
          },
          "metadata": {
            "tags": []
          },
          "execution_count": 40
        }
      ]
    },
    {
      "cell_type": "code",
      "metadata": {
        "id": "195PLnvaICLe",
        "colab_type": "code",
        "colab": {
          "base_uri": "https://localhost:8080/",
          "height": 219
        },
        "outputId": "cdd98512-05a6-4b83-eb92-8064064ec14c"
      },
      "source": [
        "training['user_review'].head(10)"
      ],
      "execution_count": 41,
      "outputs": [
        {
          "output_type": "execute_result",
          "data": {
            "text/plain": [
              "0    [i, m, scared, and, hearing, creepy, voices, s...\n",
              "1    [best, game, more, better, than, sam, pepper, ...\n",
              "2    [a, littly, iffy, on, the, controls, but, once...\n",
              "3    [great, game, fun, and, colorful, and, all, th...\n",
              "4    [not, many, games, have, the, cute, tag, right...\n",
              "5    [early, access, reviewit, s, pretty, cute, at,...\n",
              "6    [great, game, it, s, a, cute, little, horror, ...\n",
              "7    [spooky, s, jump, scare, mansion, is, a, free,...\n",
              "8    [somewhere, between, light, hearted, happy, pa...\n",
              "9    [this, game, with, its, cute, little, out, of,...\n",
              "Name: user_review, dtype: object"
            ]
          },
          "metadata": {
            "tags": []
          },
          "execution_count": 41
        }
      ]
    },
    {
      "cell_type": "code",
      "metadata": {
        "id": "8xxOWDGnICLn",
        "colab_type": "code",
        "colab": {}
      },
      "source": [
        "def remove_stopwords(text):\n",
        "    words = [w for w in text if w not in stopwords.words('english')]\n",
        "    return words"
      ],
      "execution_count": 0,
      "outputs": []
    },
    {
      "cell_type": "code",
      "metadata": {
        "id": "0y_dbwBLY31b",
        "colab_type": "code",
        "colab": {}
      },
      "source": [
        "training['overview'] = training['overview'].apply(lambda x : remove_stopwords(x))"
      ],
      "execution_count": 0,
      "outputs": []
    },
    {
      "cell_type": "code",
      "metadata": {
        "id": "xPbGttUiY-jI",
        "colab_type": "code",
        "colab": {
          "base_uri": "https://localhost:8080/",
          "height": 127
        },
        "outputId": "32520aa6-dc42-4c37-b15e-d960cb44ca9c"
      },
      "source": [
        "training['overview'].head()"
      ],
      "execution_count": 44,
      "outputs": [
        {
          "output_type": "execute_result",
          "data": {
            "text/plain": [
              "0    [survive, 1000, rooms, cute, terror, break, cu...\n",
              "1    [survive, 1000, rooms, cute, terror, break, cu...\n",
              "2    [survive, 1000, rooms, cute, terror, break, cu...\n",
              "3    [survive, 1000, rooms, cute, terror, break, cu...\n",
              "4    [survive, 1000, rooms, cute, terror, break, cu...\n",
              "Name: overview, dtype: object"
            ]
          },
          "metadata": {
            "tags": []
          },
          "execution_count": 44
        }
      ]
    },
    {
      "cell_type": "code",
      "metadata": {
        "id": "oLE-EjnLICLy",
        "colab_type": "code",
        "colab": {}
      },
      "source": [
        "training['user_review'] = training['user_review'].apply(lambda x : remove_stopwords(x))"
      ],
      "execution_count": 0,
      "outputs": []
    },
    {
      "cell_type": "code",
      "metadata": {
        "scrolled": true,
        "id": "f4YwcSViICL5",
        "colab_type": "code",
        "colab": {
          "base_uri": "https://localhost:8080/",
          "height": 660
        },
        "outputId": "d99e52e7-f77c-48b0-9910-b56c3d4f31f4"
      },
      "source": [
        "training['user_review'].head(34)"
      ],
      "execution_count": 46,
      "outputs": [
        {
          "output_type": "execute_result",
          "data": {
            "text/plain": [
              "0     [scared, hearing, creepy, voices, pause, momen...\n",
              "1     [best, game, better, sam, pepper, youtube, acc...\n",
              "2     [littly, iffy, controls, know, play, easy, mas...\n",
              "3     [great, game, fun, colorful, side, note, thoug...\n",
              "4     [many, games, cute, tag, right, next, horror, ...\n",
              "5     [early, access, reviewit, pretty, cute, first,...\n",
              "6     [great, game, cute, little, horror, game, prog...\n",
              "7     [spooky, jump, scare, mansion, free, retro, ma...\n",
              "8     [somewhere, light, hearted, happy, parody, afr...\n",
              "9     [game, cute, little, wall, pop, ups, scared, l...\n",
              "10    [early, access, reviewi, thought, game, would,...\n",
              "11    [early, access, reviewgreen, ghosty, goo, thin...\n",
              "12    [early, access, reviewrooms, 1, 20, cute, ador...\n",
              "13    [early, access, reviewgreat, game, always, run...\n",
              "14    [name, says, get, fooled, seemingly, normal, t...\n",
              "15    [never, would, thought, something, adorably, c...\n",
              "16    [first, get, hugged, cardboard, cut, outs, get...\n",
              "17    [exactly, think, progress, 1000, rooms, horror...\n",
              "18    [game, awesome, may, seem, cute, scary, trust,...\n",
              "19    [played, game, hour, given, pretty, good, scar...\n",
              "20    [game, may, seem, cute, adorble, innocent, fir...\n",
              "21    [puppets, man, freak, get, away, evil, puppets...\n",
              "22    [early, access, reviewthis, game, bit, simple,...\n",
              "23    [one, best, horror, games, imo, free, cute, in...\n",
              "24    [cute, horror, really, mesh, well, many, insta...\n",
              "25    [great, game, kids, childerent, play, game, le...\n",
              "26    [early, access, reviewan, interesting, quirky,...\n",
              "27    [starts, rather, harmless, cute, quickly, take...\n",
              "28    [good, need, much, minimum, run, 20, fps, got,...\n",
              "29    [first, everything, seems, alright, gotta, mak...\n",
              "30    [disappointed, lack, options, got, bored, runn...\n",
              "31    [game, incredible, despite, title, initial, ap...\n",
              "32    [first, started, like, joke, later, itgot, cre...\n",
              "33    [spooky, house, jumpscares, horror, game, sens...\n",
              "Name: user_review, dtype: object"
            ]
          },
          "metadata": {
            "tags": []
          },
          "execution_count": 46
        }
      ]
    },
    {
      "cell_type": "code",
      "metadata": {
        "id": "n8a1Jv-yICMD",
        "colab_type": "code",
        "colab": {}
      },
      "source": [
        "from nltk.stem import WordNetLemmatizer\n",
        "lemmatizer = WordNetLemmatizer()"
      ],
      "execution_count": 0,
      "outputs": []
    },
    {
      "cell_type": "code",
      "metadata": {
        "id": "fU0OPaOJICMM",
        "colab_type": "code",
        "colab": {}
      },
      "source": [
        "def word_lemmatizer(text):\n",
        "    lem_text = \" \".join([lemmatizer.lemmatize(i) for i in text])\n",
        "    return lem_text"
      ],
      "execution_count": 0,
      "outputs": []
    },
    {
      "cell_type": "code",
      "metadata": {
        "id": "NIBSrlTRW96B",
        "colab_type": "code",
        "colab": {
          "base_uri": "https://localhost:8080/",
          "height": 72
        },
        "outputId": "ff2a4779-da8e-4100-ee02-a47b17f9f8b5"
      },
      "source": [
        "import nltk\n",
        "nltk.download('wordnet')"
      ],
      "execution_count": 49,
      "outputs": [
        {
          "output_type": "stream",
          "text": [
            "[nltk_data] Downloading package wordnet to /root/nltk_data...\n",
            "[nltk_data]   Package wordnet is already up-to-date!\n"
          ],
          "name": "stdout"
        },
        {
          "output_type": "execute_result",
          "data": {
            "text/plain": [
              "True"
            ]
          },
          "metadata": {
            "tags": []
          },
          "execution_count": 49
        }
      ]
    },
    {
      "cell_type": "code",
      "metadata": {
        "id": "pfZoUhtTICMU",
        "colab_type": "code",
        "colab": {
          "base_uri": "https://localhost:8080/",
          "height": 127
        },
        "outputId": "1d335154-b5eb-4dbb-8182-ff589e8e93a9"
      },
      "source": [
        "training['user_review']=training['user_review'].apply(lambda x: word_lemmatizer(x))\n",
        "training['user_review'].head()"
      ],
      "execution_count": 50,
      "outputs": [
        {
          "output_type": "execute_result",
          "data": {
            "text/plain": [
              "0    scared hearing creepy voice pause moment write...\n",
              "1    best game better sam pepper youtube account 10...\n",
              "2    littly iffy control know play easy master made...\n",
              "3    great game fun colorful side note though getti...\n",
              "4    many game cute tag right next horror tag steam...\n",
              "Name: user_review, dtype: object"
            ]
          },
          "metadata": {
            "tags": []
          },
          "execution_count": 50
        }
      ]
    },
    {
      "cell_type": "code",
      "metadata": {
        "id": "cxrPc8Z-hbDE",
        "colab_type": "code",
        "colab": {
          "base_uri": "https://localhost:8080/",
          "height": 127
        },
        "outputId": "dc3c0f61-2f87-4532-fa49-b5d3207fa40b"
      },
      "source": [
        "training['overview']=training['overview'].apply(lambda x: word_lemmatizer(x))\n",
        "training['overview'].head()[56]"
      ],
      "execution_count": 51,
      "outputs": [
        {
          "output_type": "execute_result",
          "data": {
            "text/plain": [
              "0    survive 1000 room cute terror break cuteness s...\n",
              "1    survive 1000 room cute terror break cuteness s...\n",
              "2    survive 1000 room cute terror break cuteness s...\n",
              "3    survive 1000 room cute terror break cuteness s...\n",
              "4    survive 1000 room cute terror break cuteness s...\n",
              "Name: overview, dtype: object"
            ]
          },
          "metadata": {
            "tags": []
          },
          "execution_count": 51
        }
      ]
    },
    {
      "cell_type": "code",
      "metadata": {
        "id": "vijQe--loKAW",
        "colab_type": "code",
        "colab": {
          "base_uri": "https://localhost:8080/",
          "height": 55
        },
        "outputId": "3853ee49-fb9f-4bf8-d22e-483655a7177a"
      },
      "source": [
        "training['overview'][598]"
      ],
      "execution_count": 58,
      "outputs": [
        {
          "output_type": "execute_result",
          "data": {
            "text/plain": [
              "'free play shooter confrontation two irreconcilable side represented government military housing armed hireling try hand virtual battle scale dynamic hurricane gameplay spirit classical shooter game available wide range map several mode level system allows player open achievement weapon sticker'"
            ]
          },
          "metadata": {
            "tags": []
          },
          "execution_count": 58
        }
      ]
    },
    {
      "cell_type": "code",
      "metadata": {
        "id": "zdX5euSHICMh",
        "colab_type": "code",
        "colab": {}
      },
      "source": [
        "1#stemmer = PorterStemmer()"
      ],
      "execution_count": 0,
      "outputs": []
    },
    {
      "cell_type": "code",
      "metadata": {
        "id": "0VzCBvWDICMn",
        "colab_type": "code",
        "colab": {}
      },
      "source": [
        "#def word_stemmer(text):\n",
        "    #stem_text = \" \".join([stemmer.stem(i) for i in text])\n",
        "    #return stem_text"
      ],
      "execution_count": 0,
      "outputs": []
    },
    {
      "cell_type": "code",
      "metadata": {
        "id": "FgIEX67UICMv",
        "colab_type": "code",
        "colab": {}
      },
      "source": [
        "#training['user_review'] = training['user_review'].apply(lambda x: word_stemmer(x))"
      ],
      "execution_count": 0,
      "outputs": []
    },
    {
      "cell_type": "code",
      "metadata": {
        "id": "DcgASGRaICM2",
        "colab_type": "code",
        "colab": {}
      },
      "source": [
        "#training['user_review'].head()"
      ],
      "execution_count": 0,
      "outputs": []
    },
    {
      "cell_type": "code",
      "metadata": {
        "id": "VXMP3SxRICM9",
        "colab_type": "code",
        "colab": {
          "base_uri": "https://localhost:8080/",
          "height": 366
        },
        "outputId": "39bd9764-443c-483f-b55e-c686416d6955"
      },
      "source": [
        "training.info()"
      ],
      "execution_count": 59,
      "outputs": [
        {
          "output_type": "stream",
          "text": [
            "<class 'pandas.core.frame.DataFrame'>\n",
            "Int64Index: 25539 entries, 0 to 25538\n",
            "Data columns (total 12 columns):\n",
            " #   Column           Non-Null Count  Dtype  \n",
            "---  ------           --------------  -----  \n",
            " 0   review_id        25539 non-null  int64  \n",
            " 1   title            25539 non-null  object \n",
            " 2   year             25539 non-null  float64\n",
            " 3   user_review      25539 non-null  object \n",
            " 4   user_suggestion  25539 non-null  int64  \n",
            " 5   data             25539 non-null  object \n",
            " 6   review_length    25539 non-null  int64  \n",
            " 7   developer        25539 non-null  object \n",
            " 8   publisher        25539 non-null  object \n",
            " 9   tags             25539 non-null  object \n",
            " 10  overview         25539 non-null  object \n",
            " 11  overview_length  25539 non-null  int64  \n",
            "dtypes: float64(1), int64(4), object(7)\n",
            "memory usage: 3.8+ MB\n"
          ],
          "name": "stdout"
        }
      ]
    },
    {
      "cell_type": "code",
      "metadata": {
        "id": "JKIB_CwvICNK",
        "colab_type": "code",
        "colab": {
          "base_uri": "https://localhost:8080/",
          "height": 1000
        },
        "outputId": "754644c0-b5fd-4a7e-d029-7d46b6d2795b"
      },
      "source": [
        "training.drop(['developer', 'publisher'], axis=1)"
      ],
      "execution_count": 60,
      "outputs": [
        {
          "output_type": "execute_result",
          "data": {
            "text/html": [
              "<div>\n",
              "<style scoped>\n",
              "    .dataframe tbody tr th:only-of-type {\n",
              "        vertical-align: middle;\n",
              "    }\n",
              "\n",
              "    .dataframe tbody tr th {\n",
              "        vertical-align: top;\n",
              "    }\n",
              "\n",
              "    .dataframe thead th {\n",
              "        text-align: right;\n",
              "    }\n",
              "</style>\n",
              "<table border=\"1\" class=\"dataframe\">\n",
              "  <thead>\n",
              "    <tr style=\"text-align: right;\">\n",
              "      <th></th>\n",
              "      <th>review_id</th>\n",
              "      <th>title</th>\n",
              "      <th>year</th>\n",
              "      <th>user_review</th>\n",
              "      <th>user_suggestion</th>\n",
              "      <th>data</th>\n",
              "      <th>review_length</th>\n",
              "      <th>tags</th>\n",
              "      <th>overview</th>\n",
              "      <th>overview_length</th>\n",
              "    </tr>\n",
              "  </thead>\n",
              "  <tbody>\n",
              "    <tr>\n",
              "      <th>0</th>\n",
              "      <td>1</td>\n",
              "      <td>Spooky's Jump Scare Mansion</td>\n",
              "      <td>2016.0</td>\n",
              "      <td>scared hearing creepy voice pause moment write...</td>\n",
              "      <td>1</td>\n",
              "      <td>train</td>\n",
              "      <td>710</td>\n",
              "      <td>['Horror', 'Free to Play', 'Cute', 'First-Pers...</td>\n",
              "      <td>survive 1000 room cute terror break cuteness s...</td>\n",
              "      <td>472</td>\n",
              "    </tr>\n",
              "    <tr>\n",
              "      <th>1</th>\n",
              "      <td>2</td>\n",
              "      <td>Spooky's Jump Scare Mansion</td>\n",
              "      <td>2016.0</td>\n",
              "      <td>best game better sam pepper youtube account 10...</td>\n",
              "      <td>1</td>\n",
              "      <td>train</td>\n",
              "      <td>335</td>\n",
              "      <td>['Horror', 'Free to Play', 'Cute', 'First-Pers...</td>\n",
              "      <td>survive 1000 room cute terror break cuteness s...</td>\n",
              "      <td>472</td>\n",
              "    </tr>\n",
              "    <tr>\n",
              "      <th>2</th>\n",
              "      <td>3</td>\n",
              "      <td>Spooky's Jump Scare Mansion</td>\n",
              "      <td>2016.0</td>\n",
              "      <td>littly iffy control know play easy master made...</td>\n",
              "      <td>1</td>\n",
              "      <td>train</td>\n",
              "      <td>397</td>\n",
              "      <td>['Horror', 'Free to Play', 'Cute', 'First-Pers...</td>\n",
              "      <td>survive 1000 room cute terror break cuteness s...</td>\n",
              "      <td>472</td>\n",
              "    </tr>\n",
              "    <tr>\n",
              "      <th>3</th>\n",
              "      <td>4</td>\n",
              "      <td>Spooky's Jump Scare Mansion</td>\n",
              "      <td>2015.0</td>\n",
              "      <td>great game fun colorful side note though getti...</td>\n",
              "      <td>1</td>\n",
              "      <td>train</td>\n",
              "      <td>280</td>\n",
              "      <td>['Horror', 'Free to Play', 'Cute', 'First-Pers...</td>\n",
              "      <td>survive 1000 room cute terror break cuteness s...</td>\n",
              "      <td>472</td>\n",
              "    </tr>\n",
              "    <tr>\n",
              "      <th>4</th>\n",
              "      <td>5</td>\n",
              "      <td>Spooky's Jump Scare Mansion</td>\n",
              "      <td>2015.0</td>\n",
              "      <td>many game cute tag right next horror tag steam...</td>\n",
              "      <td>1</td>\n",
              "      <td>train</td>\n",
              "      <td>334</td>\n",
              "      <td>['Horror', 'Free to Play', 'Cute', 'First-Pers...</td>\n",
              "      <td>survive 1000 room cute terror break cuteness s...</td>\n",
              "      <td>472</td>\n",
              "    </tr>\n",
              "    <tr>\n",
              "      <th>...</th>\n",
              "      <td>...</td>\n",
              "      <td>...</td>\n",
              "      <td>...</td>\n",
              "      <td>...</td>\n",
              "      <td>...</td>\n",
              "      <td>...</td>\n",
              "      <td>...</td>\n",
              "      <td>...</td>\n",
              "      <td>...</td>\n",
              "      <td>...</td>\n",
              "    </tr>\n",
              "    <tr>\n",
              "      <th>25534</th>\n",
              "      <td>25198</td>\n",
              "      <td>GUNS UP!</td>\n",
              "      <td>2017.0</td>\n",
              "      <td>early access reviewguns positive good idea add...</td>\n",
              "      <td>0</td>\n",
              "      <td>test</td>\n",
              "      <td>468</td>\n",
              "      <td>['Free to Play', 'Strategy', 'Multiplayer', 'A...</td>\n",
              "      <td>mashup rts tower defense gun action packed str...</td>\n",
              "      <td>1488</td>\n",
              "    </tr>\n",
              "    <tr>\n",
              "      <th>25535</th>\n",
              "      <td>25199</td>\n",
              "      <td>GUNS UP!</td>\n",
              "      <td>2018.0</td>\n",
              "      <td>170 hr review spend money would seam better ch...</td>\n",
              "      <td>0</td>\n",
              "      <td>test</td>\n",
              "      <td>1044</td>\n",
              "      <td>['Free to Play', 'Strategy', 'Multiplayer', 'A...</td>\n",
              "      <td>mashup rts tower defense gun action packed str...</td>\n",
              "      <td>1488</td>\n",
              "    </tr>\n",
              "    <tr>\n",
              "      <th>25536</th>\n",
              "      <td>25200</td>\n",
              "      <td>GUNS UP!</td>\n",
              "      <td>2018.0</td>\n",
              "      <td>pro fun gameplaycons micro ing transaction rea...</td>\n",
              "      <td>0</td>\n",
              "      <td>test</td>\n",
              "      <td>403</td>\n",
              "      <td>['Free to Play', 'Strategy', 'Multiplayer', 'A...</td>\n",
              "      <td>mashup rts tower defense gun action packed str...</td>\n",
              "      <td>1488</td>\n",
              "    </tr>\n",
              "    <tr>\n",
              "      <th>25537</th>\n",
              "      <td>25201</td>\n",
              "      <td>GUNS UP!</td>\n",
              "      <td>2018.0</td>\n",
              "      <td>actualy saucy definetly suggest player life ne...</td>\n",
              "      <td>0</td>\n",
              "      <td>test</td>\n",
              "      <td>771</td>\n",
              "      <td>['Free to Play', 'Strategy', 'Multiplayer', 'A...</td>\n",
              "      <td>mashup rts tower defense gun action packed str...</td>\n",
              "      <td>1488</td>\n",
              "    </tr>\n",
              "    <tr>\n",
              "      <th>25538</th>\n",
              "      <td>25202</td>\n",
              "      <td>GUNS UP!</td>\n",
              "      <td>2016.0</td>\n",
              "      <td>see people play 30 minute say game bad side se...</td>\n",
              "      <td>0</td>\n",
              "      <td>test</td>\n",
              "      <td>192</td>\n",
              "      <td>['Free to Play', 'Strategy', 'Multiplayer', 'A...</td>\n",
              "      <td>mashup rts tower defense gun action packed str...</td>\n",
              "      <td>1488</td>\n",
              "    </tr>\n",
              "  </tbody>\n",
              "</table>\n",
              "<p>25539 rows × 10 columns</p>\n",
              "</div>"
            ],
            "text/plain": [
              "       review_id  ... overview_length\n",
              "0              1  ...             472\n",
              "1              2  ...             472\n",
              "2              3  ...             472\n",
              "3              4  ...             472\n",
              "4              5  ...             472\n",
              "...          ...  ...             ...\n",
              "25534      25198  ...            1488\n",
              "25535      25199  ...            1488\n",
              "25536      25200  ...            1488\n",
              "25537      25201  ...            1488\n",
              "25538      25202  ...            1488\n",
              "\n",
              "[25539 rows x 10 columns]"
            ]
          },
          "metadata": {
            "tags": []
          },
          "execution_count": 60
        }
      ]
    },
    {
      "cell_type": "code",
      "metadata": {
        "id": "B6vJdRM8ICNT",
        "colab_type": "code",
        "colab": {
          "base_uri": "https://localhost:8080/",
          "height": 257
        },
        "outputId": "914c03de-4f9a-4092-9811-e75146b1c949"
      },
      "source": [
        ""
      ],
      "execution_count": 61,
      "outputs": [
        {
          "output_type": "execute_result",
          "data": {
            "text/plain": [
              "                                                                                                                                                                                                                                                                                                                                                                                                                                                                                                                                                                                                                                                                                                                                                                                                                                                                                                                                                                                                                                                                                                                                                                                                                                                                                                                                                                                                                                                                                                                                                                                                                                                                                                                                                                                                                                                                                                                                                                                                                                                                                                                                                                                                                                                                                                                                                                                                                                                                                                                                                                                                                                                                                                                                                                                                      1531\n",
              "card strategy bigger story collect 1 300 earnable card battle 60 single player campaign mission emerge victorious epic online duel never played magic gathering learn take role iconic planeswalker veteran magic player hone skill match wit opponent online new card 158 new unique card magic amonkhet set new story new story driven amonkhet campaign new item customize play experience 6 new card sleeve 5 new persona many way play experience magic iconic moment story mode head battle mode take friend grab partner four player two headed giant battle build powerful deck build deck devastating spell ever growing library earnable card practice offline hone skill try new deck strategy virtually endless ai opponent solo mode magic duel game support please visit http magic wizard com en content magic duel support                                                                                                                                                                                                                                                                                                                                                                                                                                                                                                                                                                                                                                                                                                                                                                                                                                                                                                                                                                                                                                                                                                                                                                                                                                                                                                                                                                                                                                                                                                                                                                                                                                                                                                                                                                                                                                                                                                                                                             893\n",
              "build insane fully customisable robot battle vehicle drive hover walk fly free play action game robocraft add weapon future jump driving seat take creation battle others online build combine block easy use editor interface create futuristic robot battle vehicle armed dozen different weapon option drive jump pilot seat test robot design ai jet car tank flying warship helicopter drone almost vehicle possible robocraft fight battle online vast battlefield player world dedicated server additional featuresover 250 cube growing part constantly changing metagame new weapon component feature added every monthwatch enemy robot break apart cube cube destroy powerful weaponry player switch leisureform party battle team friendscreate join clan 50 playersshare robotic creation player online via community robot factoryfor information robocraft please visit robocraftgame com                                                                                                                                                                                                                                                                                                                                                                                                                                                                                                                                                                                                                                                                                                                                                                                                                                                                                                                                                                                                                                                                                                                                                                                                                                                                                                                                                                                                                                                                                                                                                                                                                                                                                                                                                                                                                                                                                               842\n",
              "game changedsix gun sorcery collide eternal strategy card game unlimited choice unbelievable fun eternal offer best world rich deep strategic gameplay counterplay fast spell tactical combat next gen mobile friendly digital design quick smooth intuitive gameplay wrapped exciting digital mechanic generous game economy play wanteternal truly generously free play digital card game find committed giving player card need creative freedom build deck imagine every card every game mode eternal played free without ever paying dime limit imagination eternal restriction card played together deck play wanteternal variety game mode suit player tournament test mettle competitive play cash prize event frequent event introduce fun new twist temporary rule ranked grab favorite constructed deck battle top spot month long leaderboards casual pull wacky combo fun pick game jank welcome draft build deck fly 48 card passed player keep draft sealed league crack 14 pack build way victory month long sealed league promo quest month introduces new card earned free special promo quest campaign join battle eternal throne story driven pve campaign introduce new card game forge level game ai forge pick card deck set three see far go gauntlet learn new trick gauntlet test constructed deck ai opponent wild bos power designed best professional tcg player world play wanteternal cross platform play brings deck collection anywhere want account go anywhere always time lightning fast game eternal available pc steam xbox one microsoft storeandroid phone tabletsios phone tablet                                                                                                                                                                                                                                                                                                                                                                                                                                                                                                                                                                                                                                                                                                                                                                                                                                                                                                                                                                                                                                                                                                                                                                             791\n",
              "hero general full war experience thousand player fighting one massive clash nation first capture 15 city take glory fight alongside newfound brother world multiple battle raging persistently general strategize deploy resource assist men soldier everything influence war every kill make every tank destroy every town capture matter even glorious defeat sometimes win war many must die choose fighthow fight speed progression experience rush close quarter combat pleasure picking enemy range power unleashing hell tank wreaking havoc aircraft choice master arsenalyou master equipment unleash terror badass panther tank power yak 9b fighter 20mm cannon stealth m8 greyhound load deadly pps 43 legendary tommy gun rare lethal fg 42 65 weapon 70 vehicle aircraft available add arsenal enough always use wrench humiliate enemy key featureschoose fight infantry recon tank crew paratrooper even fighter pilot fight close quarter infantry encounter larger skirmish vehicle huge land aerial assault win lose everything contributes war unlock vast variety weapon vehicle plane ammo upgrade earn 35 different combat badge boost ability get upper hand choose allegiance fight war united state germany soviet union progress become general gain ultimate power strategize deploy resource battle                                                                                                                                                                                                                                                                                                                                                                                                                                                                                                                                                                                                                                                                                                                                                                                                                                                                                                                                                                                                                                                                                                                                                                                                                                                                                                                                                                                                                                                                       745\n",
              "                                                                                                                                                                                                                                                                                                                                                                                                                                                                                                                                                                                                                                                                                                                                                                                                                                                                                                                                                                                                                                                                                                                                                                                                                                                                                                                                                                                                                                                                                                                                                                                                                                                                                                                                                                                                                                                                                                                                                                                                                                                                                                                                                                                                                                                                                                                                                                                                                                                                                                                                                                                                                                                                                                                                                                                                      ... \n",
              "everquest ii epitome massively multiplayer gaming ultimate blend deep feature heritage community explore enormous online game friend come together adventure community immerse living breathing fantasy world filled exciting locale mysterious lore monster god dragon vast beautiful dangerous everquest ii set standard mmorpg online gaming everquest ii free play character story adventure 110 level unparalleled gameplay strong heritage lore spanning 14 year 15 expansion thriving friendly community thousand guild thousand creature battle quest complete hundred gorgeous expansive dangerous environment explore independently leveled tradeskill system deep quest line full support different play style including solo group raid pvp robust housing system dozen style thousand item rating optional content available purchase                                                                                                                                                                                                                                                                                                                                                                                                                                                                                                                                                                                                                                                                                                                                                                                                                                                                                                                                                                                                                                                                                                                                                                                                                                                                                                                                                                                                                                                                                                                                                                                                                                                                                                                                                                                                                                                                                                                                                      69\n",
              "dreadnought one thing team based capital ship combat free play shooter put center battle space surface colony across solar system gun world teammate outlaw captain like range ballistic weaponry goliath nuclear torpedo long range tesla cannon fill earth shaking arsenal combat dreadnought take place deliberate pace giving enough time react ever changing battlefield match able respawn different vessel switch strategy opposing team winning cannon missile torpedo vessel equipped energy management system give crew ability activate shield boost engine power amplify weapon damage using energy wisely key coming top every battle give credit xp spend unlock range ship weapon module fly ship 3 manufacturer tough rugged jupiter arm solid bulky akula vektor sleek ethereal oberon tried dreadnought best free game graphic awesome kinda feel like stealing playing one jpanman boom straight fact right dreadnought awesome free play pay win elite_cr first think ever like corvette ship turn whole lotta fun dreadnought blast pun intended trashpandagrr say dreadnought free play large spaceship biffing game fun hell pretty badthingsliker proud represent dreadnought every time get online interact amazing community reminded lucky mtnrhyno fight 8v8 match unleash gun alongside friend complete stranger command capital ship 70 vessel across 5 specialized class outwit opponent maneuver ship across vast battlefield adapt conquer respawn different ship loadouts match create perfect loadout equip weapon module choose thousand combination customize ship look colorful victory defeat personalize captain suit wide range unique outlaw apparel mix battlefield play classic game mode like team deathmatch onslaught conquest advance rank gain experience unlock advanced ship module new ship keep adding ship across 3 ship manufacturer new map space terrestrial battle arena coming future game mode havoc co op pve mission horizon daily login bonus play often get reward prestige system rise fresh faced rookie veteran outlaw crew progression level officer specialized skill community event take part limited time event special reward additional language coming soon come stay tuned battle never pay win buy power ship item customize appearance deploy game update quality life improvement least every 2 month also regularly release new content game market listen tell u think game like see future community forum beta test period dreadnought ended player required steam account complete quick one time accounting linking process please note participated beta progress balance achieved remain intact thank playing add u steam wish list informed dreadnought launch follow u receive update ongoing development      60\n",
              "freestyle 2 ultimate online street basketball game experience superior gameplay basketball perform freestyle street basketball move enjoy excitement vibrant street basketball unique cel shaded graphic game experience one player one character pick character based position move league choose progression depending favorite playstyle test teamwork basketball player online show em got key feature position center power forward small forward shooting guard point guard skill create play style 30 move including shooting passing skill tournament crew team crewmates win tournament chance great item prize customization customize character look choose wide range outfit hairstyle shoe accessory make fashion statement tutorial training exclusive tutorial execute every skill game                                                                                                                                                                                                                                                                                                                                                                                                                                                                                                                                                                                                                                                                                                                                                                                                                                                                                                                                                                                                                                                                                                                                                                                                                                                                                                                                                                                                                                                                                                                                                                                                                                                                                                                                                                                                                                                                                                                                                                                                  57\n",
              "craft legendary item gear hero epic quest fight top pvp leaderboard original smash hit shop sim city builder quest adventure shop hero grow simple shop vast empire become medieval fantasy tycoon crafting selling trading item player recruit team rpg hero go quest equip finest weapon armor work together player merchant build greatest city civilization adventure awaits join million player made shop hero second home season starfrost upon u build beautiful starfrost fountain tame elusive starfrost bunny even frolic starfrost skate build fantasy empire design dream item shop beautiful interior decoration dress shopkeeper avatar stylish outfit craft powerful item sell adventurer player alike advance unique tech tree discover incredible weapon armor trade player build wealth fame fuse item together unlock rarest powerful equipment conquer kingdom recruit gear diverse cast rpg hero loot exciting treasure aragonia many quest adventure battle player pvp combat wealth glory team friend build powerful profitable city raid massive dungeon city earn exclusive lootregular event update new content always happening come see shop hero store support experiencing problem got suggestion would love hear reach u http cloudcade helpshift com immediate assistance persistent network connection required play please note shop hero completely free play purchase game item real money want use feature disable app purchase device setting use application governed term service available http cloudcade com term service collection use data subject privacy policy available http cloudcade com privacy policy like u http facebook com shopheroesfollow u http twitter com shopheroesgamehttp shopheroes com                                                                                                                                                                                                                                                                                                                                                                                                                                                                                                                                                                                                                                                                                                                                                                                                                                                                                                                                                                                                                                               52\n",
              "game summary experience rush 3 5 minute strategy battle world tactical monster comprised monster corner world whether competitive real life virtual reality ultimate competition game gameplay genre form monstrous team conquer real time multiplayer gameplay outsmart destroy opponent strategically positioning monster battle tactically controlling action battle turn based hex grid tactic gameplay monster time space franky frankenstein fantasy monster like medusa griffin culturally established creature like wukong mummy monster never seen bigfoot nobu ghost samurai monster unique background job monster unique skill magic skill physical skill even world ending skill like nuclear warhead dr walter mecha machine social interaction play friend 1 1 virtual battle form clan trade card exchange tactical knowledge player worldwide world chat clan chat build clan defense fend enemy raider 1 clan world feature battle adventure mode recruit unique monster upgrade monster unlock ridiculous monstrous destructive skill endure guerrilla warfare mode survival mode defeat never ending boss sharpen tactic visiting training ground duel player real time live pvp take throne claim world treasure chest set optimal defense formation layout mine defense ally clan mate chat strategy share card 1 clan country discover free item reward monster might like game like like turn based game strategy game hero growth hero collection game rpg game trpg game game similar western chess chinese chess war chess game also similar turn based hex grid hexagonal game support email u support tacticalmonsters comfollow u facebook get news update www facebook com tacticalmonsterstwitter tacticalmonsjoin discord channel chat strategy http discord gg xyhhgb4 get 500 free gem joining discord group entering player id newbies_free_gems channel tactical monster fully developed owned operated camex game camex game partnered lemix game bring favorite character monster castle                                                                                                                                                                                                                                                                                                                                                                                                                                                                                                                                                                                                                                                                                                                                                                          38\n",
              "Name: overview, Length: 62, dtype: int64"
            ]
          },
          "metadata": {
            "tags": []
          },
          "execution_count": 61
        }
      ]
    },
    {
      "cell_type": "code",
      "metadata": {
        "id": "WVID9UqppAIC",
        "colab_type": "code",
        "colab": {}
      },
      "source": [
        ""
      ],
      "execution_count": 0,
      "outputs": []
    }
  ]
}