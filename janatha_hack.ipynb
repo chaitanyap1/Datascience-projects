{
  "nbformat": 4,
  "nbformat_minor": 0,
  "metadata": {
    "colab": {
      "name": "janatha hack.ipynb",
      "provenance": [],
      "collapsed_sections": [],
      "authorship_tag": "ABX9TyMgiwlnwpwU9AScmRRb/3cI",
      "include_colab_link": true
    },
    "kernelspec": {
      "name": "python3",
      "display_name": "Python 3"
    }
  },
  "cells": [
    {
      "cell_type": "markdown",
      "metadata": {
        "id": "view-in-github",
        "colab_type": "text"
      },
      "source": [
        "<a href=\"https://colab.research.google.com/github/chaitanyap1/Datascience-projects/blob/master/janatha_hack.ipynb\" target=\"_parent\"><img src=\"https://colab.research.google.com/assets/colab-badge.svg\" alt=\"Open In Colab\"/></a>"
      ]
    },
    {
      "cell_type": "code",
      "metadata": {
        "id": "7La7PHsZAvx8",
        "colab_type": "code",
        "outputId": "b3ae7b5d-21fa-47fb-9edc-8438f85a4d2f",
        "colab": {
          "base_uri": "https://localhost:8080/",
          "height": 55
        }
      },
      "source": [
        "from google.colab import drive\n",
        "drive.mount('/content/drive')"
      ],
      "execution_count": 1,
      "outputs": [
        {
          "output_type": "stream",
          "text": [
            "Drive already mounted at /content/drive; to attempt to forcibly remount, call drive.mount(\"/content/drive\", force_remount=True).\n"
          ],
          "name": "stdout"
        }
      ]
    },
    {
      "cell_type": "code",
      "metadata": {
        "id": "1lIiHSZwBV_Z",
        "colab_type": "code",
        "outputId": "c29728ea-895d-49f8-f0b1-e8abb8a54c80",
        "colab": {
          "base_uri": "https://localhost:8080/",
          "height": 110
        }
      },
      "source": [
        "#Load necessary libraries\n",
        "import numpy as np # linear algebra\n",
        "import pandas as pd # data processing, CSV file I/O (e.g. pd.read_csv)\n",
        "import numpy as np\n",
        "import pandas as pd\n",
        "#import seaborn as sns\n",
        "#import matplotlib.pyplot as plt\n",
        "from collections import Counter\n",
        "#scikit learn  library\n",
        "from sklearn.model_selection import train_test_split\n",
        "from sklearn.metrics import classification_report\n",
        "from sklearn.metrics import f1_score\n",
        "from sklearn.metrics import accuracy_score\n",
        "from sklearn.metrics import recall_score\n",
        "#Use LogisticRegression for classifier\n",
        "from sklearn.linear_model import LogisticRegression\n",
        "from sklearn.ensemble import RandomForestClassifier\n",
        "#oversampling\n",
        "from imblearn.over_sampling import SMOTE\n",
        "\n",
        "import warnings\n",
        "warnings.filterwarnings('ignore')"
      ],
      "execution_count": 2,
      "outputs": [
        {
          "output_type": "stream",
          "text": [
            "/usr/local/lib/python3.6/dist-packages/sklearn/externals/six.py:31: FutureWarning: The module is deprecated in version 0.21 and will be removed in version 0.23 since we've dropped support for Python 2.7. Please rely on the official version of six (https://pypi.org/project/six/).\n",
            "  \"(https://pypi.org/project/six/).\", FutureWarning)\n",
            "/usr/local/lib/python3.6/dist-packages/sklearn/utils/deprecation.py:144: FutureWarning: The sklearn.neighbors.base module is  deprecated in version 0.22 and will be removed in version 0.24. The corresponding classes / functions should instead be imported from sklearn.neighbors. Anything that cannot be imported from sklearn.neighbors is now part of the private API.\n",
            "  warnings.warn(message, FutureWarning)\n"
          ],
          "name": "stderr"
        }
      ]
    },
    {
      "cell_type": "code",
      "metadata": {
        "id": "oxWsHl0FB3tZ",
        "colab_type": "code",
        "colab": {}
      },
      "source": [
        "dataset = pd.read_csv(\"/content/drive/My Drive/datasets/train_8wry4cB.csv\") \n",
        "dataset_test = pd.read_csv(\"/content/drive/My Drive/datasets/test_Yix80N0.csv\") "
      ],
      "execution_count": 0,
      "outputs": []
    },
    {
      "cell_type": "code",
      "metadata": {
        "id": "KVUr7y_oMdNM",
        "colab_type": "code",
        "outputId": "c727ce1f-0b1d-4d3b-ccc3-9cfee4ec1d7f",
        "colab": {
          "base_uri": "https://localhost:8080/",
          "height": 35
        }
      },
      "source": [
        "dataset.shape"
      ],
      "execution_count": 4,
      "outputs": [
        {
          "output_type": "execute_result",
          "data": {
            "text/plain": [
              "(10500, 5)"
            ]
          },
          "metadata": {
            "tags": []
          },
          "execution_count": 4
        }
      ]
    },
    {
      "cell_type": "code",
      "metadata": {
        "id": "DvbxbufvMYwY",
        "colab_type": "code",
        "outputId": "e17694ed-7e36-42fc-8a28-925d44e16953",
        "colab": {
          "base_uri": "https://localhost:8080/",
          "height": 35
        }
      },
      "source": [
        "dataset_test.shape"
      ],
      "execution_count": 5,
      "outputs": [
        {
          "output_type": "execute_result",
          "data": {
            "text/plain": [
              "(4500, 4)"
            ]
          },
          "metadata": {
            "tags": []
          },
          "execution_count": 5
        }
      ]
    },
    {
      "cell_type": "code",
      "metadata": {
        "id": "bOO_qKdZDNwV",
        "colab_type": "code",
        "outputId": "52706ef8-e85a-49b7-cedd-6e16f962356b",
        "colab": {
          "base_uri": "https://localhost:8080/",
          "height": 206
        }
      },
      "source": [
        "dataset.head()"
      ],
      "execution_count": 6,
      "outputs": [
        {
          "output_type": "execute_result",
          "data": {
            "text/html": [
              "<div>\n",
              "<style scoped>\n",
              "    .dataframe tbody tr th:only-of-type {\n",
              "        vertical-align: middle;\n",
              "    }\n",
              "\n",
              "    .dataframe tbody tr th {\n",
              "        vertical-align: top;\n",
              "    }\n",
              "\n",
              "    .dataframe thead th {\n",
              "        text-align: right;\n",
              "    }\n",
              "</style>\n",
              "<table border=\"1\" class=\"dataframe\">\n",
              "  <thead>\n",
              "    <tr style=\"text-align: right;\">\n",
              "      <th></th>\n",
              "      <th>session_id</th>\n",
              "      <th>startTime</th>\n",
              "      <th>endTime</th>\n",
              "      <th>ProductList</th>\n",
              "      <th>gender</th>\n",
              "    </tr>\n",
              "  </thead>\n",
              "  <tbody>\n",
              "    <tr>\n",
              "      <th>0</th>\n",
              "      <td>u16159</td>\n",
              "      <td>15/12/14 18:11</td>\n",
              "      <td>15/12/14 18:12</td>\n",
              "      <td>A00002/B00003/C00006/D28435/;A00002/B00003/C00...</td>\n",
              "      <td>female</td>\n",
              "    </tr>\n",
              "    <tr>\n",
              "      <th>1</th>\n",
              "      <td>u10253</td>\n",
              "      <td>16/12/14 14:35</td>\n",
              "      <td>16/12/14 14:41</td>\n",
              "      <td>A00001/B00009/C00031/D29404/;A00001/B00009/C00...</td>\n",
              "      <td>male</td>\n",
              "    </tr>\n",
              "    <tr>\n",
              "      <th>2</th>\n",
              "      <td>u19037</td>\n",
              "      <td>01/12/14 15:58</td>\n",
              "      <td>01/12/14 15:58</td>\n",
              "      <td>A00002/B00001/C00020/D16944/</td>\n",
              "      <td>female</td>\n",
              "    </tr>\n",
              "    <tr>\n",
              "      <th>3</th>\n",
              "      <td>u14556</td>\n",
              "      <td>23/11/14 2:57</td>\n",
              "      <td>23/11/14 3:00</td>\n",
              "      <td>A00002/B00004/C00018/D10284/;A00002/B00004/C00...</td>\n",
              "      <td>female</td>\n",
              "    </tr>\n",
              "    <tr>\n",
              "      <th>4</th>\n",
              "      <td>u24295</td>\n",
              "      <td>17/12/14 16:44</td>\n",
              "      <td>17/12/14 16:46</td>\n",
              "      <td>A00001/B00001/C00012/D30805/;A00001/B00001/C00...</td>\n",
              "      <td>male</td>\n",
              "    </tr>\n",
              "  </tbody>\n",
              "</table>\n",
              "</div>"
            ],
            "text/plain": [
              "  session_id  ...  gender\n",
              "0     u16159  ...  female\n",
              "1     u10253  ...    male\n",
              "2     u19037  ...  female\n",
              "3     u14556  ...  female\n",
              "4     u24295  ...    male\n",
              "\n",
              "[5 rows x 5 columns]"
            ]
          },
          "metadata": {
            "tags": []
          },
          "execution_count": 6
        }
      ]
    },
    {
      "cell_type": "code",
      "metadata": {
        "id": "3EzD1U0JG0UK",
        "colab_type": "code",
        "colab": {}
      },
      "source": [
        "def extract_product(str):\n",
        "    if \";\"  in str:\n",
        "        prd_lst = str.split(\";\")\n",
        "        count_item = len(prd_lst)\n",
        "        first_lv1 = prd_lst[0].split(\"/\")[0]\n",
        "        first_lv2 = prd_lst[0].split(\"/\")[1]\n",
        "        lv1_lst =[]\n",
        "        lv2_lst =[]\n",
        "        for item in prd_lst:\n",
        "            lv1_lst.append(item.split(\"/\")[0])\n",
        "            lv2_lst.append(item.split(\"/\")[1])\n",
        "        unique_lv1 = len(set(lv1_lst))\n",
        "        unique_lv2 = len(set(lv2_lst))\n",
        "        most_freq_lv1 =  max(lv1_lst, key=Counter(lv1_lst).get)        \n",
        "    else:\n",
        "        lv_lst = str.split(\"/\")\n",
        "        first_lv1 = lv_lst[0]\n",
        "        first_lv2 = lv_lst[1]\n",
        "        count_item = 1\n",
        "        unique_lv1 = 1\n",
        "        unique_lv2 = 1\n",
        "        most_freq_lv1 = first_lv1\n",
        "    return (count_item,first_lv1,first_lv2,unique_lv1,unique_lv2,most_freq_lv1)    "
      ],
      "execution_count": 0,
      "outputs": []
    },
    {
      "cell_type": "code",
      "metadata": {
        "id": "b_4m97QQHaOu",
        "colab_type": "code",
        "colab": {}
      },
      "source": [
        "new_col = ('NumProduct','FirstA','FirstB','UniqueA','UniqueB','MostA')      \n",
        "new_col_lst = dataset['ProductList'].apply(lambda x: extract_product(x))    \n",
        "new_col_df = pd.DataFrame(new_col_lst.tolist(),columns =new_col)"
      ],
      "execution_count": 0,
      "outputs": []
    },
    {
      "cell_type": "code",
      "metadata": {
        "id": "Zrm-zPgNHhoa",
        "colab_type": "code",
        "colab": {}
      },
      "source": [
        "data = pd.concat([dataset, new_col_df], axis=1)"
      ],
      "execution_count": 0,
      "outputs": []
    },
    {
      "cell_type": "code",
      "metadata": {
        "id": "oiapQTm3Hm2r",
        "colab_type": "code",
        "colab": {}
      },
      "source": [
        "# Time feature extraction\n",
        "data['startTime'] = pd.to_datetime(data['startTime'])\n",
        "data['endTime'] = pd.to_datetime(data['endTime'])\n",
        "data['duration'] = data['endTime'] - data['startTime']\n",
        "data['duration'] = data['duration'].astype('timedelta64[m]')\n",
        "data['weekday'] = data['startTime'].dt.dayofweek\n",
        "data['hour_24h'] = data['startTime'].dt.hour"
      ],
      "execution_count": 0,
      "outputs": []
    },
    {
      "cell_type": "code",
      "metadata": {
        "id": "6Fg6krRMHuEA",
        "colab_type": "code",
        "colab": {}
      },
      "source": [
        "drop_lst = ['session_id', 'startTime', 'endTime', 'ProductList']"
      ],
      "execution_count": 0,
      "outputs": []
    },
    {
      "cell_type": "code",
      "metadata": {
        "id": "CfC_rWeVHzMi",
        "colab_type": "code",
        "outputId": "6cd4e3b0-e99d-4dd3-943b-d593a9273a72",
        "colab": {
          "base_uri": "https://localhost:8080/",
          "height": 164
        }
      },
      "source": [
        "data = data.drop(drop_lst,axis =1 )\n",
        "print(data.head())"
      ],
      "execution_count": 12,
      "outputs": [
        {
          "output_type": "stream",
          "text": [
            "   gender  NumProduct  FirstA  FirstB  ...   MostA  duration weekday  hour_24h\n",
            "0  female           4  A00002  B00003  ...  A00002       1.0       0        18\n",
            "1    male           7  A00001  B00009  ...  A00001       6.0       1        14\n",
            "2  female           1  A00002  B00001  ...  A00002       0.0       6        15\n",
            "3  female           3  A00002  B00004  ...  A00002       3.0       6         2\n",
            "4    male           2  A00001  B00001  ...  A00001       2.0       2        16\n",
            "\n",
            "[5 rows x 10 columns]\n"
          ],
          "name": "stdout"
        }
      ]
    },
    {
      "cell_type": "code",
      "metadata": {
        "id": "_twjBYZZINPX",
        "colab_type": "code",
        "outputId": "cdb3b8e7-eaa1-4895-ff5d-0202914bf171",
        "colab": {
          "base_uri": "https://localhost:8080/",
          "height": 329
        }
      },
      "source": [
        "\n",
        "data.info()"
      ],
      "execution_count": 13,
      "outputs": [
        {
          "output_type": "stream",
          "text": [
            "<class 'pandas.core.frame.DataFrame'>\n",
            "RangeIndex: 10500 entries, 0 to 10499\n",
            "Data columns (total 10 columns):\n",
            " #   Column      Non-Null Count  Dtype  \n",
            "---  ------      --------------  -----  \n",
            " 0   gender      10500 non-null  object \n",
            " 1   NumProduct  10500 non-null  int64  \n",
            " 2   FirstA      10500 non-null  object \n",
            " 3   FirstB      10500 non-null  object \n",
            " 4   UniqueA     10500 non-null  int64  \n",
            " 5   UniqueB     10500 non-null  int64  \n",
            " 6   MostA       10500 non-null  object \n",
            " 7   duration    10500 non-null  float64\n",
            " 8   weekday     10500 non-null  int64  \n",
            " 9   hour_24h    10500 non-null  int64  \n",
            "dtypes: float64(1), int64(5), object(4)\n",
            "memory usage: 820.4+ KB\n"
          ],
          "name": "stdout"
        }
      ]
    },
    {
      "cell_type": "code",
      "metadata": {
        "colab_type": "code",
        "outputId": "e8407e8a-986b-4b45-c6ac-5d4381506b57",
        "id": "lZXwFv9xO7I6",
        "colab": {
          "base_uri": "https://localhost:8080/",
          "height": 206
        }
      },
      "source": [
        "data.head()"
      ],
      "execution_count": 14,
      "outputs": [
        {
          "output_type": "execute_result",
          "data": {
            "text/html": [
              "<div>\n",
              "<style scoped>\n",
              "    .dataframe tbody tr th:only-of-type {\n",
              "        vertical-align: middle;\n",
              "    }\n",
              "\n",
              "    .dataframe tbody tr th {\n",
              "        vertical-align: top;\n",
              "    }\n",
              "\n",
              "    .dataframe thead th {\n",
              "        text-align: right;\n",
              "    }\n",
              "</style>\n",
              "<table border=\"1\" class=\"dataframe\">\n",
              "  <thead>\n",
              "    <tr style=\"text-align: right;\">\n",
              "      <th></th>\n",
              "      <th>gender</th>\n",
              "      <th>NumProduct</th>\n",
              "      <th>FirstA</th>\n",
              "      <th>FirstB</th>\n",
              "      <th>UniqueA</th>\n",
              "      <th>UniqueB</th>\n",
              "      <th>MostA</th>\n",
              "      <th>duration</th>\n",
              "      <th>weekday</th>\n",
              "      <th>hour_24h</th>\n",
              "    </tr>\n",
              "  </thead>\n",
              "  <tbody>\n",
              "    <tr>\n",
              "      <th>0</th>\n",
              "      <td>female</td>\n",
              "      <td>4</td>\n",
              "      <td>A00002</td>\n",
              "      <td>B00003</td>\n",
              "      <td>1</td>\n",
              "      <td>1</td>\n",
              "      <td>A00002</td>\n",
              "      <td>1.0</td>\n",
              "      <td>0</td>\n",
              "      <td>18</td>\n",
              "    </tr>\n",
              "    <tr>\n",
              "      <th>1</th>\n",
              "      <td>male</td>\n",
              "      <td>7</td>\n",
              "      <td>A00001</td>\n",
              "      <td>B00009</td>\n",
              "      <td>1</td>\n",
              "      <td>1</td>\n",
              "      <td>A00001</td>\n",
              "      <td>6.0</td>\n",
              "      <td>1</td>\n",
              "      <td>14</td>\n",
              "    </tr>\n",
              "    <tr>\n",
              "      <th>2</th>\n",
              "      <td>female</td>\n",
              "      <td>1</td>\n",
              "      <td>A00002</td>\n",
              "      <td>B00001</td>\n",
              "      <td>1</td>\n",
              "      <td>1</td>\n",
              "      <td>A00002</td>\n",
              "      <td>0.0</td>\n",
              "      <td>6</td>\n",
              "      <td>15</td>\n",
              "    </tr>\n",
              "    <tr>\n",
              "      <th>3</th>\n",
              "      <td>female</td>\n",
              "      <td>3</td>\n",
              "      <td>A00002</td>\n",
              "      <td>B00004</td>\n",
              "      <td>1</td>\n",
              "      <td>1</td>\n",
              "      <td>A00002</td>\n",
              "      <td>3.0</td>\n",
              "      <td>6</td>\n",
              "      <td>2</td>\n",
              "    </tr>\n",
              "    <tr>\n",
              "      <th>4</th>\n",
              "      <td>male</td>\n",
              "      <td>2</td>\n",
              "      <td>A00001</td>\n",
              "      <td>B00001</td>\n",
              "      <td>1</td>\n",
              "      <td>1</td>\n",
              "      <td>A00001</td>\n",
              "      <td>2.0</td>\n",
              "      <td>2</td>\n",
              "      <td>16</td>\n",
              "    </tr>\n",
              "  </tbody>\n",
              "</table>\n",
              "</div>"
            ],
            "text/plain": [
              "   gender  NumProduct  FirstA  FirstB  ...   MostA  duration weekday  hour_24h\n",
              "0  female           4  A00002  B00003  ...  A00002       1.0       0        18\n",
              "1    male           7  A00001  B00009  ...  A00001       6.0       1        14\n",
              "2  female           1  A00002  B00001  ...  A00002       0.0       6        15\n",
              "3  female           3  A00002  B00004  ...  A00002       3.0       6         2\n",
              "4    male           2  A00001  B00001  ...  A00001       2.0       2        16\n",
              "\n",
              "[5 rows x 10 columns]"
            ]
          },
          "metadata": {
            "tags": []
          },
          "execution_count": 14
        }
      ]
    },
    {
      "cell_type": "code",
      "metadata": {
        "id": "fVNdKL3YJOmO",
        "colab_type": "code",
        "colab": {
          "base_uri": "https://localhost:8080/",
          "height": 329
        },
        "outputId": "e29ce5c7-a35c-4add-fc7a-337f17c85fd4"
      },
      "source": [
        "data.info()"
      ],
      "execution_count": 15,
      "outputs": [
        {
          "output_type": "stream",
          "text": [
            "<class 'pandas.core.frame.DataFrame'>\n",
            "RangeIndex: 10500 entries, 0 to 10499\n",
            "Data columns (total 10 columns):\n",
            " #   Column      Non-Null Count  Dtype  \n",
            "---  ------      --------------  -----  \n",
            " 0   gender      10500 non-null  object \n",
            " 1   NumProduct  10500 non-null  int64  \n",
            " 2   FirstA      10500 non-null  object \n",
            " 3   FirstB      10500 non-null  object \n",
            " 4   UniqueA     10500 non-null  int64  \n",
            " 5   UniqueB     10500 non-null  int64  \n",
            " 6   MostA       10500 non-null  object \n",
            " 7   duration    10500 non-null  float64\n",
            " 8   weekday     10500 non-null  int64  \n",
            " 9   hour_24h    10500 non-null  int64  \n",
            "dtypes: float64(1), int64(5), object(4)\n",
            "memory usage: 820.4+ KB\n"
          ],
          "name": "stdout"
        }
      ]
    },
    {
      "cell_type": "code",
      "metadata": {
        "id": "tPzHeHIha3b3",
        "colab_type": "code",
        "colab": {}
      },
      "source": [
        "dataset['gender'] = dataset['gender'].map({'female':1,'male':0})"
      ],
      "execution_count": 0,
      "outputs": []
    },
    {
      "cell_type": "code",
      "metadata": {
        "id": "-zdt0ZRvbM--",
        "colab_type": "code",
        "colab": {
          "base_uri": "https://localhost:8080/",
          "height": 206
        },
        "outputId": "76b06a33-8b8e-488d-81d5-b3f9d8d2065e"
      },
      "source": [
        "dataset.head()"
      ],
      "execution_count": 17,
      "outputs": [
        {
          "output_type": "execute_result",
          "data": {
            "text/html": [
              "<div>\n",
              "<style scoped>\n",
              "    .dataframe tbody tr th:only-of-type {\n",
              "        vertical-align: middle;\n",
              "    }\n",
              "\n",
              "    .dataframe tbody tr th {\n",
              "        vertical-align: top;\n",
              "    }\n",
              "\n",
              "    .dataframe thead th {\n",
              "        text-align: right;\n",
              "    }\n",
              "</style>\n",
              "<table border=\"1\" class=\"dataframe\">\n",
              "  <thead>\n",
              "    <tr style=\"text-align: right;\">\n",
              "      <th></th>\n",
              "      <th>session_id</th>\n",
              "      <th>startTime</th>\n",
              "      <th>endTime</th>\n",
              "      <th>ProductList</th>\n",
              "      <th>gender</th>\n",
              "    </tr>\n",
              "  </thead>\n",
              "  <tbody>\n",
              "    <tr>\n",
              "      <th>0</th>\n",
              "      <td>u16159</td>\n",
              "      <td>15/12/14 18:11</td>\n",
              "      <td>15/12/14 18:12</td>\n",
              "      <td>A00002/B00003/C00006/D28435/;A00002/B00003/C00...</td>\n",
              "      <td>1</td>\n",
              "    </tr>\n",
              "    <tr>\n",
              "      <th>1</th>\n",
              "      <td>u10253</td>\n",
              "      <td>16/12/14 14:35</td>\n",
              "      <td>16/12/14 14:41</td>\n",
              "      <td>A00001/B00009/C00031/D29404/;A00001/B00009/C00...</td>\n",
              "      <td>0</td>\n",
              "    </tr>\n",
              "    <tr>\n",
              "      <th>2</th>\n",
              "      <td>u19037</td>\n",
              "      <td>01/12/14 15:58</td>\n",
              "      <td>01/12/14 15:58</td>\n",
              "      <td>A00002/B00001/C00020/D16944/</td>\n",
              "      <td>1</td>\n",
              "    </tr>\n",
              "    <tr>\n",
              "      <th>3</th>\n",
              "      <td>u14556</td>\n",
              "      <td>23/11/14 2:57</td>\n",
              "      <td>23/11/14 3:00</td>\n",
              "      <td>A00002/B00004/C00018/D10284/;A00002/B00004/C00...</td>\n",
              "      <td>1</td>\n",
              "    </tr>\n",
              "    <tr>\n",
              "      <th>4</th>\n",
              "      <td>u24295</td>\n",
              "      <td>17/12/14 16:44</td>\n",
              "      <td>17/12/14 16:46</td>\n",
              "      <td>A00001/B00001/C00012/D30805/;A00001/B00001/C00...</td>\n",
              "      <td>0</td>\n",
              "    </tr>\n",
              "  </tbody>\n",
              "</table>\n",
              "</div>"
            ],
            "text/plain": [
              "  session_id  ... gender\n",
              "0     u16159  ...      1\n",
              "1     u10253  ...      0\n",
              "2     u19037  ...      1\n",
              "3     u14556  ...      1\n",
              "4     u24295  ...      0\n",
              "\n",
              "[5 rows x 5 columns]"
            ]
          },
          "metadata": {
            "tags": []
          },
          "execution_count": 17
        }
      ]
    },
    {
      "cell_type": "code",
      "metadata": {
        "id": "H8eV5OlnbND0",
        "colab_type": "code",
        "colab": {}
      },
      "source": [
        ""
      ],
      "execution_count": 0,
      "outputs": []
    },
    {
      "cell_type": "code",
      "metadata": {
        "id": "aVMTjfu4Uumm",
        "colab_type": "code",
        "colab": {}
      },
      "source": [
        "cat_cols=data.select_dtypes(['object']).columns"
      ],
      "execution_count": 0,
      "outputs": []
    },
    {
      "cell_type": "code",
      "metadata": {
        "id": "2b10P_WgZ_Cy",
        "colab_type": "code",
        "colab": {
          "base_uri": "https://localhost:8080/",
          "height": 35
        },
        "outputId": "0e40c832-d2d3-4180-eaee-0b92db26ab07"
      },
      "source": [
        "cat_cols[1:,]"
      ],
      "execution_count": 19,
      "outputs": [
        {
          "output_type": "execute_result",
          "data": {
            "text/plain": [
              "Index(['FirstA', 'FirstB', 'MostA'], dtype='object')"
            ]
          },
          "metadata": {
            "tags": []
          },
          "execution_count": 19
        }
      ]
    },
    {
      "cell_type": "code",
      "metadata": {
        "id": "AMVxdPfjaGOF",
        "colab_type": "code",
        "colab": {
          "base_uri": "https://localhost:8080/",
          "height": 72
        },
        "outputId": "bb9a011a-6cbc-4c75-ecca-4f55da5e3926"
      },
      "source": [
        "for col in cat_cols[1:,]:\n",
        "    dummy=pd.get_dummies(data[col],drop_first=True,prefix=col)\n",
        "    data=pd.concat([data,dummy],axis=1)\n",
        "    del data[col]\n",
        "    print(col)\n",
        "del dummy"
      ],
      "execution_count": 20,
      "outputs": [
        {
          "output_type": "stream",
          "text": [
            "FirstA\n",
            "FirstB\n",
            "MostA\n"
          ],
          "name": "stdout"
        }
      ]
    },
    {
      "cell_type": "code",
      "metadata": {
        "id": "d_76fHmlajeT",
        "colab_type": "code",
        "colab": {
          "base_uri": "https://localhost:8080/",
          "height": 35
        },
        "outputId": "6533aebd-3cde-4319-b000-969598974225"
      },
      "source": [
        "print(data.shape)"
      ],
      "execution_count": 21,
      "outputs": [
        {
          "output_type": "stream",
          "text": [
            "(10500, 108)\n"
          ],
          "name": "stdout"
        }
      ]
    },
    {
      "cell_type": "markdown",
      "metadata": {
        "id": "kr2veQHYUvBG",
        "colab_type": "text"
      },
      "source": [
        "**test data set data prep**"
      ]
    },
    {
      "cell_type": "code",
      "metadata": {
        "colab_type": "code",
        "id": "IFWT-FFfTpZ2",
        "colab": {}
      },
      "source": [
        "new_col = ('NumProduct','FirstA','FirstB','UniqueA','UniqueB','MostA')      \n",
        "new_col_lst = dataset_test['ProductList'].apply(lambda x: extract_product(x))    \n",
        "new_col_df = pd.DataFrame(new_col_lst.tolist(),columns =new_col)"
      ],
      "execution_count": 0,
      "outputs": []
    },
    {
      "cell_type": "code",
      "metadata": {
        "colab_type": "code",
        "id": "YJZi1Dz9Tpan",
        "colab": {}
      },
      "source": [
        "data = pd.concat([dataset_test, new_col_df], axis=1)"
      ],
      "execution_count": 0,
      "outputs": []
    },
    {
      "cell_type": "code",
      "metadata": {
        "colab_type": "code",
        "id": "C2UsemH7Tpa5",
        "colab": {}
      },
      "source": [
        "# Time feature extraction\n",
        "data['startTime'] = pd.to_datetime(data['startTime'])\n",
        "data['endTime'] = pd.to_datetime(data['endTime'])\n",
        "data['duration'] = data['endTime'] - data['startTime']\n",
        "data['duration'] = data['duration'].astype('timedelta64[m]')\n",
        "data['weekday'] = data['startTime'].dt.dayofweek\n",
        "data['hour_24h'] = data['startTime'].dt.hour"
      ],
      "execution_count": 0,
      "outputs": []
    },
    {
      "cell_type": "code",
      "metadata": {
        "colab_type": "code",
        "id": "_kZqhz09TpbJ",
        "colab": {}
      },
      "source": [
        "drop_lst1 = ['session_id', 'startTime', 'endTime', 'ProductList']"
      ],
      "execution_count": 0,
      "outputs": []
    },
    {
      "cell_type": "code",
      "metadata": {
        "colab_type": "code",
        "outputId": "4829a52b-71f6-41d0-b96e-b557118e55b9",
        "id": "_01v22rhTpbV",
        "colab": {
          "base_uri": "https://localhost:8080/",
          "height": 206
        }
      },
      "source": [
        "data_test = data.drop(drop_lst1,axis =1 )\n",
        "data_test.head()"
      ],
      "execution_count": 26,
      "outputs": [
        {
          "output_type": "execute_result",
          "data": {
            "text/html": [
              "<div>\n",
              "<style scoped>\n",
              "    .dataframe tbody tr th:only-of-type {\n",
              "        vertical-align: middle;\n",
              "    }\n",
              "\n",
              "    .dataframe tbody tr th {\n",
              "        vertical-align: top;\n",
              "    }\n",
              "\n",
              "    .dataframe thead th {\n",
              "        text-align: right;\n",
              "    }\n",
              "</style>\n",
              "<table border=\"1\" class=\"dataframe\">\n",
              "  <thead>\n",
              "    <tr style=\"text-align: right;\">\n",
              "      <th></th>\n",
              "      <th>NumProduct</th>\n",
              "      <th>FirstA</th>\n",
              "      <th>FirstB</th>\n",
              "      <th>UniqueA</th>\n",
              "      <th>UniqueB</th>\n",
              "      <th>MostA</th>\n",
              "      <th>duration</th>\n",
              "      <th>weekday</th>\n",
              "      <th>hour_24h</th>\n",
              "    </tr>\n",
              "  </thead>\n",
              "  <tbody>\n",
              "    <tr>\n",
              "      <th>0</th>\n",
              "      <td>1</td>\n",
              "      <td>A00002</td>\n",
              "      <td>B00003</td>\n",
              "      <td>1</td>\n",
              "      <td>1</td>\n",
              "      <td>A00002</td>\n",
              "      <td>0.0</td>\n",
              "      <td>1</td>\n",
              "      <td>13</td>\n",
              "    </tr>\n",
              "    <tr>\n",
              "      <th>1</th>\n",
              "      <td>1</td>\n",
              "      <td>A00002</td>\n",
              "      <td>B00005</td>\n",
              "      <td>1</td>\n",
              "      <td>1</td>\n",
              "      <td>A00002</td>\n",
              "      <td>0.0</td>\n",
              "      <td>4</td>\n",
              "      <td>13</td>\n",
              "    </tr>\n",
              "    <tr>\n",
              "      <th>2</th>\n",
              "      <td>1</td>\n",
              "      <td>A00002</td>\n",
              "      <td>B00002</td>\n",
              "      <td>1</td>\n",
              "      <td>1</td>\n",
              "      <td>A00002</td>\n",
              "      <td>0.0</td>\n",
              "      <td>6</td>\n",
              "      <td>10</td>\n",
              "    </tr>\n",
              "    <tr>\n",
              "      <th>3</th>\n",
              "      <td>4</td>\n",
              "      <td>A00002</td>\n",
              "      <td>B00003</td>\n",
              "      <td>1</td>\n",
              "      <td>1</td>\n",
              "      <td>A00002</td>\n",
              "      <td>3.0</td>\n",
              "      <td>1</td>\n",
              "      <td>20</td>\n",
              "    </tr>\n",
              "    <tr>\n",
              "      <th>4</th>\n",
              "      <td>1</td>\n",
              "      <td>A00002</td>\n",
              "      <td>B00001</td>\n",
              "      <td>1</td>\n",
              "      <td>1</td>\n",
              "      <td>A00002</td>\n",
              "      <td>0.0</td>\n",
              "      <td>0</td>\n",
              "      <td>19</td>\n",
              "    </tr>\n",
              "  </tbody>\n",
              "</table>\n",
              "</div>"
            ],
            "text/plain": [
              "   NumProduct  FirstA  FirstB  UniqueA  ...   MostA duration  weekday  hour_24h\n",
              "0           1  A00002  B00003        1  ...  A00002      0.0        1        13\n",
              "1           1  A00002  B00005        1  ...  A00002      0.0        4        13\n",
              "2           1  A00002  B00002        1  ...  A00002      0.0        6        10\n",
              "3           4  A00002  B00003        1  ...  A00002      3.0        1        20\n",
              "4           1  A00002  B00001        1  ...  A00002      0.0        0        19\n",
              "\n",
              "[5 rows x 9 columns]"
            ]
          },
          "metadata": {
            "tags": []
          },
          "execution_count": 26
        }
      ]
    },
    {
      "cell_type": "code",
      "metadata": {
        "id": "cl3HGp2TMKmj",
        "colab_type": "code",
        "colab": {}
      },
      "source": [
        "cat_cols=data_test.select_dtypes(['object']).columns"
      ],
      "execution_count": 0,
      "outputs": []
    },
    {
      "cell_type": "code",
      "metadata": {
        "id": "haQSZ5K_c8cS",
        "colab_type": "code",
        "colab": {
          "base_uri": "https://localhost:8080/",
          "height": 35
        },
        "outputId": "7917c313-82e5-46cd-d7b7-ff859c3adea2"
      },
      "source": [
        "cat_cols"
      ],
      "execution_count": 28,
      "outputs": [
        {
          "output_type": "execute_result",
          "data": {
            "text/plain": [
              "Index(['FirstA', 'FirstB', 'MostA'], dtype='object')"
            ]
          },
          "metadata": {
            "tags": []
          },
          "execution_count": 28
        }
      ]
    },
    {
      "cell_type": "code",
      "metadata": {
        "id": "QUpn8-ktcrJK",
        "colab_type": "code",
        "colab": {
          "base_uri": "https://localhost:8080/",
          "height": 72
        },
        "outputId": "52c4d0be-e11d-425e-fd29-18ce3044986a"
      },
      "source": [
        "for col in cat_cols:\n",
        "    dummy=pd.get_dummies(data_test[col],drop_first=True,prefix=col)\n",
        "    data_test=pd.concat([data_test,dummy],axis=1)\n",
        "    del data_test[col]\n",
        "    print(col)\n",
        "del dummy"
      ],
      "execution_count": 29,
      "outputs": [
        {
          "output_type": "stream",
          "text": [
            "FirstA\n",
            "FirstB\n",
            "MostA\n"
          ],
          "name": "stdout"
        }
      ]
    },
    {
      "cell_type": "code",
      "metadata": {
        "id": "cFX22o1ZVW1k",
        "colab_type": "code",
        "colab": {
          "base_uri": "https://localhost:8080/",
          "height": 35
        },
        "outputId": "41d075bc-a8b5-4085-da0e-4b01a61338ae"
      },
      "source": [
        "data_test.shape"
      ],
      "execution_count": 30,
      "outputs": [
        {
          "output_type": "execute_result",
          "data": {
            "text/plain": [
              "(4500, 96)"
            ]
          },
          "metadata": {
            "tags": []
          },
          "execution_count": 30
        }
      ]
    },
    {
      "cell_type": "code",
      "metadata": {
        "id": "X0Kzwu7aYTv-",
        "colab_type": "code",
        "colab": {
          "base_uri": "https://localhost:8080/",
          "height": 256
        },
        "outputId": "cc96af5f-e158-4473-d875-fff5559b8059"
      },
      "source": [
        "data_test.head()"
      ],
      "execution_count": 31,
      "outputs": [
        {
          "output_type": "execute_result",
          "data": {
            "text/html": [
              "<div>\n",
              "<style scoped>\n",
              "    .dataframe tbody tr th:only-of-type {\n",
              "        vertical-align: middle;\n",
              "    }\n",
              "\n",
              "    .dataframe tbody tr th {\n",
              "        vertical-align: top;\n",
              "    }\n",
              "\n",
              "    .dataframe thead th {\n",
              "        text-align: right;\n",
              "    }\n",
              "</style>\n",
              "<table border=\"1\" class=\"dataframe\">\n",
              "  <thead>\n",
              "    <tr style=\"text-align: right;\">\n",
              "      <th></th>\n",
              "      <th>NumProduct</th>\n",
              "      <th>UniqueA</th>\n",
              "      <th>UniqueB</th>\n",
              "      <th>duration</th>\n",
              "      <th>weekday</th>\n",
              "      <th>hour_24h</th>\n",
              "      <th>FirstA_A00002</th>\n",
              "      <th>FirstA_A00003</th>\n",
              "      <th>FirstA_A00004</th>\n",
              "      <th>FirstA_A00005</th>\n",
              "      <th>FirstA_A00006</th>\n",
              "      <th>FirstA_A00007</th>\n",
              "      <th>FirstA_A00008</th>\n",
              "      <th>FirstA_A00009</th>\n",
              "      <th>FirstA_A00010</th>\n",
              "      <th>FirstA_A00011</th>\n",
              "      <th>FirstB_B00002</th>\n",
              "      <th>FirstB_B00003</th>\n",
              "      <th>FirstB_B00004</th>\n",
              "      <th>FirstB_B00005</th>\n",
              "      <th>FirstB_B00006</th>\n",
              "      <th>FirstB_B00007</th>\n",
              "      <th>FirstB_B00009</th>\n",
              "      <th>FirstB_B00010</th>\n",
              "      <th>FirstB_B00011</th>\n",
              "      <th>FirstB_B00012</th>\n",
              "      <th>FirstB_B00013</th>\n",
              "      <th>FirstB_B00014</th>\n",
              "      <th>FirstB_B00015</th>\n",
              "      <th>FirstB_B00016</th>\n",
              "      <th>FirstB_B00017</th>\n",
              "      <th>FirstB_B00018</th>\n",
              "      <th>FirstB_B00019</th>\n",
              "      <th>FirstB_B00020</th>\n",
              "      <th>FirstB_B00021</th>\n",
              "      <th>FirstB_B00022</th>\n",
              "      <th>FirstB_B00023</th>\n",
              "      <th>FirstB_B00024</th>\n",
              "      <th>FirstB_B00025</th>\n",
              "      <th>FirstB_B00026</th>\n",
              "      <th>...</th>\n",
              "      <th>FirstB_B00044</th>\n",
              "      <th>FirstB_B00045</th>\n",
              "      <th>FirstB_B00046</th>\n",
              "      <th>FirstB_B00047</th>\n",
              "      <th>FirstB_B00048</th>\n",
              "      <th>FirstB_B00049</th>\n",
              "      <th>FirstB_B00050</th>\n",
              "      <th>FirstB_B00051</th>\n",
              "      <th>FirstB_B00053</th>\n",
              "      <th>FirstB_B00054</th>\n",
              "      <th>FirstB_B00055</th>\n",
              "      <th>FirstB_B00056</th>\n",
              "      <th>FirstB_B00057</th>\n",
              "      <th>FirstB_B00058</th>\n",
              "      <th>FirstB_B00060</th>\n",
              "      <th>FirstB_B00061</th>\n",
              "      <th>FirstB_B00062</th>\n",
              "      <th>FirstB_B00063</th>\n",
              "      <th>FirstB_B00065</th>\n",
              "      <th>FirstB_B00066</th>\n",
              "      <th>FirstB_B00067</th>\n",
              "      <th>FirstB_B00069</th>\n",
              "      <th>FirstB_B00070</th>\n",
              "      <th>FirstB_B00071</th>\n",
              "      <th>FirstB_B00072</th>\n",
              "      <th>FirstB_B00075</th>\n",
              "      <th>FirstB_B00077</th>\n",
              "      <th>FirstB_B00079</th>\n",
              "      <th>FirstB_B00088</th>\n",
              "      <th>FirstB_B00091</th>\n",
              "      <th>MostA_A00002</th>\n",
              "      <th>MostA_A00003</th>\n",
              "      <th>MostA_A00004</th>\n",
              "      <th>MostA_A00005</th>\n",
              "      <th>MostA_A00006</th>\n",
              "      <th>MostA_A00007</th>\n",
              "      <th>MostA_A00008</th>\n",
              "      <th>MostA_A00009</th>\n",
              "      <th>MostA_A00010</th>\n",
              "      <th>MostA_A00011</th>\n",
              "    </tr>\n",
              "  </thead>\n",
              "  <tbody>\n",
              "    <tr>\n",
              "      <th>0</th>\n",
              "      <td>1</td>\n",
              "      <td>1</td>\n",
              "      <td>1</td>\n",
              "      <td>0.0</td>\n",
              "      <td>1</td>\n",
              "      <td>13</td>\n",
              "      <td>1</td>\n",
              "      <td>0</td>\n",
              "      <td>0</td>\n",
              "      <td>0</td>\n",
              "      <td>0</td>\n",
              "      <td>0</td>\n",
              "      <td>0</td>\n",
              "      <td>0</td>\n",
              "      <td>0</td>\n",
              "      <td>0</td>\n",
              "      <td>0</td>\n",
              "      <td>1</td>\n",
              "      <td>0</td>\n",
              "      <td>0</td>\n",
              "      <td>0</td>\n",
              "      <td>0</td>\n",
              "      <td>0</td>\n",
              "      <td>0</td>\n",
              "      <td>0</td>\n",
              "      <td>0</td>\n",
              "      <td>0</td>\n",
              "      <td>0</td>\n",
              "      <td>0</td>\n",
              "      <td>0</td>\n",
              "      <td>0</td>\n",
              "      <td>0</td>\n",
              "      <td>0</td>\n",
              "      <td>0</td>\n",
              "      <td>0</td>\n",
              "      <td>0</td>\n",
              "      <td>0</td>\n",
              "      <td>0</td>\n",
              "      <td>0</td>\n",
              "      <td>0</td>\n",
              "      <td>...</td>\n",
              "      <td>0</td>\n",
              "      <td>0</td>\n",
              "      <td>0</td>\n",
              "      <td>0</td>\n",
              "      <td>0</td>\n",
              "      <td>0</td>\n",
              "      <td>0</td>\n",
              "      <td>0</td>\n",
              "      <td>0</td>\n",
              "      <td>0</td>\n",
              "      <td>0</td>\n",
              "      <td>0</td>\n",
              "      <td>0</td>\n",
              "      <td>0</td>\n",
              "      <td>0</td>\n",
              "      <td>0</td>\n",
              "      <td>0</td>\n",
              "      <td>0</td>\n",
              "      <td>0</td>\n",
              "      <td>0</td>\n",
              "      <td>0</td>\n",
              "      <td>0</td>\n",
              "      <td>0</td>\n",
              "      <td>0</td>\n",
              "      <td>0</td>\n",
              "      <td>0</td>\n",
              "      <td>0</td>\n",
              "      <td>0</td>\n",
              "      <td>0</td>\n",
              "      <td>0</td>\n",
              "      <td>1</td>\n",
              "      <td>0</td>\n",
              "      <td>0</td>\n",
              "      <td>0</td>\n",
              "      <td>0</td>\n",
              "      <td>0</td>\n",
              "      <td>0</td>\n",
              "      <td>0</td>\n",
              "      <td>0</td>\n",
              "      <td>0</td>\n",
              "    </tr>\n",
              "    <tr>\n",
              "      <th>1</th>\n",
              "      <td>1</td>\n",
              "      <td>1</td>\n",
              "      <td>1</td>\n",
              "      <td>0.0</td>\n",
              "      <td>4</td>\n",
              "      <td>13</td>\n",
              "      <td>1</td>\n",
              "      <td>0</td>\n",
              "      <td>0</td>\n",
              "      <td>0</td>\n",
              "      <td>0</td>\n",
              "      <td>0</td>\n",
              "      <td>0</td>\n",
              "      <td>0</td>\n",
              "      <td>0</td>\n",
              "      <td>0</td>\n",
              "      <td>0</td>\n",
              "      <td>0</td>\n",
              "      <td>0</td>\n",
              "      <td>1</td>\n",
              "      <td>0</td>\n",
              "      <td>0</td>\n",
              "      <td>0</td>\n",
              "      <td>0</td>\n",
              "      <td>0</td>\n",
              "      <td>0</td>\n",
              "      <td>0</td>\n",
              "      <td>0</td>\n",
              "      <td>0</td>\n",
              "      <td>0</td>\n",
              "      <td>0</td>\n",
              "      <td>0</td>\n",
              "      <td>0</td>\n",
              "      <td>0</td>\n",
              "      <td>0</td>\n",
              "      <td>0</td>\n",
              "      <td>0</td>\n",
              "      <td>0</td>\n",
              "      <td>0</td>\n",
              "      <td>0</td>\n",
              "      <td>...</td>\n",
              "      <td>0</td>\n",
              "      <td>0</td>\n",
              "      <td>0</td>\n",
              "      <td>0</td>\n",
              "      <td>0</td>\n",
              "      <td>0</td>\n",
              "      <td>0</td>\n",
              "      <td>0</td>\n",
              "      <td>0</td>\n",
              "      <td>0</td>\n",
              "      <td>0</td>\n",
              "      <td>0</td>\n",
              "      <td>0</td>\n",
              "      <td>0</td>\n",
              "      <td>0</td>\n",
              "      <td>0</td>\n",
              "      <td>0</td>\n",
              "      <td>0</td>\n",
              "      <td>0</td>\n",
              "      <td>0</td>\n",
              "      <td>0</td>\n",
              "      <td>0</td>\n",
              "      <td>0</td>\n",
              "      <td>0</td>\n",
              "      <td>0</td>\n",
              "      <td>0</td>\n",
              "      <td>0</td>\n",
              "      <td>0</td>\n",
              "      <td>0</td>\n",
              "      <td>0</td>\n",
              "      <td>1</td>\n",
              "      <td>0</td>\n",
              "      <td>0</td>\n",
              "      <td>0</td>\n",
              "      <td>0</td>\n",
              "      <td>0</td>\n",
              "      <td>0</td>\n",
              "      <td>0</td>\n",
              "      <td>0</td>\n",
              "      <td>0</td>\n",
              "    </tr>\n",
              "    <tr>\n",
              "      <th>2</th>\n",
              "      <td>1</td>\n",
              "      <td>1</td>\n",
              "      <td>1</td>\n",
              "      <td>0.0</td>\n",
              "      <td>6</td>\n",
              "      <td>10</td>\n",
              "      <td>1</td>\n",
              "      <td>0</td>\n",
              "      <td>0</td>\n",
              "      <td>0</td>\n",
              "      <td>0</td>\n",
              "      <td>0</td>\n",
              "      <td>0</td>\n",
              "      <td>0</td>\n",
              "      <td>0</td>\n",
              "      <td>0</td>\n",
              "      <td>1</td>\n",
              "      <td>0</td>\n",
              "      <td>0</td>\n",
              "      <td>0</td>\n",
              "      <td>0</td>\n",
              "      <td>0</td>\n",
              "      <td>0</td>\n",
              "      <td>0</td>\n",
              "      <td>0</td>\n",
              "      <td>0</td>\n",
              "      <td>0</td>\n",
              "      <td>0</td>\n",
              "      <td>0</td>\n",
              "      <td>0</td>\n",
              "      <td>0</td>\n",
              "      <td>0</td>\n",
              "      <td>0</td>\n",
              "      <td>0</td>\n",
              "      <td>0</td>\n",
              "      <td>0</td>\n",
              "      <td>0</td>\n",
              "      <td>0</td>\n",
              "      <td>0</td>\n",
              "      <td>0</td>\n",
              "      <td>...</td>\n",
              "      <td>0</td>\n",
              "      <td>0</td>\n",
              "      <td>0</td>\n",
              "      <td>0</td>\n",
              "      <td>0</td>\n",
              "      <td>0</td>\n",
              "      <td>0</td>\n",
              "      <td>0</td>\n",
              "      <td>0</td>\n",
              "      <td>0</td>\n",
              "      <td>0</td>\n",
              "      <td>0</td>\n",
              "      <td>0</td>\n",
              "      <td>0</td>\n",
              "      <td>0</td>\n",
              "      <td>0</td>\n",
              "      <td>0</td>\n",
              "      <td>0</td>\n",
              "      <td>0</td>\n",
              "      <td>0</td>\n",
              "      <td>0</td>\n",
              "      <td>0</td>\n",
              "      <td>0</td>\n",
              "      <td>0</td>\n",
              "      <td>0</td>\n",
              "      <td>0</td>\n",
              "      <td>0</td>\n",
              "      <td>0</td>\n",
              "      <td>0</td>\n",
              "      <td>0</td>\n",
              "      <td>1</td>\n",
              "      <td>0</td>\n",
              "      <td>0</td>\n",
              "      <td>0</td>\n",
              "      <td>0</td>\n",
              "      <td>0</td>\n",
              "      <td>0</td>\n",
              "      <td>0</td>\n",
              "      <td>0</td>\n",
              "      <td>0</td>\n",
              "    </tr>\n",
              "    <tr>\n",
              "      <th>3</th>\n",
              "      <td>4</td>\n",
              "      <td>1</td>\n",
              "      <td>1</td>\n",
              "      <td>3.0</td>\n",
              "      <td>1</td>\n",
              "      <td>20</td>\n",
              "      <td>1</td>\n",
              "      <td>0</td>\n",
              "      <td>0</td>\n",
              "      <td>0</td>\n",
              "      <td>0</td>\n",
              "      <td>0</td>\n",
              "      <td>0</td>\n",
              "      <td>0</td>\n",
              "      <td>0</td>\n",
              "      <td>0</td>\n",
              "      <td>0</td>\n",
              "      <td>1</td>\n",
              "      <td>0</td>\n",
              "      <td>0</td>\n",
              "      <td>0</td>\n",
              "      <td>0</td>\n",
              "      <td>0</td>\n",
              "      <td>0</td>\n",
              "      <td>0</td>\n",
              "      <td>0</td>\n",
              "      <td>0</td>\n",
              "      <td>0</td>\n",
              "      <td>0</td>\n",
              "      <td>0</td>\n",
              "      <td>0</td>\n",
              "      <td>0</td>\n",
              "      <td>0</td>\n",
              "      <td>0</td>\n",
              "      <td>0</td>\n",
              "      <td>0</td>\n",
              "      <td>0</td>\n",
              "      <td>0</td>\n",
              "      <td>0</td>\n",
              "      <td>0</td>\n",
              "      <td>...</td>\n",
              "      <td>0</td>\n",
              "      <td>0</td>\n",
              "      <td>0</td>\n",
              "      <td>0</td>\n",
              "      <td>0</td>\n",
              "      <td>0</td>\n",
              "      <td>0</td>\n",
              "      <td>0</td>\n",
              "      <td>0</td>\n",
              "      <td>0</td>\n",
              "      <td>0</td>\n",
              "      <td>0</td>\n",
              "      <td>0</td>\n",
              "      <td>0</td>\n",
              "      <td>0</td>\n",
              "      <td>0</td>\n",
              "      <td>0</td>\n",
              "      <td>0</td>\n",
              "      <td>0</td>\n",
              "      <td>0</td>\n",
              "      <td>0</td>\n",
              "      <td>0</td>\n",
              "      <td>0</td>\n",
              "      <td>0</td>\n",
              "      <td>0</td>\n",
              "      <td>0</td>\n",
              "      <td>0</td>\n",
              "      <td>0</td>\n",
              "      <td>0</td>\n",
              "      <td>0</td>\n",
              "      <td>1</td>\n",
              "      <td>0</td>\n",
              "      <td>0</td>\n",
              "      <td>0</td>\n",
              "      <td>0</td>\n",
              "      <td>0</td>\n",
              "      <td>0</td>\n",
              "      <td>0</td>\n",
              "      <td>0</td>\n",
              "      <td>0</td>\n",
              "    </tr>\n",
              "    <tr>\n",
              "      <th>4</th>\n",
              "      <td>1</td>\n",
              "      <td>1</td>\n",
              "      <td>1</td>\n",
              "      <td>0.0</td>\n",
              "      <td>0</td>\n",
              "      <td>19</td>\n",
              "      <td>1</td>\n",
              "      <td>0</td>\n",
              "      <td>0</td>\n",
              "      <td>0</td>\n",
              "      <td>0</td>\n",
              "      <td>0</td>\n",
              "      <td>0</td>\n",
              "      <td>0</td>\n",
              "      <td>0</td>\n",
              "      <td>0</td>\n",
              "      <td>0</td>\n",
              "      <td>0</td>\n",
              "      <td>0</td>\n",
              "      <td>0</td>\n",
              "      <td>0</td>\n",
              "      <td>0</td>\n",
              "      <td>0</td>\n",
              "      <td>0</td>\n",
              "      <td>0</td>\n",
              "      <td>0</td>\n",
              "      <td>0</td>\n",
              "      <td>0</td>\n",
              "      <td>0</td>\n",
              "      <td>0</td>\n",
              "      <td>0</td>\n",
              "      <td>0</td>\n",
              "      <td>0</td>\n",
              "      <td>0</td>\n",
              "      <td>0</td>\n",
              "      <td>0</td>\n",
              "      <td>0</td>\n",
              "      <td>0</td>\n",
              "      <td>0</td>\n",
              "      <td>0</td>\n",
              "      <td>...</td>\n",
              "      <td>0</td>\n",
              "      <td>0</td>\n",
              "      <td>0</td>\n",
              "      <td>0</td>\n",
              "      <td>0</td>\n",
              "      <td>0</td>\n",
              "      <td>0</td>\n",
              "      <td>0</td>\n",
              "      <td>0</td>\n",
              "      <td>0</td>\n",
              "      <td>0</td>\n",
              "      <td>0</td>\n",
              "      <td>0</td>\n",
              "      <td>0</td>\n",
              "      <td>0</td>\n",
              "      <td>0</td>\n",
              "      <td>0</td>\n",
              "      <td>0</td>\n",
              "      <td>0</td>\n",
              "      <td>0</td>\n",
              "      <td>0</td>\n",
              "      <td>0</td>\n",
              "      <td>0</td>\n",
              "      <td>0</td>\n",
              "      <td>0</td>\n",
              "      <td>0</td>\n",
              "      <td>0</td>\n",
              "      <td>0</td>\n",
              "      <td>0</td>\n",
              "      <td>0</td>\n",
              "      <td>1</td>\n",
              "      <td>0</td>\n",
              "      <td>0</td>\n",
              "      <td>0</td>\n",
              "      <td>0</td>\n",
              "      <td>0</td>\n",
              "      <td>0</td>\n",
              "      <td>0</td>\n",
              "      <td>0</td>\n",
              "      <td>0</td>\n",
              "    </tr>\n",
              "  </tbody>\n",
              "</table>\n",
              "<p>5 rows × 96 columns</p>\n",
              "</div>"
            ],
            "text/plain": [
              "   NumProduct  UniqueA  UniqueB  ...  MostA_A00009  MostA_A00010  MostA_A00011\n",
              "0           1        1        1  ...             0             0             0\n",
              "1           1        1        1  ...             0             0             0\n",
              "2           1        1        1  ...             0             0             0\n",
              "3           4        1        1  ...             0             0             0\n",
              "4           1        1        1  ...             0             0             0\n",
              "\n",
              "[5 rows x 96 columns]"
            ]
          },
          "metadata": {
            "tags": []
          },
          "execution_count": 31
        }
      ]
    },
    {
      "cell_type": "code",
      "metadata": {
        "id": "0eoO7iLqYWgy",
        "colab_type": "code",
        "colab": {
          "base_uri": "https://localhost:8080/",
          "height": 1000
        },
        "outputId": "70f7a026-2315-4258-eeec-f722d06e6ecf"
      },
      "source": [
        "data_test.info()"
      ],
      "execution_count": 32,
      "outputs": [
        {
          "output_type": "stream",
          "text": [
            "<class 'pandas.core.frame.DataFrame'>\n",
            "RangeIndex: 4500 entries, 0 to 4499\n",
            "Data columns (total 96 columns):\n",
            " #   Column         Non-Null Count  Dtype  \n",
            "---  ------         --------------  -----  \n",
            " 0   NumProduct     4500 non-null   int64  \n",
            " 1   UniqueA        4500 non-null   int64  \n",
            " 2   UniqueB        4500 non-null   int64  \n",
            " 3   duration       4500 non-null   float64\n",
            " 4   weekday        4500 non-null   int64  \n",
            " 5   hour_24h       4500 non-null   int64  \n",
            " 6   FirstA_A00002  4500 non-null   uint8  \n",
            " 7   FirstA_A00003  4500 non-null   uint8  \n",
            " 8   FirstA_A00004  4500 non-null   uint8  \n",
            " 9   FirstA_A00005  4500 non-null   uint8  \n",
            " 10  FirstA_A00006  4500 non-null   uint8  \n",
            " 11  FirstA_A00007  4500 non-null   uint8  \n",
            " 12  FirstA_A00008  4500 non-null   uint8  \n",
            " 13  FirstA_A00009  4500 non-null   uint8  \n",
            " 14  FirstA_A00010  4500 non-null   uint8  \n",
            " 15  FirstA_A00011  4500 non-null   uint8  \n",
            " 16  FirstB_B00002  4500 non-null   uint8  \n",
            " 17  FirstB_B00003  4500 non-null   uint8  \n",
            " 18  FirstB_B00004  4500 non-null   uint8  \n",
            " 19  FirstB_B00005  4500 non-null   uint8  \n",
            " 20  FirstB_B00006  4500 non-null   uint8  \n",
            " 21  FirstB_B00007  4500 non-null   uint8  \n",
            " 22  FirstB_B00009  4500 non-null   uint8  \n",
            " 23  FirstB_B00010  4500 non-null   uint8  \n",
            " 24  FirstB_B00011  4500 non-null   uint8  \n",
            " 25  FirstB_B00012  4500 non-null   uint8  \n",
            " 26  FirstB_B00013  4500 non-null   uint8  \n",
            " 27  FirstB_B00014  4500 non-null   uint8  \n",
            " 28  FirstB_B00015  4500 non-null   uint8  \n",
            " 29  FirstB_B00016  4500 non-null   uint8  \n",
            " 30  FirstB_B00017  4500 non-null   uint8  \n",
            " 31  FirstB_B00018  4500 non-null   uint8  \n",
            " 32  FirstB_B00019  4500 non-null   uint8  \n",
            " 33  FirstB_B00020  4500 non-null   uint8  \n",
            " 34  FirstB_B00021  4500 non-null   uint8  \n",
            " 35  FirstB_B00022  4500 non-null   uint8  \n",
            " 36  FirstB_B00023  4500 non-null   uint8  \n",
            " 37  FirstB_B00024  4500 non-null   uint8  \n",
            " 38  FirstB_B00025  4500 non-null   uint8  \n",
            " 39  FirstB_B00026  4500 non-null   uint8  \n",
            " 40  FirstB_B00027  4500 non-null   uint8  \n",
            " 41  FirstB_B00028  4500 non-null   uint8  \n",
            " 42  FirstB_B00029  4500 non-null   uint8  \n",
            " 43  FirstB_B00030  4500 non-null   uint8  \n",
            " 44  FirstB_B00031  4500 non-null   uint8  \n",
            " 45  FirstB_B00032  4500 non-null   uint8  \n",
            " 46  FirstB_B00034  4500 non-null   uint8  \n",
            " 47  FirstB_B00035  4500 non-null   uint8  \n",
            " 48  FirstB_B00036  4500 non-null   uint8  \n",
            " 49  FirstB_B00037  4500 non-null   uint8  \n",
            " 50  FirstB_B00038  4500 non-null   uint8  \n",
            " 51  FirstB_B00039  4500 non-null   uint8  \n",
            " 52  FirstB_B00040  4500 non-null   uint8  \n",
            " 53  FirstB_B00041  4500 non-null   uint8  \n",
            " 54  FirstB_B00042  4500 non-null   uint8  \n",
            " 55  FirstB_B00043  4500 non-null   uint8  \n",
            " 56  FirstB_B00044  4500 non-null   uint8  \n",
            " 57  FirstB_B00045  4500 non-null   uint8  \n",
            " 58  FirstB_B00046  4500 non-null   uint8  \n",
            " 59  FirstB_B00047  4500 non-null   uint8  \n",
            " 60  FirstB_B00048  4500 non-null   uint8  \n",
            " 61  FirstB_B00049  4500 non-null   uint8  \n",
            " 62  FirstB_B00050  4500 non-null   uint8  \n",
            " 63  FirstB_B00051  4500 non-null   uint8  \n",
            " 64  FirstB_B00053  4500 non-null   uint8  \n",
            " 65  FirstB_B00054  4500 non-null   uint8  \n",
            " 66  FirstB_B00055  4500 non-null   uint8  \n",
            " 67  FirstB_B00056  4500 non-null   uint8  \n",
            " 68  FirstB_B00057  4500 non-null   uint8  \n",
            " 69  FirstB_B00058  4500 non-null   uint8  \n",
            " 70  FirstB_B00060  4500 non-null   uint8  \n",
            " 71  FirstB_B00061  4500 non-null   uint8  \n",
            " 72  FirstB_B00062  4500 non-null   uint8  \n",
            " 73  FirstB_B00063  4500 non-null   uint8  \n",
            " 74  FirstB_B00065  4500 non-null   uint8  \n",
            " 75  FirstB_B00066  4500 non-null   uint8  \n",
            " 76  FirstB_B00067  4500 non-null   uint8  \n",
            " 77  FirstB_B00069  4500 non-null   uint8  \n",
            " 78  FirstB_B00070  4500 non-null   uint8  \n",
            " 79  FirstB_B00071  4500 non-null   uint8  \n",
            " 80  FirstB_B00072  4500 non-null   uint8  \n",
            " 81  FirstB_B00075  4500 non-null   uint8  \n",
            " 82  FirstB_B00077  4500 non-null   uint8  \n",
            " 83  FirstB_B00079  4500 non-null   uint8  \n",
            " 84  FirstB_B00088  4500 non-null   uint8  \n",
            " 85  FirstB_B00091  4500 non-null   uint8  \n",
            " 86  MostA_A00002   4500 non-null   uint8  \n",
            " 87  MostA_A00003   4500 non-null   uint8  \n",
            " 88  MostA_A00004   4500 non-null   uint8  \n",
            " 89  MostA_A00005   4500 non-null   uint8  \n",
            " 90  MostA_A00006   4500 non-null   uint8  \n",
            " 91  MostA_A00007   4500 non-null   uint8  \n",
            " 92  MostA_A00008   4500 non-null   uint8  \n",
            " 93  MostA_A00009   4500 non-null   uint8  \n",
            " 94  MostA_A00010   4500 non-null   uint8  \n",
            " 95  MostA_A00011   4500 non-null   uint8  \n",
            "dtypes: float64(1), int64(5), uint8(90)\n",
            "memory usage: 606.6 KB\n"
          ],
          "name": "stdout"
        }
      ]
    },
    {
      "cell_type": "code",
      "metadata": {
        "id": "i544d9BYY2go",
        "colab_type": "code",
        "colab": {}
      },
      "source": [
        ""
      ],
      "execution_count": 0,
      "outputs": []
    }
  ]
}